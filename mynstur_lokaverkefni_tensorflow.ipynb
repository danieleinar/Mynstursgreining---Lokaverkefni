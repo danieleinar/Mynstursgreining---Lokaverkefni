{
  "nbformat": 4,
  "nbformat_minor": 0,
  "metadata": {
    "colab": {
      "provenance": [],
      "authorship_tag": "ABX9TyPsL6VkCLzg+CeqBARW1s+R",
      "include_colab_link": true
    },
    "kernelspec": {
      "name": "python3",
      "display_name": "Python 3"
    },
    "language_info": {
      "name": "python"
    }
  },
  "cells": [
    {
      "cell_type": "markdown",
      "metadata": {
        "id": "view-in-github",
        "colab_type": "text"
      },
      "source": [
        "<a href=\"https://colab.research.google.com/github/danieleinar/Mynstursgreining---Lokaverkefni/blob/main/mynstur_lokaverkefni_tensorflow.ipynb\" target=\"_parent\"><img src=\"https://colab.research.google.com/assets/colab-badge.svg\" alt=\"Open In Colab\"/></a>"
      ]
    },
    {
      "cell_type": "code",
      "execution_count": null,
      "metadata": {
        "colab": {
          "base_uri": "https://localhost:8080/"
        },
        "id": "hl-_kTp-5pbt",
        "outputId": "86fc9536-a76d-4706-a2fd-396e240e4e72"
      },
      "outputs": [
        {
          "output_type": "stream",
          "name": "stdout",
          "text": [
            "Requirement already satisfied: chess in /usr/local/lib/python3.10/dist-packages (1.10.0)\n"
          ]
        }
      ],
      "source": [
        "!pip install chess"
      ]
    },
    {
      "cell_type": "code",
      "source": [
        "import chess\n",
        "import chess.syzygy\n",
        "import numpy as np"
      ],
      "metadata": {
        "id": "sO9fopef56G2"
      },
      "execution_count": null,
      "outputs": []
    },
    {
      "cell_type": "code",
      "source": [
        "from google.colab import drive\n",
        "drive.mount('/content/drive')\n",
        "%cd 'drive/My Drive/Colab Notebooks'"
      ],
      "metadata": {
        "colab": {
          "base_uri": "https://localhost:8080/"
        },
        "id": "F0oWIUUS59bV",
        "outputId": "7b661473-0e4f-4d42-d1c0-3780844e0b7c"
      },
      "execution_count": null,
      "outputs": [
        {
          "output_type": "stream",
          "name": "stdout",
          "text": [
            "Mounted at /content/drive\n",
            "/content/drive/My Drive/Colab Notebooks\n"
          ]
        }
      ]
    },
    {
      "cell_type": "code",
      "source": [
        "tablebase = chess.syzygy.Tablebase()\n",
        "tablebase.add_directory('Tablebase')"
      ],
      "metadata": {
        "colab": {
          "base_uri": "https://localhost:8080/"
        },
        "id": "NzhhmzgI6ATt",
        "outputId": "97c7df8f-80f3-4ff6-9cf8-1d2e3cad9b0e"
      },
      "execution_count": null,
      "outputs": [
        {
          "output_type": "execute_result",
          "data": {
            "text/plain": [
              "6"
            ]
          },
          "metadata": {},
          "execution_count": 4
        }
      ]
    },
    {
      "cell_type": "code",
      "source": [
        "board = chess.Board()\n",
        "board"
      ],
      "metadata": {
        "colab": {
          "base_uri": "https://localhost:8080/",
          "height": 411
        },
        "id": "JcFz1PO56DGE",
        "outputId": "c56c4bc9-6b8d-4a81-8bd3-c050d6755b5b"
      },
      "execution_count": null,
      "outputs": [
        {
          "output_type": "execute_result",
          "data": {
            "text/plain": [
              "Board('rnbqkbnr/pppppppp/8/8/8/8/PPPPPPPP/RNBQKBNR w KQkq - 0 1')"
            ],
            "image/svg+xml": "<svg xmlns=\"http://www.w3.org/2000/svg\" xmlns:xlink=\"http://www.w3.org/1999/xlink\" viewBox=\"0 0 390 390\" width=\"390\" height=\"390\"><desc><pre>r n b q k b n r\np p p p p p p p\n. . . . . . . .\n. . . . . . . .\n. . . . . . . .\n. . . . . . . .\nP P P P P P P P\nR N B Q K B N R</pre></desc><defs><g id=\"white-pawn\" class=\"white pawn\"><path d=\"M22.5 9c-2.21 0-4 1.79-4 4 0 .89.29 1.71.78 2.38C17.33 16.5 16 18.59 16 21c0 2.03.94 3.84 2.41 5.03-3 1.06-7.41 5.55-7.41 13.47h23c0-7.92-4.41-12.41-7.41-13.47 1.47-1.19 2.41-3 2.41-5.03 0-2.41-1.33-4.5-3.28-5.62.49-.67.78-1.49.78-2.38 0-2.21-1.79-4-4-4z\" fill=\"#fff\" stroke=\"#000\" stroke-width=\"1.5\" stroke-linecap=\"round\" /></g><g id=\"white-knight\" class=\"white knight\" fill=\"none\" fill-rule=\"evenodd\" stroke=\"#000\" stroke-width=\"1.5\" stroke-linecap=\"round\" stroke-linejoin=\"round\"><path d=\"M 22,10 C 32.5,11 38.5,18 38,39 L 15,39 C 15,30 25,32.5 23,18\" style=\"fill:#ffffff; stroke:#000000;\" /><path d=\"M 24,18 C 24.38,20.91 18.45,25.37 16,27 C 13,29 13.18,31.34 11,31 C 9.958,30.06 12.41,27.96 11,28 C 10,28 11.19,29.23 10,30 C 9,30 5.997,31 6,26 C 6,24 12,14 12,14 C 12,14 13.89,12.1 14,10.5 C 13.27,9.506 13.5,8.5 13.5,7.5 C 14.5,6.5 16.5,10 16.5,10 L 18.5,10 C 18.5,10 19.28,8.008 21,7 C 22,7 22,10 22,10\" style=\"fill:#ffffff; stroke:#000000;\" /><path d=\"M 9.5 25.5 A 0.5 0.5 0 1 1 8.5,25.5 A 0.5 0.5 0 1 1 9.5 25.5 z\" style=\"fill:#000000; stroke:#000000;\" /><path d=\"M 15 15.5 A 0.5 1.5 0 1 1 14,15.5 A 0.5 1.5 0 1 1 15 15.5 z\" transform=\"matrix(0.866,0.5,-0.5,0.866,9.693,-5.173)\" style=\"fill:#000000; stroke:#000000;\" /></g><g id=\"white-bishop\" class=\"white bishop\" fill=\"none\" fill-rule=\"evenodd\" stroke=\"#000\" stroke-width=\"1.5\" stroke-linecap=\"round\" stroke-linejoin=\"round\"><g fill=\"#fff\" stroke-linecap=\"butt\"><path d=\"M9 36c3.39-.97 10.11.43 13.5-2 3.39 2.43 10.11 1.03 13.5 2 0 0 1.65.54 3 2-.68.97-1.65.99-3 .5-3.39-.97-10.11.46-13.5-1-3.39 1.46-10.11.03-13.5 1-1.354.49-2.323.47-3-.5 1.354-1.94 3-2 3-2zM15 32c2.5 2.5 12.5 2.5 15 0 .5-1.5 0-2 0-2 0-2.5-2.5-4-2.5-4 5.5-1.5 6-11.5-5-15.5-11 4-10.5 14-5 15.5 0 0-2.5 1.5-2.5 4 0 0-.5.5 0 2zM25 8a2.5 2.5 0 1 1-5 0 2.5 2.5 0 1 1 5 0z\" /></g><path d=\"M17.5 26h10M15 30h15m-7.5-14.5v5M20 18h5\" stroke-linejoin=\"miter\" /></g><g id=\"white-rook\" class=\"white rook\" fill=\"#fff\" fill-rule=\"evenodd\" stroke=\"#000\" stroke-width=\"1.5\" stroke-linecap=\"round\" stroke-linejoin=\"round\"><path d=\"M9 39h27v-3H9v3zM12 36v-4h21v4H12zM11 14V9h4v2h5V9h5v2h5V9h4v5\" stroke-linecap=\"butt\" /><path d=\"M34 14l-3 3H14l-3-3\" /><path d=\"M31 17v12.5H14V17\" stroke-linecap=\"butt\" stroke-linejoin=\"miter\" /><path d=\"M31 29.5l1.5 2.5h-20l1.5-2.5\" /><path d=\"M11 14h23\" fill=\"none\" stroke-linejoin=\"miter\" /></g><g id=\"white-queen\" class=\"white queen\" fill=\"#fff\" fill-rule=\"evenodd\" stroke=\"#000\" stroke-width=\"1.5\" stroke-linecap=\"round\" stroke-linejoin=\"round\"><path d=\"M8 12a2 2 0 1 1-4 0 2 2 0 1 1 4 0zM24.5 7.5a2 2 0 1 1-4 0 2 2 0 1 1 4 0zM41 12a2 2 0 1 1-4 0 2 2 0 1 1 4 0zM16 8.5a2 2 0 1 1-4 0 2 2 0 1 1 4 0zM33 9a2 2 0 1 1-4 0 2 2 0 1 1 4 0z\" /><path d=\"M9 26c8.5-1.5 21-1.5 27 0l2-12-7 11V11l-5.5 13.5-3-15-3 15-5.5-14V25L7 14l2 12zM9 26c0 2 1.5 2 2.5 4 1 1.5 1 1 .5 3.5-1.5 1-1.5 2.5-1.5 2.5-1.5 1.5.5 2.5.5 2.5 6.5 1 16.5 1 23 0 0 0 1.5-1 0-2.5 0 0 .5-1.5-1-2.5-.5-2.5-.5-2 .5-3.5 1-2 2.5-2 2.5-4-8.5-1.5-18.5-1.5-27 0z\" stroke-linecap=\"butt\" /><path d=\"M11.5 30c3.5-1 18.5-1 22 0M12 33.5c6-1 15-1 21 0\" fill=\"none\" /></g><g id=\"white-king\" class=\"white king\" fill=\"none\" fill-rule=\"evenodd\" stroke=\"#000\" stroke-width=\"1.5\" stroke-linecap=\"round\" stroke-linejoin=\"round\"><path d=\"M22.5 11.63V6M20 8h5\" stroke-linejoin=\"miter\" /><path d=\"M22.5 25s4.5-7.5 3-10.5c0 0-1-2.5-3-2.5s-3 2.5-3 2.5c-1.5 3 3 10.5 3 10.5\" fill=\"#fff\" stroke-linecap=\"butt\" stroke-linejoin=\"miter\" /><path d=\"M11.5 37c5.5 3.5 15.5 3.5 21 0v-7s9-4.5 6-10.5c-4-6.5-13.5-3.5-16 4V27v-3.5c-3.5-7.5-13-10.5-16-4-3 6 5 10 5 10V37z\" fill=\"#fff\" /><path d=\"M11.5 30c5.5-3 15.5-3 21 0m-21 3.5c5.5-3 15.5-3 21 0m-21 3.5c5.5-3 15.5-3 21 0\" /></g><g id=\"black-pawn\" class=\"black pawn\"><path d=\"M22.5 9c-2.21 0-4 1.79-4 4 0 .89.29 1.71.78 2.38C17.33 16.5 16 18.59 16 21c0 2.03.94 3.84 2.41 5.03-3 1.06-7.41 5.55-7.41 13.47h23c0-7.92-4.41-12.41-7.41-13.47 1.47-1.19 2.41-3 2.41-5.03 0-2.41-1.33-4.5-3.28-5.62.49-.67.78-1.49.78-2.38 0-2.21-1.79-4-4-4z\" fill=\"#000\" stroke=\"#000\" stroke-width=\"1.5\" stroke-linecap=\"round\" /></g><g id=\"black-knight\" class=\"black knight\" fill=\"none\" fill-rule=\"evenodd\" stroke=\"#000\" stroke-width=\"1.5\" stroke-linecap=\"round\" stroke-linejoin=\"round\"><path d=\"M 22,10 C 32.5,11 38.5,18 38,39 L 15,39 C 15,30 25,32.5 23,18\" style=\"fill:#000000; stroke:#000000;\" /><path d=\"M 24,18 C 24.38,20.91 18.45,25.37 16,27 C 13,29 13.18,31.34 11,31 C 9.958,30.06 12.41,27.96 11,28 C 10,28 11.19,29.23 10,30 C 9,30 5.997,31 6,26 C 6,24 12,14 12,14 C 12,14 13.89,12.1 14,10.5 C 13.27,9.506 13.5,8.5 13.5,7.5 C 14.5,6.5 16.5,10 16.5,10 L 18.5,10 C 18.5,10 19.28,8.008 21,7 C 22,7 22,10 22,10\" style=\"fill:#000000; stroke:#000000;\" /><path d=\"M 9.5 25.5 A 0.5 0.5 0 1 1 8.5,25.5 A 0.5 0.5 0 1 1 9.5 25.5 z\" style=\"fill:#ececec; stroke:#ececec;\" /><path d=\"M 15 15.5 A 0.5 1.5 0 1 1 14,15.5 A 0.5 1.5 0 1 1 15 15.5 z\" transform=\"matrix(0.866,0.5,-0.5,0.866,9.693,-5.173)\" style=\"fill:#ececec; stroke:#ececec;\" /><path d=\"M 24.55,10.4 L 24.1,11.85 L 24.6,12 C 27.75,13 30.25,14.49 32.5,18.75 C 34.75,23.01 35.75,29.06 35.25,39 L 35.2,39.5 L 37.45,39.5 L 37.5,39 C 38,28.94 36.62,22.15 34.25,17.66 C 31.88,13.17 28.46,11.02 25.06,10.5 L 24.55,10.4 z \" style=\"fill:#ececec; stroke:none;\" /></g><g id=\"black-bishop\" class=\"black bishop\" fill=\"none\" fill-rule=\"evenodd\" stroke=\"#000\" stroke-width=\"1.5\" stroke-linecap=\"round\" stroke-linejoin=\"round\"><path d=\"M9 36c3.39-.97 10.11.43 13.5-2 3.39 2.43 10.11 1.03 13.5 2 0 0 1.65.54 3 2-.68.97-1.65.99-3 .5-3.39-.97-10.11.46-13.5-1-3.39 1.46-10.11.03-13.5 1-1.354.49-2.323.47-3-.5 1.354-1.94 3-2 3-2zm6-4c2.5 2.5 12.5 2.5 15 0 .5-1.5 0-2 0-2 0-2.5-2.5-4-2.5-4 5.5-1.5 6-11.5-5-15.5-11 4-10.5 14-5 15.5 0 0-2.5 1.5-2.5 4 0 0-.5.5 0 2zM25 8a2.5 2.5 0 1 1-5 0 2.5 2.5 0 1 1 5 0z\" fill=\"#000\" stroke-linecap=\"butt\" /><path d=\"M17.5 26h10M15 30h15m-7.5-14.5v5M20 18h5\" stroke=\"#fff\" stroke-linejoin=\"miter\" /></g><g id=\"black-rook\" class=\"black rook\" fill=\"#000\" fill-rule=\"evenodd\" stroke=\"#000\" stroke-width=\"1.5\" stroke-linecap=\"round\" stroke-linejoin=\"round\"><path d=\"M9 39h27v-3H9v3zM12.5 32l1.5-2.5h17l1.5 2.5h-20zM12 36v-4h21v4H12z\" stroke-linecap=\"butt\" /><path d=\"M14 29.5v-13h17v13H14z\" stroke-linecap=\"butt\" stroke-linejoin=\"miter\" /><path d=\"M14 16.5L11 14h23l-3 2.5H14zM11 14V9h4v2h5V9h5v2h5V9h4v5H11z\" stroke-linecap=\"butt\" /><path d=\"M12 35.5h21M13 31.5h19M14 29.5h17M14 16.5h17M11 14h23\" fill=\"none\" stroke=\"#fff\" stroke-width=\"1\" stroke-linejoin=\"miter\" /></g><g id=\"black-queen\" class=\"black queen\" fill=\"#000\" fill-rule=\"evenodd\" stroke=\"#000\" stroke-width=\"1.5\" stroke-linecap=\"round\" stroke-linejoin=\"round\"><g fill=\"#000\" stroke=\"none\"><circle cx=\"6\" cy=\"12\" r=\"2.75\" /><circle cx=\"14\" cy=\"9\" r=\"2.75\" /><circle cx=\"22.5\" cy=\"8\" r=\"2.75\" /><circle cx=\"31\" cy=\"9\" r=\"2.75\" /><circle cx=\"39\" cy=\"12\" r=\"2.75\" /></g><path d=\"M9 26c8.5-1.5 21-1.5 27 0l2.5-12.5L31 25l-.3-14.1-5.2 13.6-3-14.5-3 14.5-5.2-13.6L14 25 6.5 13.5 9 26zM9 26c0 2 1.5 2 2.5 4 1 1.5 1 1 .5 3.5-1.5 1-1.5 2.5-1.5 2.5-1.5 1.5.5 2.5.5 2.5 6.5 1 16.5 1 23 0 0 0 1.5-1 0-2.5 0 0 .5-1.5-1-2.5-.5-2.5-.5-2 .5-3.5 1-2 2.5-2 2.5-4-8.5-1.5-18.5-1.5-27 0z\" stroke-linecap=\"butt\" /><path d=\"M11 38.5a35 35 1 0 0 23 0\" fill=\"none\" stroke-linecap=\"butt\" /><path d=\"M11 29a35 35 1 0 1 23 0M12.5 31.5h20M11.5 34.5a35 35 1 0 0 22 0M10.5 37.5a35 35 1 0 0 24 0\" fill=\"none\" stroke=\"#fff\" /></g><g id=\"black-king\" class=\"black king\" fill=\"none\" fill-rule=\"evenodd\" stroke=\"#000\" stroke-width=\"1.5\" stroke-linecap=\"round\" stroke-linejoin=\"round\"><path d=\"M22.5 11.63V6\" stroke-linejoin=\"miter\" /><path d=\"M22.5 25s4.5-7.5 3-10.5c0 0-1-2.5-3-2.5s-3 2.5-3 2.5c-1.5 3 3 10.5 3 10.5\" fill=\"#000\" stroke-linecap=\"butt\" stroke-linejoin=\"miter\" /><path d=\"M11.5 37c5.5 3.5 15.5 3.5 21 0v-7s9-4.5 6-10.5c-4-6.5-13.5-3.5-16 4V27v-3.5c-3.5-7.5-13-10.5-16-4-3 6 5 10 5 10V37z\" fill=\"#000\" /><path d=\"M20 8h5\" stroke-linejoin=\"miter\" /><path d=\"M32 29.5s8.5-4 6.03-9.65C34.15 14 25 18 22.5 24.5l.01 2.1-.01-2.1C20 18 9.906 14 6.997 19.85c-2.497 5.65 4.853 9 4.853 9M11.5 30c5.5-3 15.5-3 21 0m-21 3.5c5.5-3 15.5-3 21 0m-21 3.5c5.5-3 15.5-3 21 0\" stroke=\"#fff\" /></g></defs><rect x=\"7.5\" y=\"7.5\" width=\"375\" height=\"375\" fill=\"none\" stroke=\"#212121\" stroke-width=\"15\" /><g transform=\"translate(20, 1) scale(0.75, 0.75)\" fill=\"#e5e5e5\" stroke=\"#e5e5e5\"><path d=\"M23.328 10.016q-1.742 0-2.414.398-.672.398-.672 1.36 0 .765.5 1.218.508.445 1.375.445 1.196 0 1.914-.843.727-.852.727-2.258v-.32zm2.867-.594v4.992h-1.437v-1.328q-.492.797-1.227 1.18-.734.375-1.797.375-1.343 0-2.14-.75-.79-.758-.79-2.024 0-1.476.985-2.226.992-.75 2.953-.75h2.016V8.75q0-.992-.656-1.531-.649-.547-1.829-.547-.75 0-1.46.18-.711.18-1.368.539V6.062q.79-.304 1.532-.453.742-.156 1.445-.156 1.898 0 2.836.984.937.985.937 2.985z\" /></g><g transform=\"translate(20, 375) scale(0.75, 0.75)\" fill=\"#e5e5e5\" stroke=\"#e5e5e5\"><path d=\"M23.328 10.016q-1.742 0-2.414.398-.672.398-.672 1.36 0 .765.5 1.218.508.445 1.375.445 1.196 0 1.914-.843.727-.852.727-2.258v-.32zm2.867-.594v4.992h-1.437v-1.328q-.492.797-1.227 1.18-.734.375-1.797.375-1.343 0-2.14-.75-.79-.758-.79-2.024 0-1.476.985-2.226.992-.75 2.953-.75h2.016V8.75q0-.992-.656-1.531-.649-.547-1.829-.547-.75 0-1.46.18-.711.18-1.368.539V6.062q.79-.304 1.532-.453.742-.156 1.445-.156 1.898 0 2.836.984.937.985.937 2.985z\" /></g><g transform=\"translate(65, 1) scale(0.75, 0.75)\" fill=\"#e5e5e5\" stroke=\"#e5e5e5\"><path d=\"M24.922 10.047q0-1.586-.656-2.485-.649-.906-1.79-.906-1.14 0-1.796.906-.649.899-.649 2.485 0 1.586.649 2.492.656.898 1.797.898 1.14 0 1.789-.898.656-.906.656-2.492zm-4.89-3.055q.452-.781 1.14-1.156.695-.383 1.656-.383 1.594 0 2.586 1.266 1 1.265 1 3.328 0 2.062-1 3.328-.992 1.266-2.586 1.266-.96 0-1.656-.375-.688-.383-1.14-1.164v1.312h-1.446V2.258h1.445z\" /></g><g transform=\"translate(65, 375) scale(0.75, 0.75)\" fill=\"#e5e5e5\" stroke=\"#e5e5e5\"><path d=\"M24.922 10.047q0-1.586-.656-2.485-.649-.906-1.79-.906-1.14 0-1.796.906-.649.899-.649 2.485 0 1.586.649 2.492.656.898 1.797.898 1.14 0 1.789-.898.656-.906.656-2.492zm-4.89-3.055q.452-.781 1.14-1.156.695-.383 1.656-.383 1.594 0 2.586 1.266 1 1.265 1 3.328 0 2.062-1 3.328-.992 1.266-2.586 1.266-.96 0-1.656-.375-.688-.383-1.14-1.164v1.312h-1.446V2.258h1.445z\" /></g><g transform=\"translate(110, 1) scale(0.75, 0.75)\" fill=\"#e5e5e5\" stroke=\"#e5e5e5\"><path d=\"M25.96 6v1.344q-.608-.336-1.226-.5-.609-.172-1.234-.172-1.398 0-2.172.89-.773.883-.773 2.485 0 1.601.773 2.492.774.883 2.172.883.625 0 1.234-.164.618-.172 1.227-.508v1.328q-.602.281-1.25.422-.64.14-1.367.14-1.977 0-3.14-1.242-1.165-1.242-1.165-3.351 0-2.14 1.172-3.367 1.18-1.227 3.227-1.227.664 0 1.296.14.633.134 1.227.407z\" /></g><g transform=\"translate(110, 375) scale(0.75, 0.75)\" fill=\"#e5e5e5\" stroke=\"#e5e5e5\"><path d=\"M25.96 6v1.344q-.608-.336-1.226-.5-.609-.172-1.234-.172-1.398 0-2.172.89-.773.883-.773 2.485 0 1.601.773 2.492.774.883 2.172.883.625 0 1.234-.164.618-.172 1.227-.508v1.328q-.602.281-1.25.422-.64.14-1.367.14-1.977 0-3.14-1.242-1.165-1.242-1.165-3.351 0-2.14 1.172-3.367 1.18-1.227 3.227-1.227.664 0 1.296.14.633.134 1.227.407z\" /></g><g transform=\"translate(155, 1) scale(0.75, 0.75)\" fill=\"#e5e5e5\" stroke=\"#e5e5e5\"><path d=\"M24.973 6.992V2.258h1.437v12.156h-1.437v-1.312q-.453.78-1.149 1.164-.687.375-1.656.375-1.586 0-2.586-1.266-.992-1.266-.992-3.328 0-2.063.992-3.328 1-1.266 2.586-1.266.969 0 1.656.383.696.375 1.149 1.156zm-4.899 3.055q0 1.586.649 2.492.656.898 1.797.898 1.14 0 1.796-.898.657-.906.657-2.492 0-1.586-.657-2.485-.656-.906-1.796-.906-1.141 0-1.797.906-.649.899-.649 2.485z\" /></g><g transform=\"translate(155, 375) scale(0.75, 0.75)\" fill=\"#e5e5e5\" stroke=\"#e5e5e5\"><path d=\"M24.973 6.992V2.258h1.437v12.156h-1.437v-1.312q-.453.78-1.149 1.164-.687.375-1.656.375-1.586 0-2.586-1.266-.992-1.266-.992-3.328 0-2.063.992-3.328 1-1.266 2.586-1.266.969 0 1.656.383.696.375 1.149 1.156zm-4.899 3.055q0 1.586.649 2.492.656.898 1.797.898 1.14 0 1.796-.898.657-.906.657-2.492 0-1.586-.657-2.485-.656-.906-1.796-.906-1.141 0-1.797.906-.649.899-.649 2.485z\" /></g><g transform=\"translate(200, 1) scale(0.75, 0.75)\" fill=\"#e5e5e5\" stroke=\"#e5e5e5\"><path d=\"M26.555 9.68v.703h-6.61q.094 1.484.89 2.265.806.774 2.235.774.828 0 1.602-.203.781-.203 1.547-.61v1.36q-.774.328-1.586.5-.813.172-1.649.172-2.093 0-3.32-1.22-1.219-1.218-1.219-3.296 0-2.148 1.157-3.406 1.164-1.266 3.132-1.266 1.766 0 2.79 1.14 1.03 1.134 1.03 3.087zm-1.438-.422q-.015-1.18-.664-1.883-.64-.703-1.703-.703-1.203 0-1.93.68-.718.68-.828 1.914z\" /></g><g transform=\"translate(200, 375) scale(0.75, 0.75)\" fill=\"#e5e5e5\" stroke=\"#e5e5e5\"><path d=\"M26.555 9.68v.703h-6.61q.094 1.484.89 2.265.806.774 2.235.774.828 0 1.602-.203.781-.203 1.547-.61v1.36q-.774.328-1.586.5-.813.172-1.649.172-2.093 0-3.32-1.22-1.219-1.218-1.219-3.296 0-2.148 1.157-3.406 1.164-1.266 3.132-1.266 1.766 0 2.79 1.14 1.03 1.134 1.03 3.087zm-1.438-.422q-.015-1.18-.664-1.883-.64-.703-1.703-.703-1.203 0-1.93.68-.718.68-.828 1.914z\" /></g><g transform=\"translate(245, 1) scale(0.75, 0.75)\" fill=\"#e5e5e5\" stroke=\"#e5e5e5\"><path d=\"M25.285 2.258v1.195H23.91q-.773 0-1.078.313-.297.312-.297 1.125v.773h2.367v1.117h-2.367v7.633H21.09V6.781h-1.375V5.664h1.375v-.61q0-1.46.68-2.124.68-.672 2.156-.672z\" /></g><g transform=\"translate(245, 375) scale(0.75, 0.75)\" fill=\"#e5e5e5\" stroke=\"#e5e5e5\"><path d=\"M25.285 2.258v1.195H23.91q-.773 0-1.078.313-.297.312-.297 1.125v.773h2.367v1.117h-2.367v7.633H21.09V6.781h-1.375V5.664h1.375v-.61q0-1.46.68-2.124.68-.672 2.156-.672z\" /></g><g transform=\"translate(290, 1) scale(0.75, 0.75)\" fill=\"#e5e5e5\" stroke=\"#e5e5e5\"><path d=\"M24.973 9.937q0-1.562-.649-2.421-.64-.86-1.804-.86-1.157 0-1.805.86-.64.859-.64 2.421 0 1.555.64 2.415.648.859 1.805.859 1.164 0 1.804-.86.649-.859.649-2.414zm1.437 3.391q0 2.234-.992 3.32-.992 1.094-3.04 1.094-.757 0-1.429-.117-.672-.11-1.304-.344v-1.398q.632.344 1.25.508.617.164 1.257.164 1.414 0 2.118-.743.703-.734.703-2.226v-.711q-.446.773-1.141 1.156-.695.383-1.664.383-1.61 0-2.594-1.227-.984-1.226-.984-3.25 0-2.03.984-3.257.985-1.227 2.594-1.227.969 0 1.664.383t1.14 1.156V5.664h1.438z\" /></g><g transform=\"translate(290, 375) scale(0.75, 0.75)\" fill=\"#e5e5e5\" stroke=\"#e5e5e5\"><path d=\"M24.973 9.937q0-1.562-.649-2.421-.64-.86-1.804-.86-1.157 0-1.805.86-.64.859-.64 2.421 0 1.555.64 2.415.648.859 1.805.859 1.164 0 1.804-.86.649-.859.649-2.414zm1.437 3.391q0 2.234-.992 3.32-.992 1.094-3.04 1.094-.757 0-1.429-.117-.672-.11-1.304-.344v-1.398q.632.344 1.25.508.617.164 1.257.164 1.414 0 2.118-.743.703-.734.703-2.226v-.711q-.446.773-1.141 1.156-.695.383-1.664.383-1.61 0-2.594-1.227-.984-1.226-.984-3.25 0-2.03.984-3.257.985-1.227 2.594-1.227.969 0 1.664.383t1.14 1.156V5.664h1.438z\" /></g><g transform=\"translate(335, 1) scale(0.75, 0.75)\" fill=\"#e5e5e5\" stroke=\"#e5e5e5\"><path d=\"M26.164 9.133v5.281h-1.437V9.18q0-1.243-.485-1.86-.484-.617-1.453-.617-1.164 0-1.836.742-.672.742-.672 2.024v4.945h-1.445V2.258h1.445v4.765q.516-.789 1.211-1.18.703-.39 1.617-.39 1.508 0 2.282.938.773.93.773 2.742z\" /></g><g transform=\"translate(335, 375) scale(0.75, 0.75)\" fill=\"#e5e5e5\" stroke=\"#e5e5e5\"><path d=\"M26.164 9.133v5.281h-1.437V9.18q0-1.243-.485-1.86-.484-.617-1.453-.617-1.164 0-1.836.742-.672.742-.672 2.024v4.945h-1.445V2.258h1.445v4.765q.516-.789 1.211-1.18.703-.39 1.617-.39 1.508 0 2.282.938.773.93.773 2.742z\" /></g><g transform=\"translate(0, 335) scale(0.75, 0.75)\" fill=\"#e5e5e5\" stroke=\"#e5e5e5\"><path d=\"M6.754 26.996h2.578v-8.898l-2.805.562v-1.437l2.79-.563h1.578v10.336h2.578v1.328h-6.72z\" /></g><g transform=\"translate(375, 335) scale(0.75, 0.75)\" fill=\"#e5e5e5\" stroke=\"#e5e5e5\"><path d=\"M6.754 26.996h2.578v-8.898l-2.805.562v-1.437l2.79-.563h1.578v10.336h2.578v1.328h-6.72z\" /></g><g transform=\"translate(0, 290) scale(0.75, 0.75)\" fill=\"#e5e5e5\" stroke=\"#e5e5e5\"><path d=\"M8.195 26.996h5.508v1.328H6.297v-1.328q.898-.93 2.445-2.492 1.555-1.57 1.953-2.024.758-.851 1.055-1.437.305-.594.305-1.164 0-.93-.657-1.516-.648-.586-1.695-.586-.742 0-1.57.258-.82.258-1.758.781v-1.593q.953-.383 1.781-.578.828-.196 1.516-.196 1.812 0 2.89.906 1.079.907 1.079 2.422 0 .72-.274 1.368-.265.64-.976 1.515-.196.227-1.243 1.313-1.046 1.078-2.953 3.023z\" /></g><g transform=\"translate(375, 290) scale(0.75, 0.75)\" fill=\"#e5e5e5\" stroke=\"#e5e5e5\"><path d=\"M8.195 26.996h5.508v1.328H6.297v-1.328q.898-.93 2.445-2.492 1.555-1.57 1.953-2.024.758-.851 1.055-1.437.305-.594.305-1.164 0-.93-.657-1.516-.648-.586-1.695-.586-.742 0-1.57.258-.82.258-1.758.781v-1.593q.953-.383 1.781-.578.828-.196 1.516-.196 1.812 0 2.89.906 1.079.907 1.079 2.422 0 .72-.274 1.368-.265.64-.976 1.515-.196.227-1.243 1.313-1.046 1.078-2.953 3.023z\" /></g><g transform=\"translate(0, 245) scale(0.75, 0.75)\" fill=\"#e5e5e5\" stroke=\"#e5e5e5\"><path d=\"M11.434 22.035q1.132.242 1.765 1.008.64.766.64 1.89 0 1.727-1.187 2.672-1.187.946-3.375.946-.734 0-1.515-.149-.774-.14-1.602-.43V26.45q.656.383 1.438.578.78.196 1.632.196 1.485 0 2.258-.586.782-.586.782-1.703 0-1.032-.727-1.61-.719-.586-2.008-.586h-1.36v-1.297h1.423q1.164 0 1.78-.46.618-.47.618-1.344 0-.899-.64-1.375-.633-.485-1.82-.485-.65 0-1.391.141-.743.14-1.633.437V16.95q.898-.25 1.68-.375.788-.125 1.484-.125 1.797 0 2.844.82 1.046.813 1.046 2.204 0 .968-.554 1.64-.555.664-1.578.922z\" /></g><g transform=\"translate(375, 245) scale(0.75, 0.75)\" fill=\"#e5e5e5\" stroke=\"#e5e5e5\"><path d=\"M11.434 22.035q1.132.242 1.765 1.008.64.766.64 1.89 0 1.727-1.187 2.672-1.187.946-3.375.946-.734 0-1.515-.149-.774-.14-1.602-.43V26.45q.656.383 1.438.578.78.196 1.632.196 1.485 0 2.258-.586.782-.586.782-1.703 0-1.032-.727-1.61-.719-.586-2.008-.586h-1.36v-1.297h1.423q1.164 0 1.78-.46.618-.47.618-1.344 0-.899-.64-1.375-.633-.485-1.82-.485-.65 0-1.391.141-.743.14-1.633.437V16.95q.898-.25 1.68-.375.788-.125 1.484-.125 1.797 0 2.844.82 1.046.813 1.046 2.204 0 .968-.554 1.64-.555.664-1.578.922z\" /></g><g transform=\"translate(0, 200) scale(0.75, 0.75)\" fill=\"#e5e5e5\" stroke=\"#e5e5e5\"><path d=\"M11.016 18.035L7.03 24.262h3.985zm-.414-1.375h1.984v7.602h1.664v1.312h-1.664v2.75h-1.57v-2.75H5.75v-1.523z\" /></g><g transform=\"translate(375, 200) scale(0.75, 0.75)\" fill=\"#e5e5e5\" stroke=\"#e5e5e5\"><path d=\"M11.016 18.035L7.03 24.262h3.985zm-.414-1.375h1.984v7.602h1.664v1.312h-1.664v2.75h-1.57v-2.75H5.75v-1.523z\" /></g><g transform=\"translate(0, 155) scale(0.75, 0.75)\" fill=\"#e5e5e5\" stroke=\"#e5e5e5\"><path d=\"M6.719 16.66h6.195v1.328h-4.75v2.86q.344-.118.688-.172.343-.063.687-.063 1.953 0 3.094 1.07 1.14 1.07 1.14 2.899 0 1.883-1.171 2.93-1.172 1.039-3.305 1.039-.735 0-1.5-.125-.758-.125-1.57-.375v-1.586q.703.383 1.453.57.75.188 1.586.188 1.351 0 2.14-.711.79-.711.79-1.93 0-1.219-.79-1.93-.789-.71-2.14-.71-.633 0-1.266.14-.625.14-1.281.438z\" /></g><g transform=\"translate(375, 155) scale(0.75, 0.75)\" fill=\"#e5e5e5\" stroke=\"#e5e5e5\"><path d=\"M6.719 16.66h6.195v1.328h-4.75v2.86q.344-.118.688-.172.343-.063.687-.063 1.953 0 3.094 1.07 1.14 1.07 1.14 2.899 0 1.883-1.171 2.93-1.172 1.039-3.305 1.039-.735 0-1.5-.125-.758-.125-1.57-.375v-1.586q.703.383 1.453.57.75.188 1.586.188 1.351 0 2.14-.711.79-.711.79-1.93 0-1.219-.79-1.93-.789-.71-2.14-.71-.633 0-1.266.14-.625.14-1.281.438z\" /></g><g transform=\"translate(0, 110) scale(0.75, 0.75)\" fill=\"#e5e5e5\" stroke=\"#e5e5e5\"><path d=\"M10.137 21.863q-1.063 0-1.688.727-.617.726-.617 1.992 0 1.258.617 1.992.625.727 1.688.727 1.062 0 1.68-.727.624-.734.624-1.992 0-1.266-.625-1.992-.617-.727-1.68-.727zm3.133-4.945v1.437q-.594-.28-1.204-.43-.601-.148-1.195-.148-1.562 0-2.39 1.055-.82 1.055-.938 3.188.46-.68 1.156-1.04.696-.367 1.531-.367 1.758 0 2.774 1.07 1.023 1.063 1.023 2.899 0 1.797-1.062 2.883-1.063 1.086-2.828 1.086-2.024 0-3.094-1.547-1.07-1.555-1.07-4.5 0-2.766 1.312-4.406 1.313-1.649 3.524-1.649.593 0 1.195.117.61.118 1.266.352z\" /></g><g transform=\"translate(375, 110) scale(0.75, 0.75)\" fill=\"#e5e5e5\" stroke=\"#e5e5e5\"><path d=\"M10.137 21.863q-1.063 0-1.688.727-.617.726-.617 1.992 0 1.258.617 1.992.625.727 1.688.727 1.062 0 1.68-.727.624-.734.624-1.992 0-1.266-.625-1.992-.617-.727-1.68-.727zm3.133-4.945v1.437q-.594-.28-1.204-.43-.601-.148-1.195-.148-1.562 0-2.39 1.055-.82 1.055-.938 3.188.46-.68 1.156-1.04.696-.367 1.531-.367 1.758 0 2.774 1.07 1.023 1.063 1.023 2.899 0 1.797-1.062 2.883-1.063 1.086-2.828 1.086-2.024 0-3.094-1.547-1.07-1.555-1.07-4.5 0-2.766 1.312-4.406 1.313-1.649 3.524-1.649.593 0 1.195.117.61.118 1.266.352z\" /></g><g transform=\"translate(0, 65) scale(0.75, 0.75)\" fill=\"#e5e5e5\" stroke=\"#e5e5e5\"><path d=\"M6.25 16.66h7.5v.672L9.516 28.324H7.867l3.985-10.336H6.25z\" /></g><g transform=\"translate(375, 65) scale(0.75, 0.75)\" fill=\"#e5e5e5\" stroke=\"#e5e5e5\"><path d=\"M6.25 16.66h7.5v.672L9.516 28.324H7.867l3.985-10.336H6.25z\" /></g><g transform=\"translate(0, 20) scale(0.75, 0.75)\" fill=\"#e5e5e5\" stroke=\"#e5e5e5\"><path d=\"M10 22.785q-1.125 0-1.773.602-.641.601-.641 1.656t.64 1.656q.649.602 1.774.602t1.773-.602q.649-.61.649-1.656 0-1.055-.649-1.656-.64-.602-1.773-.602zm-1.578-.672q-1.016-.25-1.586-.945-.563-.695-.563-1.695 0-1.399.993-2.211 1-.813 2.734-.813 1.742 0 2.734.813.993.812.993 2.21 0 1-.57 1.696-.563.695-1.571.945 1.14.266 1.773 1.04.641.773.641 1.89 0 1.695-1.04 2.602-1.03.906-2.96.906t-2.969-.906Q6 26.738 6 25.043q0-1.117.64-1.89.641-.774 1.782-1.04zm-.578-2.492q0 .906.562 1.414.57.508 1.594.508 1.016 0 1.586-.508.578-.508.578-1.414 0-.906-.578-1.414-.57-.508-1.586-.508-1.023 0-1.594.508-.562.508-.562 1.414z\" /></g><g transform=\"translate(375, 20) scale(0.75, 0.75)\" fill=\"#e5e5e5\" stroke=\"#e5e5e5\"><path d=\"M10 22.785q-1.125 0-1.773.602-.641.601-.641 1.656t.64 1.656q.649.602 1.774.602t1.773-.602q.649-.61.649-1.656 0-1.055-.649-1.656-.64-.602-1.773-.602zm-1.578-.672q-1.016-.25-1.586-.945-.563-.695-.563-1.695 0-1.399.993-2.211 1-.813 2.734-.813 1.742 0 2.734.813.993.812.993 2.21 0 1-.57 1.696-.563.695-1.571.945 1.14.266 1.773 1.04.641.773.641 1.89 0 1.695-1.04 2.602-1.03.906-2.96.906t-2.969-.906Q6 26.738 6 25.043q0-1.117.64-1.89.641-.774 1.782-1.04zm-.578-2.492q0 .906.562 1.414.57.508 1.594.508 1.016 0 1.586-.508.578-.508.578-1.414 0-.906-.578-1.414-.57-.508-1.586-.508-1.023 0-1.594.508-.562.508-.562 1.414z\" /></g><rect x=\"15\" y=\"330\" width=\"45\" height=\"45\" class=\"square dark a1\" stroke=\"none\" fill=\"#d18b47\" /><rect x=\"60\" y=\"330\" width=\"45\" height=\"45\" class=\"square light b1\" stroke=\"none\" fill=\"#ffce9e\" /><rect x=\"105\" y=\"330\" width=\"45\" height=\"45\" class=\"square dark c1\" stroke=\"none\" fill=\"#d18b47\" /><rect x=\"150\" y=\"330\" width=\"45\" height=\"45\" class=\"square light d1\" stroke=\"none\" fill=\"#ffce9e\" /><rect x=\"195\" y=\"330\" width=\"45\" height=\"45\" class=\"square dark e1\" stroke=\"none\" fill=\"#d18b47\" /><rect x=\"240\" y=\"330\" width=\"45\" height=\"45\" class=\"square light f1\" stroke=\"none\" fill=\"#ffce9e\" /><rect x=\"285\" y=\"330\" width=\"45\" height=\"45\" class=\"square dark g1\" stroke=\"none\" fill=\"#d18b47\" /><rect x=\"330\" y=\"330\" width=\"45\" height=\"45\" class=\"square light h1\" stroke=\"none\" fill=\"#ffce9e\" /><rect x=\"15\" y=\"285\" width=\"45\" height=\"45\" class=\"square light a2\" stroke=\"none\" fill=\"#ffce9e\" /><rect x=\"60\" y=\"285\" width=\"45\" height=\"45\" class=\"square dark b2\" stroke=\"none\" fill=\"#d18b47\" /><rect x=\"105\" y=\"285\" width=\"45\" height=\"45\" class=\"square light c2\" stroke=\"none\" fill=\"#ffce9e\" /><rect x=\"150\" y=\"285\" width=\"45\" height=\"45\" class=\"square dark d2\" stroke=\"none\" fill=\"#d18b47\" /><rect x=\"195\" y=\"285\" width=\"45\" height=\"45\" class=\"square light e2\" stroke=\"none\" fill=\"#ffce9e\" /><rect x=\"240\" y=\"285\" width=\"45\" height=\"45\" class=\"square dark f2\" stroke=\"none\" fill=\"#d18b47\" /><rect x=\"285\" y=\"285\" width=\"45\" height=\"45\" class=\"square light g2\" stroke=\"none\" fill=\"#ffce9e\" /><rect x=\"330\" y=\"285\" width=\"45\" height=\"45\" class=\"square dark h2\" stroke=\"none\" fill=\"#d18b47\" /><rect x=\"15\" y=\"240\" width=\"45\" height=\"45\" class=\"square dark a3\" stroke=\"none\" fill=\"#d18b47\" /><rect x=\"60\" y=\"240\" width=\"45\" height=\"45\" class=\"square light b3\" stroke=\"none\" fill=\"#ffce9e\" /><rect x=\"105\" y=\"240\" width=\"45\" height=\"45\" class=\"square dark c3\" stroke=\"none\" fill=\"#d18b47\" /><rect x=\"150\" y=\"240\" width=\"45\" height=\"45\" class=\"square light d3\" stroke=\"none\" fill=\"#ffce9e\" /><rect x=\"195\" y=\"240\" width=\"45\" height=\"45\" class=\"square dark e3\" stroke=\"none\" fill=\"#d18b47\" /><rect x=\"240\" y=\"240\" width=\"45\" height=\"45\" class=\"square light f3\" stroke=\"none\" fill=\"#ffce9e\" /><rect x=\"285\" y=\"240\" width=\"45\" height=\"45\" class=\"square dark g3\" stroke=\"none\" fill=\"#d18b47\" /><rect x=\"330\" y=\"240\" width=\"45\" height=\"45\" class=\"square light h3\" stroke=\"none\" fill=\"#ffce9e\" /><rect x=\"15\" y=\"195\" width=\"45\" height=\"45\" class=\"square light a4\" stroke=\"none\" fill=\"#ffce9e\" /><rect x=\"60\" y=\"195\" width=\"45\" height=\"45\" class=\"square dark b4\" stroke=\"none\" fill=\"#d18b47\" /><rect x=\"105\" y=\"195\" width=\"45\" height=\"45\" class=\"square light c4\" stroke=\"none\" fill=\"#ffce9e\" /><rect x=\"150\" y=\"195\" width=\"45\" height=\"45\" class=\"square dark d4\" stroke=\"none\" fill=\"#d18b47\" /><rect x=\"195\" y=\"195\" width=\"45\" height=\"45\" class=\"square light e4\" stroke=\"none\" fill=\"#ffce9e\" /><rect x=\"240\" y=\"195\" width=\"45\" height=\"45\" class=\"square dark f4\" stroke=\"none\" fill=\"#d18b47\" /><rect x=\"285\" y=\"195\" width=\"45\" height=\"45\" class=\"square light g4\" stroke=\"none\" fill=\"#ffce9e\" /><rect x=\"330\" y=\"195\" width=\"45\" height=\"45\" class=\"square dark h4\" stroke=\"none\" fill=\"#d18b47\" /><rect x=\"15\" y=\"150\" width=\"45\" height=\"45\" class=\"square dark a5\" stroke=\"none\" fill=\"#d18b47\" /><rect x=\"60\" y=\"150\" width=\"45\" height=\"45\" class=\"square light b5\" stroke=\"none\" fill=\"#ffce9e\" /><rect x=\"105\" y=\"150\" width=\"45\" height=\"45\" class=\"square dark c5\" stroke=\"none\" fill=\"#d18b47\" /><rect x=\"150\" y=\"150\" width=\"45\" height=\"45\" class=\"square light d5\" stroke=\"none\" fill=\"#ffce9e\" /><rect x=\"195\" y=\"150\" width=\"45\" height=\"45\" class=\"square dark e5\" stroke=\"none\" fill=\"#d18b47\" /><rect x=\"240\" y=\"150\" width=\"45\" height=\"45\" class=\"square light f5\" stroke=\"none\" fill=\"#ffce9e\" /><rect x=\"285\" y=\"150\" width=\"45\" height=\"45\" class=\"square dark g5\" stroke=\"none\" fill=\"#d18b47\" /><rect x=\"330\" y=\"150\" width=\"45\" height=\"45\" class=\"square light h5\" stroke=\"none\" fill=\"#ffce9e\" /><rect x=\"15\" y=\"105\" width=\"45\" height=\"45\" class=\"square light a6\" stroke=\"none\" fill=\"#ffce9e\" /><rect x=\"60\" y=\"105\" width=\"45\" height=\"45\" class=\"square dark b6\" stroke=\"none\" fill=\"#d18b47\" /><rect x=\"105\" y=\"105\" width=\"45\" height=\"45\" class=\"square light c6\" stroke=\"none\" fill=\"#ffce9e\" /><rect x=\"150\" y=\"105\" width=\"45\" height=\"45\" class=\"square dark d6\" stroke=\"none\" fill=\"#d18b47\" /><rect x=\"195\" y=\"105\" width=\"45\" height=\"45\" class=\"square light e6\" stroke=\"none\" fill=\"#ffce9e\" /><rect x=\"240\" y=\"105\" width=\"45\" height=\"45\" class=\"square dark f6\" stroke=\"none\" fill=\"#d18b47\" /><rect x=\"285\" y=\"105\" width=\"45\" height=\"45\" class=\"square light g6\" stroke=\"none\" fill=\"#ffce9e\" /><rect x=\"330\" y=\"105\" width=\"45\" height=\"45\" class=\"square dark h6\" stroke=\"none\" fill=\"#d18b47\" /><rect x=\"15\" y=\"60\" width=\"45\" height=\"45\" class=\"square dark a7\" stroke=\"none\" fill=\"#d18b47\" /><rect x=\"60\" y=\"60\" width=\"45\" height=\"45\" class=\"square light b7\" stroke=\"none\" fill=\"#ffce9e\" /><rect x=\"105\" y=\"60\" width=\"45\" height=\"45\" class=\"square dark c7\" stroke=\"none\" fill=\"#d18b47\" /><rect x=\"150\" y=\"60\" width=\"45\" height=\"45\" class=\"square light d7\" stroke=\"none\" fill=\"#ffce9e\" /><rect x=\"195\" y=\"60\" width=\"45\" height=\"45\" class=\"square dark e7\" stroke=\"none\" fill=\"#d18b47\" /><rect x=\"240\" y=\"60\" width=\"45\" height=\"45\" class=\"square light f7\" stroke=\"none\" fill=\"#ffce9e\" /><rect x=\"285\" y=\"60\" width=\"45\" height=\"45\" class=\"square dark g7\" stroke=\"none\" fill=\"#d18b47\" /><rect x=\"330\" y=\"60\" width=\"45\" height=\"45\" class=\"square light h7\" stroke=\"none\" fill=\"#ffce9e\" /><rect x=\"15\" y=\"15\" width=\"45\" height=\"45\" class=\"square light a8\" stroke=\"none\" fill=\"#ffce9e\" /><rect x=\"60\" y=\"15\" width=\"45\" height=\"45\" class=\"square dark b8\" stroke=\"none\" fill=\"#d18b47\" /><rect x=\"105\" y=\"15\" width=\"45\" height=\"45\" class=\"square light c8\" stroke=\"none\" fill=\"#ffce9e\" /><rect x=\"150\" y=\"15\" width=\"45\" height=\"45\" class=\"square dark d8\" stroke=\"none\" fill=\"#d18b47\" /><rect x=\"195\" y=\"15\" width=\"45\" height=\"45\" class=\"square light e8\" stroke=\"none\" fill=\"#ffce9e\" /><rect x=\"240\" y=\"15\" width=\"45\" height=\"45\" class=\"square dark f8\" stroke=\"none\" fill=\"#d18b47\" /><rect x=\"285\" y=\"15\" width=\"45\" height=\"45\" class=\"square light g8\" stroke=\"none\" fill=\"#ffce9e\" /><rect x=\"330\" y=\"15\" width=\"45\" height=\"45\" class=\"square dark h8\" stroke=\"none\" fill=\"#d18b47\" /><use href=\"#white-rook\" xlink:href=\"#white-rook\" transform=\"translate(15, 330)\" /><use href=\"#white-knight\" xlink:href=\"#white-knight\" transform=\"translate(60, 330)\" /><use href=\"#white-bishop\" xlink:href=\"#white-bishop\" transform=\"translate(105, 330)\" /><use href=\"#white-queen\" xlink:href=\"#white-queen\" transform=\"translate(150, 330)\" /><use href=\"#white-king\" xlink:href=\"#white-king\" transform=\"translate(195, 330)\" /><use href=\"#white-bishop\" xlink:href=\"#white-bishop\" transform=\"translate(240, 330)\" /><use href=\"#white-knight\" xlink:href=\"#white-knight\" transform=\"translate(285, 330)\" /><use href=\"#white-rook\" xlink:href=\"#white-rook\" transform=\"translate(330, 330)\" /><use href=\"#white-pawn\" xlink:href=\"#white-pawn\" transform=\"translate(15, 285)\" /><use href=\"#white-pawn\" xlink:href=\"#white-pawn\" transform=\"translate(60, 285)\" /><use href=\"#white-pawn\" xlink:href=\"#white-pawn\" transform=\"translate(105, 285)\" /><use href=\"#white-pawn\" xlink:href=\"#white-pawn\" transform=\"translate(150, 285)\" /><use href=\"#white-pawn\" xlink:href=\"#white-pawn\" transform=\"translate(195, 285)\" /><use href=\"#white-pawn\" xlink:href=\"#white-pawn\" transform=\"translate(240, 285)\" /><use href=\"#white-pawn\" xlink:href=\"#white-pawn\" transform=\"translate(285, 285)\" /><use href=\"#white-pawn\" xlink:href=\"#white-pawn\" transform=\"translate(330, 285)\" /><use href=\"#black-pawn\" xlink:href=\"#black-pawn\" transform=\"translate(15, 60)\" /><use href=\"#black-pawn\" xlink:href=\"#black-pawn\" transform=\"translate(60, 60)\" /><use href=\"#black-pawn\" xlink:href=\"#black-pawn\" transform=\"translate(105, 60)\" /><use href=\"#black-pawn\" xlink:href=\"#black-pawn\" transform=\"translate(150, 60)\" /><use href=\"#black-pawn\" xlink:href=\"#black-pawn\" transform=\"translate(195, 60)\" /><use href=\"#black-pawn\" xlink:href=\"#black-pawn\" transform=\"translate(240, 60)\" /><use href=\"#black-pawn\" xlink:href=\"#black-pawn\" transform=\"translate(285, 60)\" /><use href=\"#black-pawn\" xlink:href=\"#black-pawn\" transform=\"translate(330, 60)\" /><use href=\"#black-rook\" xlink:href=\"#black-rook\" transform=\"translate(15, 15)\" /><use href=\"#black-knight\" xlink:href=\"#black-knight\" transform=\"translate(60, 15)\" /><use href=\"#black-bishop\" xlink:href=\"#black-bishop\" transform=\"translate(105, 15)\" /><use href=\"#black-queen\" xlink:href=\"#black-queen\" transform=\"translate(150, 15)\" /><use href=\"#black-king\" xlink:href=\"#black-king\" transform=\"translate(195, 15)\" /><use href=\"#black-bishop\" xlink:href=\"#black-bishop\" transform=\"translate(240, 15)\" /><use href=\"#black-knight\" xlink:href=\"#black-knight\" transform=\"translate(285, 15)\" /><use href=\"#black-rook\" xlink:href=\"#black-rook\" transform=\"translate(330, 15)\" /></svg>"
          },
          "metadata": {},
          "execution_count": 5
        }
      ]
    },
    {
      "cell_type": "code",
      "source": [
        "board.clear()\n",
        "board"
      ],
      "metadata": {
        "colab": {
          "base_uri": "https://localhost:8080/",
          "height": 411
        },
        "id": "owZ59L9s6F81",
        "outputId": "42b1f102-497e-4408-cac3-c392d30e0259"
      },
      "execution_count": null,
      "outputs": [
        {
          "output_type": "execute_result",
          "data": {
            "text/plain": [
              "Board('8/8/8/8/8/8/8/8 w - - 0 1')"
            ],
            "image/svg+xml": "<svg xmlns=\"http://www.w3.org/2000/svg\" xmlns:xlink=\"http://www.w3.org/1999/xlink\" viewBox=\"0 0 390 390\" width=\"390\" height=\"390\"><desc><pre>. . . . . . . .\n. . . . . . . .\n. . . . . . . .\n. . . . . . . .\n. . . . . . . .\n. . . . . . . .\n. . . . . . . .\n. . . . . . . .</pre></desc><defs /><rect x=\"7.5\" y=\"7.5\" width=\"375\" height=\"375\" fill=\"none\" stroke=\"#212121\" stroke-width=\"15\" /><g transform=\"translate(20, 1) scale(0.75, 0.75)\" fill=\"#e5e5e5\" stroke=\"#e5e5e5\"><path d=\"M23.328 10.016q-1.742 0-2.414.398-.672.398-.672 1.36 0 .765.5 1.218.508.445 1.375.445 1.196 0 1.914-.843.727-.852.727-2.258v-.32zm2.867-.594v4.992h-1.437v-1.328q-.492.797-1.227 1.18-.734.375-1.797.375-1.343 0-2.14-.75-.79-.758-.79-2.024 0-1.476.985-2.226.992-.75 2.953-.75h2.016V8.75q0-.992-.656-1.531-.649-.547-1.829-.547-.75 0-1.46.18-.711.18-1.368.539V6.062q.79-.304 1.532-.453.742-.156 1.445-.156 1.898 0 2.836.984.937.985.937 2.985z\" /></g><g transform=\"translate(20, 375) scale(0.75, 0.75)\" fill=\"#e5e5e5\" stroke=\"#e5e5e5\"><path d=\"M23.328 10.016q-1.742 0-2.414.398-.672.398-.672 1.36 0 .765.5 1.218.508.445 1.375.445 1.196 0 1.914-.843.727-.852.727-2.258v-.32zm2.867-.594v4.992h-1.437v-1.328q-.492.797-1.227 1.18-.734.375-1.797.375-1.343 0-2.14-.75-.79-.758-.79-2.024 0-1.476.985-2.226.992-.75 2.953-.75h2.016V8.75q0-.992-.656-1.531-.649-.547-1.829-.547-.75 0-1.46.18-.711.18-1.368.539V6.062q.79-.304 1.532-.453.742-.156 1.445-.156 1.898 0 2.836.984.937.985.937 2.985z\" /></g><g transform=\"translate(65, 1) scale(0.75, 0.75)\" fill=\"#e5e5e5\" stroke=\"#e5e5e5\"><path d=\"M24.922 10.047q0-1.586-.656-2.485-.649-.906-1.79-.906-1.14 0-1.796.906-.649.899-.649 2.485 0 1.586.649 2.492.656.898 1.797.898 1.14 0 1.789-.898.656-.906.656-2.492zm-4.89-3.055q.452-.781 1.14-1.156.695-.383 1.656-.383 1.594 0 2.586 1.266 1 1.265 1 3.328 0 2.062-1 3.328-.992 1.266-2.586 1.266-.96 0-1.656-.375-.688-.383-1.14-1.164v1.312h-1.446V2.258h1.445z\" /></g><g transform=\"translate(65, 375) scale(0.75, 0.75)\" fill=\"#e5e5e5\" stroke=\"#e5e5e5\"><path d=\"M24.922 10.047q0-1.586-.656-2.485-.649-.906-1.79-.906-1.14 0-1.796.906-.649.899-.649 2.485 0 1.586.649 2.492.656.898 1.797.898 1.14 0 1.789-.898.656-.906.656-2.492zm-4.89-3.055q.452-.781 1.14-1.156.695-.383 1.656-.383 1.594 0 2.586 1.266 1 1.265 1 3.328 0 2.062-1 3.328-.992 1.266-2.586 1.266-.96 0-1.656-.375-.688-.383-1.14-1.164v1.312h-1.446V2.258h1.445z\" /></g><g transform=\"translate(110, 1) scale(0.75, 0.75)\" fill=\"#e5e5e5\" stroke=\"#e5e5e5\"><path d=\"M25.96 6v1.344q-.608-.336-1.226-.5-.609-.172-1.234-.172-1.398 0-2.172.89-.773.883-.773 2.485 0 1.601.773 2.492.774.883 2.172.883.625 0 1.234-.164.618-.172 1.227-.508v1.328q-.602.281-1.25.422-.64.14-1.367.14-1.977 0-3.14-1.242-1.165-1.242-1.165-3.351 0-2.14 1.172-3.367 1.18-1.227 3.227-1.227.664 0 1.296.14.633.134 1.227.407z\" /></g><g transform=\"translate(110, 375) scale(0.75, 0.75)\" fill=\"#e5e5e5\" stroke=\"#e5e5e5\"><path d=\"M25.96 6v1.344q-.608-.336-1.226-.5-.609-.172-1.234-.172-1.398 0-2.172.89-.773.883-.773 2.485 0 1.601.773 2.492.774.883 2.172.883.625 0 1.234-.164.618-.172 1.227-.508v1.328q-.602.281-1.25.422-.64.14-1.367.14-1.977 0-3.14-1.242-1.165-1.242-1.165-3.351 0-2.14 1.172-3.367 1.18-1.227 3.227-1.227.664 0 1.296.14.633.134 1.227.407z\" /></g><g transform=\"translate(155, 1) scale(0.75, 0.75)\" fill=\"#e5e5e5\" stroke=\"#e5e5e5\"><path d=\"M24.973 6.992V2.258h1.437v12.156h-1.437v-1.312q-.453.78-1.149 1.164-.687.375-1.656.375-1.586 0-2.586-1.266-.992-1.266-.992-3.328 0-2.063.992-3.328 1-1.266 2.586-1.266.969 0 1.656.383.696.375 1.149 1.156zm-4.899 3.055q0 1.586.649 2.492.656.898 1.797.898 1.14 0 1.796-.898.657-.906.657-2.492 0-1.586-.657-2.485-.656-.906-1.796-.906-1.141 0-1.797.906-.649.899-.649 2.485z\" /></g><g transform=\"translate(155, 375) scale(0.75, 0.75)\" fill=\"#e5e5e5\" stroke=\"#e5e5e5\"><path d=\"M24.973 6.992V2.258h1.437v12.156h-1.437v-1.312q-.453.78-1.149 1.164-.687.375-1.656.375-1.586 0-2.586-1.266-.992-1.266-.992-3.328 0-2.063.992-3.328 1-1.266 2.586-1.266.969 0 1.656.383.696.375 1.149 1.156zm-4.899 3.055q0 1.586.649 2.492.656.898 1.797.898 1.14 0 1.796-.898.657-.906.657-2.492 0-1.586-.657-2.485-.656-.906-1.796-.906-1.141 0-1.797.906-.649.899-.649 2.485z\" /></g><g transform=\"translate(200, 1) scale(0.75, 0.75)\" fill=\"#e5e5e5\" stroke=\"#e5e5e5\"><path d=\"M26.555 9.68v.703h-6.61q.094 1.484.89 2.265.806.774 2.235.774.828 0 1.602-.203.781-.203 1.547-.61v1.36q-.774.328-1.586.5-.813.172-1.649.172-2.093 0-3.32-1.22-1.219-1.218-1.219-3.296 0-2.148 1.157-3.406 1.164-1.266 3.132-1.266 1.766 0 2.79 1.14 1.03 1.134 1.03 3.087zm-1.438-.422q-.015-1.18-.664-1.883-.64-.703-1.703-.703-1.203 0-1.93.68-.718.68-.828 1.914z\" /></g><g transform=\"translate(200, 375) scale(0.75, 0.75)\" fill=\"#e5e5e5\" stroke=\"#e5e5e5\"><path d=\"M26.555 9.68v.703h-6.61q.094 1.484.89 2.265.806.774 2.235.774.828 0 1.602-.203.781-.203 1.547-.61v1.36q-.774.328-1.586.5-.813.172-1.649.172-2.093 0-3.32-1.22-1.219-1.218-1.219-3.296 0-2.148 1.157-3.406 1.164-1.266 3.132-1.266 1.766 0 2.79 1.14 1.03 1.134 1.03 3.087zm-1.438-.422q-.015-1.18-.664-1.883-.64-.703-1.703-.703-1.203 0-1.93.68-.718.68-.828 1.914z\" /></g><g transform=\"translate(245, 1) scale(0.75, 0.75)\" fill=\"#e5e5e5\" stroke=\"#e5e5e5\"><path d=\"M25.285 2.258v1.195H23.91q-.773 0-1.078.313-.297.312-.297 1.125v.773h2.367v1.117h-2.367v7.633H21.09V6.781h-1.375V5.664h1.375v-.61q0-1.46.68-2.124.68-.672 2.156-.672z\" /></g><g transform=\"translate(245, 375) scale(0.75, 0.75)\" fill=\"#e5e5e5\" stroke=\"#e5e5e5\"><path d=\"M25.285 2.258v1.195H23.91q-.773 0-1.078.313-.297.312-.297 1.125v.773h2.367v1.117h-2.367v7.633H21.09V6.781h-1.375V5.664h1.375v-.61q0-1.46.68-2.124.68-.672 2.156-.672z\" /></g><g transform=\"translate(290, 1) scale(0.75, 0.75)\" fill=\"#e5e5e5\" stroke=\"#e5e5e5\"><path d=\"M24.973 9.937q0-1.562-.649-2.421-.64-.86-1.804-.86-1.157 0-1.805.86-.64.859-.64 2.421 0 1.555.64 2.415.648.859 1.805.859 1.164 0 1.804-.86.649-.859.649-2.414zm1.437 3.391q0 2.234-.992 3.32-.992 1.094-3.04 1.094-.757 0-1.429-.117-.672-.11-1.304-.344v-1.398q.632.344 1.25.508.617.164 1.257.164 1.414 0 2.118-.743.703-.734.703-2.226v-.711q-.446.773-1.141 1.156-.695.383-1.664.383-1.61 0-2.594-1.227-.984-1.226-.984-3.25 0-2.03.984-3.257.985-1.227 2.594-1.227.969 0 1.664.383t1.14 1.156V5.664h1.438z\" /></g><g transform=\"translate(290, 375) scale(0.75, 0.75)\" fill=\"#e5e5e5\" stroke=\"#e5e5e5\"><path d=\"M24.973 9.937q0-1.562-.649-2.421-.64-.86-1.804-.86-1.157 0-1.805.86-.64.859-.64 2.421 0 1.555.64 2.415.648.859 1.805.859 1.164 0 1.804-.86.649-.859.649-2.414zm1.437 3.391q0 2.234-.992 3.32-.992 1.094-3.04 1.094-.757 0-1.429-.117-.672-.11-1.304-.344v-1.398q.632.344 1.25.508.617.164 1.257.164 1.414 0 2.118-.743.703-.734.703-2.226v-.711q-.446.773-1.141 1.156-.695.383-1.664.383-1.61 0-2.594-1.227-.984-1.226-.984-3.25 0-2.03.984-3.257.985-1.227 2.594-1.227.969 0 1.664.383t1.14 1.156V5.664h1.438z\" /></g><g transform=\"translate(335, 1) scale(0.75, 0.75)\" fill=\"#e5e5e5\" stroke=\"#e5e5e5\"><path d=\"M26.164 9.133v5.281h-1.437V9.18q0-1.243-.485-1.86-.484-.617-1.453-.617-1.164 0-1.836.742-.672.742-.672 2.024v4.945h-1.445V2.258h1.445v4.765q.516-.789 1.211-1.18.703-.39 1.617-.39 1.508 0 2.282.938.773.93.773 2.742z\" /></g><g transform=\"translate(335, 375) scale(0.75, 0.75)\" fill=\"#e5e5e5\" stroke=\"#e5e5e5\"><path d=\"M26.164 9.133v5.281h-1.437V9.18q0-1.243-.485-1.86-.484-.617-1.453-.617-1.164 0-1.836.742-.672.742-.672 2.024v4.945h-1.445V2.258h1.445v4.765q.516-.789 1.211-1.18.703-.39 1.617-.39 1.508 0 2.282.938.773.93.773 2.742z\" /></g><g transform=\"translate(0, 335) scale(0.75, 0.75)\" fill=\"#e5e5e5\" stroke=\"#e5e5e5\"><path d=\"M6.754 26.996h2.578v-8.898l-2.805.562v-1.437l2.79-.563h1.578v10.336h2.578v1.328h-6.72z\" /></g><g transform=\"translate(375, 335) scale(0.75, 0.75)\" fill=\"#e5e5e5\" stroke=\"#e5e5e5\"><path d=\"M6.754 26.996h2.578v-8.898l-2.805.562v-1.437l2.79-.563h1.578v10.336h2.578v1.328h-6.72z\" /></g><g transform=\"translate(0, 290) scale(0.75, 0.75)\" fill=\"#e5e5e5\" stroke=\"#e5e5e5\"><path d=\"M8.195 26.996h5.508v1.328H6.297v-1.328q.898-.93 2.445-2.492 1.555-1.57 1.953-2.024.758-.851 1.055-1.437.305-.594.305-1.164 0-.93-.657-1.516-.648-.586-1.695-.586-.742 0-1.57.258-.82.258-1.758.781v-1.593q.953-.383 1.781-.578.828-.196 1.516-.196 1.812 0 2.89.906 1.079.907 1.079 2.422 0 .72-.274 1.368-.265.64-.976 1.515-.196.227-1.243 1.313-1.046 1.078-2.953 3.023z\" /></g><g transform=\"translate(375, 290) scale(0.75, 0.75)\" fill=\"#e5e5e5\" stroke=\"#e5e5e5\"><path d=\"M8.195 26.996h5.508v1.328H6.297v-1.328q.898-.93 2.445-2.492 1.555-1.57 1.953-2.024.758-.851 1.055-1.437.305-.594.305-1.164 0-.93-.657-1.516-.648-.586-1.695-.586-.742 0-1.57.258-.82.258-1.758.781v-1.593q.953-.383 1.781-.578.828-.196 1.516-.196 1.812 0 2.89.906 1.079.907 1.079 2.422 0 .72-.274 1.368-.265.64-.976 1.515-.196.227-1.243 1.313-1.046 1.078-2.953 3.023z\" /></g><g transform=\"translate(0, 245) scale(0.75, 0.75)\" fill=\"#e5e5e5\" stroke=\"#e5e5e5\"><path d=\"M11.434 22.035q1.132.242 1.765 1.008.64.766.64 1.89 0 1.727-1.187 2.672-1.187.946-3.375.946-.734 0-1.515-.149-.774-.14-1.602-.43V26.45q.656.383 1.438.578.78.196 1.632.196 1.485 0 2.258-.586.782-.586.782-1.703 0-1.032-.727-1.61-.719-.586-2.008-.586h-1.36v-1.297h1.423q1.164 0 1.78-.46.618-.47.618-1.344 0-.899-.64-1.375-.633-.485-1.82-.485-.65 0-1.391.141-.743.14-1.633.437V16.95q.898-.25 1.68-.375.788-.125 1.484-.125 1.797 0 2.844.82 1.046.813 1.046 2.204 0 .968-.554 1.64-.555.664-1.578.922z\" /></g><g transform=\"translate(375, 245) scale(0.75, 0.75)\" fill=\"#e5e5e5\" stroke=\"#e5e5e5\"><path d=\"M11.434 22.035q1.132.242 1.765 1.008.64.766.64 1.89 0 1.727-1.187 2.672-1.187.946-3.375.946-.734 0-1.515-.149-.774-.14-1.602-.43V26.45q.656.383 1.438.578.78.196 1.632.196 1.485 0 2.258-.586.782-.586.782-1.703 0-1.032-.727-1.61-.719-.586-2.008-.586h-1.36v-1.297h1.423q1.164 0 1.78-.46.618-.47.618-1.344 0-.899-.64-1.375-.633-.485-1.82-.485-.65 0-1.391.141-.743.14-1.633.437V16.95q.898-.25 1.68-.375.788-.125 1.484-.125 1.797 0 2.844.82 1.046.813 1.046 2.204 0 .968-.554 1.64-.555.664-1.578.922z\" /></g><g transform=\"translate(0, 200) scale(0.75, 0.75)\" fill=\"#e5e5e5\" stroke=\"#e5e5e5\"><path d=\"M11.016 18.035L7.03 24.262h3.985zm-.414-1.375h1.984v7.602h1.664v1.312h-1.664v2.75h-1.57v-2.75H5.75v-1.523z\" /></g><g transform=\"translate(375, 200) scale(0.75, 0.75)\" fill=\"#e5e5e5\" stroke=\"#e5e5e5\"><path d=\"M11.016 18.035L7.03 24.262h3.985zm-.414-1.375h1.984v7.602h1.664v1.312h-1.664v2.75h-1.57v-2.75H5.75v-1.523z\" /></g><g transform=\"translate(0, 155) scale(0.75, 0.75)\" fill=\"#e5e5e5\" stroke=\"#e5e5e5\"><path d=\"M6.719 16.66h6.195v1.328h-4.75v2.86q.344-.118.688-.172.343-.063.687-.063 1.953 0 3.094 1.07 1.14 1.07 1.14 2.899 0 1.883-1.171 2.93-1.172 1.039-3.305 1.039-.735 0-1.5-.125-.758-.125-1.57-.375v-1.586q.703.383 1.453.57.75.188 1.586.188 1.351 0 2.14-.711.79-.711.79-1.93 0-1.219-.79-1.93-.789-.71-2.14-.71-.633 0-1.266.14-.625.14-1.281.438z\" /></g><g transform=\"translate(375, 155) scale(0.75, 0.75)\" fill=\"#e5e5e5\" stroke=\"#e5e5e5\"><path d=\"M6.719 16.66h6.195v1.328h-4.75v2.86q.344-.118.688-.172.343-.063.687-.063 1.953 0 3.094 1.07 1.14 1.07 1.14 2.899 0 1.883-1.171 2.93-1.172 1.039-3.305 1.039-.735 0-1.5-.125-.758-.125-1.57-.375v-1.586q.703.383 1.453.57.75.188 1.586.188 1.351 0 2.14-.711.79-.711.79-1.93 0-1.219-.79-1.93-.789-.71-2.14-.71-.633 0-1.266.14-.625.14-1.281.438z\" /></g><g transform=\"translate(0, 110) scale(0.75, 0.75)\" fill=\"#e5e5e5\" stroke=\"#e5e5e5\"><path d=\"M10.137 21.863q-1.063 0-1.688.727-.617.726-.617 1.992 0 1.258.617 1.992.625.727 1.688.727 1.062 0 1.68-.727.624-.734.624-1.992 0-1.266-.625-1.992-.617-.727-1.68-.727zm3.133-4.945v1.437q-.594-.28-1.204-.43-.601-.148-1.195-.148-1.562 0-2.39 1.055-.82 1.055-.938 3.188.46-.68 1.156-1.04.696-.367 1.531-.367 1.758 0 2.774 1.07 1.023 1.063 1.023 2.899 0 1.797-1.062 2.883-1.063 1.086-2.828 1.086-2.024 0-3.094-1.547-1.07-1.555-1.07-4.5 0-2.766 1.312-4.406 1.313-1.649 3.524-1.649.593 0 1.195.117.61.118 1.266.352z\" /></g><g transform=\"translate(375, 110) scale(0.75, 0.75)\" fill=\"#e5e5e5\" stroke=\"#e5e5e5\"><path d=\"M10.137 21.863q-1.063 0-1.688.727-.617.726-.617 1.992 0 1.258.617 1.992.625.727 1.688.727 1.062 0 1.68-.727.624-.734.624-1.992 0-1.266-.625-1.992-.617-.727-1.68-.727zm3.133-4.945v1.437q-.594-.28-1.204-.43-.601-.148-1.195-.148-1.562 0-2.39 1.055-.82 1.055-.938 3.188.46-.68 1.156-1.04.696-.367 1.531-.367 1.758 0 2.774 1.07 1.023 1.063 1.023 2.899 0 1.797-1.062 2.883-1.063 1.086-2.828 1.086-2.024 0-3.094-1.547-1.07-1.555-1.07-4.5 0-2.766 1.312-4.406 1.313-1.649 3.524-1.649.593 0 1.195.117.61.118 1.266.352z\" /></g><g transform=\"translate(0, 65) scale(0.75, 0.75)\" fill=\"#e5e5e5\" stroke=\"#e5e5e5\"><path d=\"M6.25 16.66h7.5v.672L9.516 28.324H7.867l3.985-10.336H6.25z\" /></g><g transform=\"translate(375, 65) scale(0.75, 0.75)\" fill=\"#e5e5e5\" stroke=\"#e5e5e5\"><path d=\"M6.25 16.66h7.5v.672L9.516 28.324H7.867l3.985-10.336H6.25z\" /></g><g transform=\"translate(0, 20) scale(0.75, 0.75)\" fill=\"#e5e5e5\" stroke=\"#e5e5e5\"><path d=\"M10 22.785q-1.125 0-1.773.602-.641.601-.641 1.656t.64 1.656q.649.602 1.774.602t1.773-.602q.649-.61.649-1.656 0-1.055-.649-1.656-.64-.602-1.773-.602zm-1.578-.672q-1.016-.25-1.586-.945-.563-.695-.563-1.695 0-1.399.993-2.211 1-.813 2.734-.813 1.742 0 2.734.813.993.812.993 2.21 0 1-.57 1.696-.563.695-1.571.945 1.14.266 1.773 1.04.641.773.641 1.89 0 1.695-1.04 2.602-1.03.906-2.96.906t-2.969-.906Q6 26.738 6 25.043q0-1.117.64-1.89.641-.774 1.782-1.04zm-.578-2.492q0 .906.562 1.414.57.508 1.594.508 1.016 0 1.586-.508.578-.508.578-1.414 0-.906-.578-1.414-.57-.508-1.586-.508-1.023 0-1.594.508-.562.508-.562 1.414z\" /></g><g transform=\"translate(375, 20) scale(0.75, 0.75)\" fill=\"#e5e5e5\" stroke=\"#e5e5e5\"><path d=\"M10 22.785q-1.125 0-1.773.602-.641.601-.641 1.656t.64 1.656q.649.602 1.774.602t1.773-.602q.649-.61.649-1.656 0-1.055-.649-1.656-.64-.602-1.773-.602zm-1.578-.672q-1.016-.25-1.586-.945-.563-.695-.563-1.695 0-1.399.993-2.211 1-.813 2.734-.813 1.742 0 2.734.813.993.812.993 2.21 0 1-.57 1.696-.563.695-1.571.945 1.14.266 1.773 1.04.641.773.641 1.89 0 1.695-1.04 2.602-1.03.906-2.96.906t-2.969-.906Q6 26.738 6 25.043q0-1.117.64-1.89.641-.774 1.782-1.04zm-.578-2.492q0 .906.562 1.414.57.508 1.594.508 1.016 0 1.586-.508.578-.508.578-1.414 0-.906-.578-1.414-.57-.508-1.586-.508-1.023 0-1.594.508-.562.508-.562 1.414z\" /></g><rect x=\"15\" y=\"330\" width=\"45\" height=\"45\" class=\"square dark a1\" stroke=\"none\" fill=\"#d18b47\" /><rect x=\"60\" y=\"330\" width=\"45\" height=\"45\" class=\"square light b1\" stroke=\"none\" fill=\"#ffce9e\" /><rect x=\"105\" y=\"330\" width=\"45\" height=\"45\" class=\"square dark c1\" stroke=\"none\" fill=\"#d18b47\" /><rect x=\"150\" y=\"330\" width=\"45\" height=\"45\" class=\"square light d1\" stroke=\"none\" fill=\"#ffce9e\" /><rect x=\"195\" y=\"330\" width=\"45\" height=\"45\" class=\"square dark e1\" stroke=\"none\" fill=\"#d18b47\" /><rect x=\"240\" y=\"330\" width=\"45\" height=\"45\" class=\"square light f1\" stroke=\"none\" fill=\"#ffce9e\" /><rect x=\"285\" y=\"330\" width=\"45\" height=\"45\" class=\"square dark g1\" stroke=\"none\" fill=\"#d18b47\" /><rect x=\"330\" y=\"330\" width=\"45\" height=\"45\" class=\"square light h1\" stroke=\"none\" fill=\"#ffce9e\" /><rect x=\"15\" y=\"285\" width=\"45\" height=\"45\" class=\"square light a2\" stroke=\"none\" fill=\"#ffce9e\" /><rect x=\"60\" y=\"285\" width=\"45\" height=\"45\" class=\"square dark b2\" stroke=\"none\" fill=\"#d18b47\" /><rect x=\"105\" y=\"285\" width=\"45\" height=\"45\" class=\"square light c2\" stroke=\"none\" fill=\"#ffce9e\" /><rect x=\"150\" y=\"285\" width=\"45\" height=\"45\" class=\"square dark d2\" stroke=\"none\" fill=\"#d18b47\" /><rect x=\"195\" y=\"285\" width=\"45\" height=\"45\" class=\"square light e2\" stroke=\"none\" fill=\"#ffce9e\" /><rect x=\"240\" y=\"285\" width=\"45\" height=\"45\" class=\"square dark f2\" stroke=\"none\" fill=\"#d18b47\" /><rect x=\"285\" y=\"285\" width=\"45\" height=\"45\" class=\"square light g2\" stroke=\"none\" fill=\"#ffce9e\" /><rect x=\"330\" y=\"285\" width=\"45\" height=\"45\" class=\"square dark h2\" stroke=\"none\" fill=\"#d18b47\" /><rect x=\"15\" y=\"240\" width=\"45\" height=\"45\" class=\"square dark a3\" stroke=\"none\" fill=\"#d18b47\" /><rect x=\"60\" y=\"240\" width=\"45\" height=\"45\" class=\"square light b3\" stroke=\"none\" fill=\"#ffce9e\" /><rect x=\"105\" y=\"240\" width=\"45\" height=\"45\" class=\"square dark c3\" stroke=\"none\" fill=\"#d18b47\" /><rect x=\"150\" y=\"240\" width=\"45\" height=\"45\" class=\"square light d3\" stroke=\"none\" fill=\"#ffce9e\" /><rect x=\"195\" y=\"240\" width=\"45\" height=\"45\" class=\"square dark e3\" stroke=\"none\" fill=\"#d18b47\" /><rect x=\"240\" y=\"240\" width=\"45\" height=\"45\" class=\"square light f3\" stroke=\"none\" fill=\"#ffce9e\" /><rect x=\"285\" y=\"240\" width=\"45\" height=\"45\" class=\"square dark g3\" stroke=\"none\" fill=\"#d18b47\" /><rect x=\"330\" y=\"240\" width=\"45\" height=\"45\" class=\"square light h3\" stroke=\"none\" fill=\"#ffce9e\" /><rect x=\"15\" y=\"195\" width=\"45\" height=\"45\" class=\"square light a4\" stroke=\"none\" fill=\"#ffce9e\" /><rect x=\"60\" y=\"195\" width=\"45\" height=\"45\" class=\"square dark b4\" stroke=\"none\" fill=\"#d18b47\" /><rect x=\"105\" y=\"195\" width=\"45\" height=\"45\" class=\"square light c4\" stroke=\"none\" fill=\"#ffce9e\" /><rect x=\"150\" y=\"195\" width=\"45\" height=\"45\" class=\"square dark d4\" stroke=\"none\" fill=\"#d18b47\" /><rect x=\"195\" y=\"195\" width=\"45\" height=\"45\" class=\"square light e4\" stroke=\"none\" fill=\"#ffce9e\" /><rect x=\"240\" y=\"195\" width=\"45\" height=\"45\" class=\"square dark f4\" stroke=\"none\" fill=\"#d18b47\" /><rect x=\"285\" y=\"195\" width=\"45\" height=\"45\" class=\"square light g4\" stroke=\"none\" fill=\"#ffce9e\" /><rect x=\"330\" y=\"195\" width=\"45\" height=\"45\" class=\"square dark h4\" stroke=\"none\" fill=\"#d18b47\" /><rect x=\"15\" y=\"150\" width=\"45\" height=\"45\" class=\"square dark a5\" stroke=\"none\" fill=\"#d18b47\" /><rect x=\"60\" y=\"150\" width=\"45\" height=\"45\" class=\"square light b5\" stroke=\"none\" fill=\"#ffce9e\" /><rect x=\"105\" y=\"150\" width=\"45\" height=\"45\" class=\"square dark c5\" stroke=\"none\" fill=\"#d18b47\" /><rect x=\"150\" y=\"150\" width=\"45\" height=\"45\" class=\"square light d5\" stroke=\"none\" fill=\"#ffce9e\" /><rect x=\"195\" y=\"150\" width=\"45\" height=\"45\" class=\"square dark e5\" stroke=\"none\" fill=\"#d18b47\" /><rect x=\"240\" y=\"150\" width=\"45\" height=\"45\" class=\"square light f5\" stroke=\"none\" fill=\"#ffce9e\" /><rect x=\"285\" y=\"150\" width=\"45\" height=\"45\" class=\"square dark g5\" stroke=\"none\" fill=\"#d18b47\" /><rect x=\"330\" y=\"150\" width=\"45\" height=\"45\" class=\"square light h5\" stroke=\"none\" fill=\"#ffce9e\" /><rect x=\"15\" y=\"105\" width=\"45\" height=\"45\" class=\"square light a6\" stroke=\"none\" fill=\"#ffce9e\" /><rect x=\"60\" y=\"105\" width=\"45\" height=\"45\" class=\"square dark b6\" stroke=\"none\" fill=\"#d18b47\" /><rect x=\"105\" y=\"105\" width=\"45\" height=\"45\" class=\"square light c6\" stroke=\"none\" fill=\"#ffce9e\" /><rect x=\"150\" y=\"105\" width=\"45\" height=\"45\" class=\"square dark d6\" stroke=\"none\" fill=\"#d18b47\" /><rect x=\"195\" y=\"105\" width=\"45\" height=\"45\" class=\"square light e6\" stroke=\"none\" fill=\"#ffce9e\" /><rect x=\"240\" y=\"105\" width=\"45\" height=\"45\" class=\"square dark f6\" stroke=\"none\" fill=\"#d18b47\" /><rect x=\"285\" y=\"105\" width=\"45\" height=\"45\" class=\"square light g6\" stroke=\"none\" fill=\"#ffce9e\" /><rect x=\"330\" y=\"105\" width=\"45\" height=\"45\" class=\"square dark h6\" stroke=\"none\" fill=\"#d18b47\" /><rect x=\"15\" y=\"60\" width=\"45\" height=\"45\" class=\"square dark a7\" stroke=\"none\" fill=\"#d18b47\" /><rect x=\"60\" y=\"60\" width=\"45\" height=\"45\" class=\"square light b7\" stroke=\"none\" fill=\"#ffce9e\" /><rect x=\"105\" y=\"60\" width=\"45\" height=\"45\" class=\"square dark c7\" stroke=\"none\" fill=\"#d18b47\" /><rect x=\"150\" y=\"60\" width=\"45\" height=\"45\" class=\"square light d7\" stroke=\"none\" fill=\"#ffce9e\" /><rect x=\"195\" y=\"60\" width=\"45\" height=\"45\" class=\"square dark e7\" stroke=\"none\" fill=\"#d18b47\" /><rect x=\"240\" y=\"60\" width=\"45\" height=\"45\" class=\"square light f7\" stroke=\"none\" fill=\"#ffce9e\" /><rect x=\"285\" y=\"60\" width=\"45\" height=\"45\" class=\"square dark g7\" stroke=\"none\" fill=\"#d18b47\" /><rect x=\"330\" y=\"60\" width=\"45\" height=\"45\" class=\"square light h7\" stroke=\"none\" fill=\"#ffce9e\" /><rect x=\"15\" y=\"15\" width=\"45\" height=\"45\" class=\"square light a8\" stroke=\"none\" fill=\"#ffce9e\" /><rect x=\"60\" y=\"15\" width=\"45\" height=\"45\" class=\"square dark b8\" stroke=\"none\" fill=\"#d18b47\" /><rect x=\"105\" y=\"15\" width=\"45\" height=\"45\" class=\"square light c8\" stroke=\"none\" fill=\"#ffce9e\" /><rect x=\"150\" y=\"15\" width=\"45\" height=\"45\" class=\"square dark d8\" stroke=\"none\" fill=\"#d18b47\" /><rect x=\"195\" y=\"15\" width=\"45\" height=\"45\" class=\"square light e8\" stroke=\"none\" fill=\"#ffce9e\" /><rect x=\"240\" y=\"15\" width=\"45\" height=\"45\" class=\"square dark f8\" stroke=\"none\" fill=\"#d18b47\" /><rect x=\"285\" y=\"15\" width=\"45\" height=\"45\" class=\"square light g8\" stroke=\"none\" fill=\"#ffce9e\" /><rect x=\"330\" y=\"15\" width=\"45\" height=\"45\" class=\"square dark h8\" stroke=\"none\" fill=\"#d18b47\" /></svg>"
          },
          "metadata": {},
          "execution_count": 6
        }
      ]
    },
    {
      "cell_type": "markdown",
      "source": [
        "Sömu gögn og áður."
      ],
      "metadata": {
        "id": "jyJPEBQkGa7O"
      }
    },
    {
      "cell_type": "code",
      "source": [
        "N = 10000\n",
        "innmerki = np.zeros((N, 8), dtype=int)\n",
        "sigur = np.zeros(N, dtype=int)\n",
        "einkunn = np.zeros(N)\n",
        "\n",
        "n = 0\n",
        "teljari = 0\n",
        "np.random.seed(37)\n",
        "\n",
        "while n < N:\n",
        "  reitir = np.random.choice(64, size=4, replace=False)\n",
        "  teljari += 1\n",
        "  board.clear()\n",
        "  board.set_piece_at(reitir[0], chess.Piece(6, 1))  # Hvítur kóngur\n",
        "  board.set_piece_at(reitir[1], chess.Piece(5, 1))  # Hvít drottning\n",
        "  board.set_piece_at(reitir[2], chess.Piece(6, 0))  # Svartur kóngur\n",
        "  board.set_piece_at(reitir[3], chess.Piece(4, 0))  # Svartur hrókur\n",
        "  board.push(chess.Move.null())                     # Svartur á að leika\n",
        "  if board.is_valid() and not board.is_checkmate():\n",
        "    innmerki[n, 0] = chess.square_file(reitir[0])\n",
        "    innmerki[n, 1] = chess.square_rank(reitir[0])\n",
        "    innmerki[n, 2] = chess.square_file(reitir[1])\n",
        "    innmerki[n, 3] = chess.square_rank(reitir[1])\n",
        "    innmerki[n, 4] = chess.square_file(reitir[2])\n",
        "    innmerki[n, 5] = chess.square_rank(reitir[2])\n",
        "    innmerki[n, 6] = chess.square_file(reitir[3])\n",
        "    innmerki[n, 7] = chess.square_rank(reitir[3])\n",
        "    dtz = tablebase.probe_dtz(board)\n",
        "    sigur[n] = (dtz < 0) * 1\n",
        "    einkunn[n] = dtz / (-2.)\n",
        "    n += 1\n",
        "\n",
        "print(teljari)\n",
        "print(np.sum(sigur))"
      ],
      "metadata": {
        "colab": {
          "base_uri": "https://localhost:8080/"
        },
        "id": "dronPxj26JG4",
        "outputId": "0341a1a2-78ab-453f-c676-a921ea11eaad"
      },
      "execution_count": null,
      "outputs": [
        {
          "output_type": "stream",
          "name": "stdout",
          "text": [
            "14070\n",
            "6643\n"
          ]
        }
      ]
    },
    {
      "cell_type": "code",
      "source": [
        "fjoldi_sigra = np.sum(sigur)\n",
        "innmerki_w = np.zeros((fjoldi_sigra, 8), dtype=int)\n",
        "einkunn_w = np.zeros(fjoldi_sigra)\n",
        "\n",
        "stak = 0\n",
        "\n",
        "for n in range(N):\n",
        "  if sigur[n] == 1:\n",
        "    innmerki_w[stak] = innmerki[n]\n",
        "    einkunn_w[stak] = einkunn[n]\n",
        "    stak += 1"
      ],
      "metadata": {
        "id": "uU3raUGw6QB1"
      },
      "execution_count": null,
      "outputs": []
    },
    {
      "cell_type": "code",
      "source": [
        "from sklearn.model_selection import train_test_split"
      ],
      "metadata": {
        "id": "6UFF-H586Qtp"
      },
      "execution_count": null,
      "outputs": []
    },
    {
      "cell_type": "code",
      "source": [
        "inn_tr, inn_val, sigur_tr, sigur_val = train_test_split(innmerki, sigur, test_size=0.2, random_state=37)\n",
        "inn_w_tr, inn_w_val, eink_w_tr, eink_w_val = train_test_split(innmerki_w, einkunn_w, test_size=0.2, random_state=37)"
      ],
      "metadata": {
        "id": "JBNAADhp6Ycq"
      },
      "execution_count": null,
      "outputs": []
    },
    {
      "cell_type": "code",
      "source": [
        "print(inn_tr.shape)\n",
        "print(inn_val.shape)\n",
        "print(sigur_tr.shape)\n",
        "print(sigur_val.shape)\n",
        "print(inn_w_tr.shape)\n",
        "print(inn_w_val.shape)\n",
        "print(eink_w_tr.shape)\n",
        "print(eink_w_val.shape)"
      ],
      "metadata": {
        "colab": {
          "base_uri": "https://localhost:8080/"
        },
        "id": "jJiLl8wm6bRH",
        "outputId": "f7d82c23-d3ad-4ab1-9d77-057970d92359"
      },
      "execution_count": null,
      "outputs": [
        {
          "output_type": "stream",
          "name": "stdout",
          "text": [
            "(8000, 8)\n",
            "(2000, 8)\n",
            "(8000,)\n",
            "(2000,)\n",
            "(5314, 8)\n",
            "(1329, 8)\n",
            "(5314,)\n",
            "(1329,)\n"
          ]
        }
      ]
    },
    {
      "cell_type": "code",
      "source": [
        "inn_tr_skalad = inn_tr / 3.5 - 1.0\n",
        "inn_val_skalad = inn_val / 3.5 - 1.0\n",
        "inn_w_tr_skalad = inn_w_tr / 3.5 - 1.0\n",
        "inn_w_val_skalad = inn_w_val / 3.5 - 1.0"
      ],
      "metadata": {
        "id": "eUHACwCp6jpi"
      },
      "execution_count": null,
      "outputs": []
    },
    {
      "cell_type": "markdown",
      "source": [
        "importa tensorflow"
      ],
      "metadata": {
        "id": "pGMOBw0oGoI4"
      }
    },
    {
      "cell_type": "code",
      "source": [
        "import matplotlib.pyplot as plt\n",
        "import pandas as pd\n",
        "import tensorflow as tf\n",
        "from tensorflow import keras"
      ],
      "metadata": {
        "id": "yZt8jMRRAAmN"
      },
      "execution_count": null,
      "outputs": []
    },
    {
      "cell_type": "code",
      "source": [
        "tf.__version__"
      ],
      "metadata": {
        "colab": {
          "base_uri": "https://localhost:8080/",
          "height": 35
        },
        "id": "SycONGcWAQe0",
        "outputId": "9a31f820-32ba-48ce-f15b-89cee1bcd5ca"
      },
      "execution_count": null,
      "outputs": [
        {
          "output_type": "execute_result",
          "data": {
            "text/plain": [
              "'2.15.0'"
            ],
            "application/vnd.google.colaboratory.intrinsic+json": {
              "type": "string"
            }
          },
          "metadata": {},
          "execution_count": 15
        }
      ]
    },
    {
      "cell_type": "markdown",
      "source": [
        "Djúpt tauganet með 2 földum lögum - flokkun"
      ],
      "metadata": {
        "id": "Rml_NOnVG3an"
      }
    },
    {
      "cell_type": "code",
      "source": [
        "flokkun_1 = keras.models.Sequential()\n",
        "flokkun_1.add(keras.layers.Dense(64, activation=\"relu\"))\n",
        "flokkun_1.add(keras.layers.Dense(64, activation=\"relu\"))\n",
        "flokkun_1.add(keras.layers.Dense(1, activation=\"sigmoid\"))"
      ],
      "metadata": {
        "id": "QBH0lZC1Bw9Q"
      },
      "execution_count": null,
      "outputs": []
    },
    {
      "cell_type": "code",
      "source": [
        "flokkun_1.build((None,8))"
      ],
      "metadata": {
        "id": "dttIwqsXDRGC"
      },
      "execution_count": null,
      "outputs": []
    },
    {
      "cell_type": "code",
      "source": [
        "flokkun_1.summary()"
      ],
      "metadata": {
        "colab": {
          "base_uri": "https://localhost:8080/"
        },
        "id": "5JC2W2LoDa3g",
        "outputId": "3d42a00c-6961-49df-d117-ffec6e178489"
      },
      "execution_count": null,
      "outputs": [
        {
          "output_type": "stream",
          "name": "stdout",
          "text": [
            "Model: \"sequential_2\"\n",
            "_________________________________________________________________\n",
            " Layer (type)                Output Shape              Param #   \n",
            "=================================================================\n",
            " dense_9 (Dense)             (None, 64)                576       \n",
            "                                                                 \n",
            " dense_10 (Dense)            (None, 64)                4160      \n",
            "                                                                 \n",
            " dense_11 (Dense)            (None, 1)                 65        \n",
            "                                                                 \n",
            "=================================================================\n",
            "Total params: 4801 (18.75 KB)\n",
            "Trainable params: 4801 (18.75 KB)\n",
            "Non-trainable params: 0 (0.00 Byte)\n",
            "_________________________________________________________________\n"
          ]
        }
      ]
    },
    {
      "cell_type": "code",
      "source": [
        "flokkun_1.layers"
      ],
      "metadata": {
        "colab": {
          "base_uri": "https://localhost:8080/"
        },
        "id": "B7wHBMQoDdsx",
        "outputId": "29cb9e7b-e4bb-499e-ebb8-51b613329f73"
      },
      "execution_count": null,
      "outputs": [
        {
          "output_type": "execute_result",
          "data": {
            "text/plain": [
              "[<keras.src.layers.core.dense.Dense at 0x7bbbbb43a7d0>,\n",
              " <keras.src.layers.core.dense.Dense at 0x7bbbba72bf40>,\n",
              " <keras.src.layers.core.dense.Dense at 0x7bbbbb4630a0>]"
            ]
          },
          "metadata": {},
          "execution_count": 35
        }
      ]
    },
    {
      "cell_type": "code",
      "source": [
        "flokkun_1.compile(loss=\"binary_crossentropy\",\n",
        "              optimizer='adam',\n",
        "              metrics=[\"accuracy\"])"
      ],
      "metadata": {
        "id": "GXUu20pVDhmw"
      },
      "execution_count": null,
      "outputs": []
    },
    {
      "cell_type": "code",
      "source": [
        "history_fl_1 = flokkun_1.fit(inn_tr_skalad, sigur_tr, epochs=50,\n",
        "                    validation_data=(inn_val_skalad, sigur_val))"
      ],
      "metadata": {
        "colab": {
          "base_uri": "https://localhost:8080/"
        },
        "id": "gPY8MJ1BDm6V",
        "outputId": "bede939c-ba3b-478a-f962-63f344f91bf3"
      },
      "execution_count": null,
      "outputs": [
        {
          "output_type": "stream",
          "name": "stdout",
          "text": [
            "Epoch 1/50\n",
            "250/250 [==============================] - 2s 4ms/step - loss: 0.6245 - accuracy: 0.6587 - val_loss: 0.5990 - val_accuracy: 0.6760\n",
            "Epoch 2/50\n",
            "250/250 [==============================] - 1s 4ms/step - loss: 0.5956 - accuracy: 0.6830 - val_loss: 0.5859 - val_accuracy: 0.6870\n",
            "Epoch 3/50\n",
            "250/250 [==============================] - 1s 4ms/step - loss: 0.5831 - accuracy: 0.6957 - val_loss: 0.5763 - val_accuracy: 0.7000\n",
            "Epoch 4/50\n",
            "250/250 [==============================] - 1s 5ms/step - loss: 0.5711 - accuracy: 0.7079 - val_loss: 0.5638 - val_accuracy: 0.7085\n",
            "Epoch 5/50\n",
            "250/250 [==============================] - 1s 3ms/step - loss: 0.5553 - accuracy: 0.7228 - val_loss: 0.5534 - val_accuracy: 0.7250\n",
            "Epoch 6/50\n",
            "250/250 [==============================] - 1s 2ms/step - loss: 0.5396 - accuracy: 0.7377 - val_loss: 0.5334 - val_accuracy: 0.7370\n",
            "Epoch 7/50\n",
            "250/250 [==============================] - 1s 3ms/step - loss: 0.5138 - accuracy: 0.7619 - val_loss: 0.5189 - val_accuracy: 0.7645\n",
            "Epoch 8/50\n",
            "250/250 [==============================] - 1s 2ms/step - loss: 0.4866 - accuracy: 0.7865 - val_loss: 0.4766 - val_accuracy: 0.7950\n",
            "Epoch 9/50\n",
            "250/250 [==============================] - 1s 2ms/step - loss: 0.4527 - accuracy: 0.8177 - val_loss: 0.4467 - val_accuracy: 0.8175\n",
            "Epoch 10/50\n",
            "250/250 [==============================] - 1s 3ms/step - loss: 0.4188 - accuracy: 0.8443 - val_loss: 0.4129 - val_accuracy: 0.8470\n",
            "Epoch 11/50\n",
            "250/250 [==============================] - 1s 2ms/step - loss: 0.3852 - accuracy: 0.8648 - val_loss: 0.3815 - val_accuracy: 0.8700\n",
            "Epoch 12/50\n",
            "250/250 [==============================] - 1s 2ms/step - loss: 0.3539 - accuracy: 0.8903 - val_loss: 0.3465 - val_accuracy: 0.8920\n",
            "Epoch 13/50\n",
            "250/250 [==============================] - 1s 2ms/step - loss: 0.3245 - accuracy: 0.9126 - val_loss: 0.3175 - val_accuracy: 0.9155\n",
            "Epoch 14/50\n",
            "250/250 [==============================] - 1s 3ms/step - loss: 0.2972 - accuracy: 0.9233 - val_loss: 0.2948 - val_accuracy: 0.9210\n",
            "Epoch 15/50\n",
            "250/250 [==============================] - 1s 3ms/step - loss: 0.2751 - accuracy: 0.9321 - val_loss: 0.2649 - val_accuracy: 0.9310\n",
            "Epoch 16/50\n",
            "250/250 [==============================] - 1s 2ms/step - loss: 0.2542 - accuracy: 0.9391 - val_loss: 0.2509 - val_accuracy: 0.9425\n",
            "Epoch 17/50\n",
            "250/250 [==============================] - 1s 3ms/step - loss: 0.2364 - accuracy: 0.9417 - val_loss: 0.2354 - val_accuracy: 0.9380\n",
            "Epoch 18/50\n",
            "250/250 [==============================] - 1s 3ms/step - loss: 0.2216 - accuracy: 0.9439 - val_loss: 0.2233 - val_accuracy: 0.9380\n",
            "Epoch 19/50\n",
            "250/250 [==============================] - 1s 2ms/step - loss: 0.2100 - accuracy: 0.9455 - val_loss: 0.2076 - val_accuracy: 0.9440\n",
            "Epoch 20/50\n",
            "250/250 [==============================] - 1s 3ms/step - loss: 0.1998 - accuracy: 0.9457 - val_loss: 0.1973 - val_accuracy: 0.9460\n",
            "Epoch 21/50\n",
            "250/250 [==============================] - 1s 4ms/step - loss: 0.1916 - accuracy: 0.9473 - val_loss: 0.1900 - val_accuracy: 0.9470\n",
            "Epoch 22/50\n",
            "250/250 [==============================] - 1s 4ms/step - loss: 0.1818 - accuracy: 0.9477 - val_loss: 0.1882 - val_accuracy: 0.9495\n",
            "Epoch 23/50\n",
            "250/250 [==============================] - 1s 4ms/step - loss: 0.1756 - accuracy: 0.9474 - val_loss: 0.1752 - val_accuracy: 0.9490\n",
            "Epoch 24/50\n",
            "250/250 [==============================] - 1s 5ms/step - loss: 0.1697 - accuracy: 0.9494 - val_loss: 0.1800 - val_accuracy: 0.9460\n",
            "Epoch 25/50\n",
            "250/250 [==============================] - 1s 3ms/step - loss: 0.1665 - accuracy: 0.9494 - val_loss: 0.1650 - val_accuracy: 0.9475\n",
            "Epoch 26/50\n",
            "250/250 [==============================] - 1s 2ms/step - loss: 0.1614 - accuracy: 0.9498 - val_loss: 0.1756 - val_accuracy: 0.9480\n",
            "Epoch 27/50\n",
            "250/250 [==============================] - 1s 3ms/step - loss: 0.1584 - accuracy: 0.9501 - val_loss: 0.1602 - val_accuracy: 0.9515\n",
            "Epoch 28/50\n",
            "250/250 [==============================] - 1s 2ms/step - loss: 0.1550 - accuracy: 0.9495 - val_loss: 0.1685 - val_accuracy: 0.9475\n",
            "Epoch 29/50\n",
            "250/250 [==============================] - 1s 2ms/step - loss: 0.1508 - accuracy: 0.9491 - val_loss: 0.1614 - val_accuracy: 0.9500\n",
            "Epoch 30/50\n",
            "250/250 [==============================] - 1s 2ms/step - loss: 0.1484 - accuracy: 0.9521 - val_loss: 0.1706 - val_accuracy: 0.9465\n",
            "Epoch 31/50\n",
            "250/250 [==============================] - 1s 3ms/step - loss: 0.1474 - accuracy: 0.9505 - val_loss: 0.1662 - val_accuracy: 0.9470\n",
            "Epoch 32/50\n",
            "250/250 [==============================] - 1s 3ms/step - loss: 0.1433 - accuracy: 0.9523 - val_loss: 0.1547 - val_accuracy: 0.9490\n",
            "Epoch 33/50\n",
            "250/250 [==============================] - 1s 3ms/step - loss: 0.1423 - accuracy: 0.9523 - val_loss: 0.1532 - val_accuracy: 0.9490\n",
            "Epoch 34/50\n",
            "250/250 [==============================] - 1s 2ms/step - loss: 0.1388 - accuracy: 0.9526 - val_loss: 0.1574 - val_accuracy: 0.9495\n",
            "Epoch 35/50\n",
            "250/250 [==============================] - 1s 2ms/step - loss: 0.1369 - accuracy: 0.9548 - val_loss: 0.1490 - val_accuracy: 0.9490\n",
            "Epoch 36/50\n",
            "250/250 [==============================] - 1s 3ms/step - loss: 0.1359 - accuracy: 0.9528 - val_loss: 0.1479 - val_accuracy: 0.9505\n",
            "Epoch 37/50\n",
            "250/250 [==============================] - 1s 3ms/step - loss: 0.1333 - accuracy: 0.9531 - val_loss: 0.1458 - val_accuracy: 0.9515\n",
            "Epoch 38/50\n",
            "250/250 [==============================] - 1s 3ms/step - loss: 0.1321 - accuracy: 0.9551 - val_loss: 0.1474 - val_accuracy: 0.9485\n",
            "Epoch 39/50\n",
            "250/250 [==============================] - 1s 3ms/step - loss: 0.1288 - accuracy: 0.9548 - val_loss: 0.1462 - val_accuracy: 0.9500\n",
            "Epoch 40/50\n",
            "250/250 [==============================] - 1s 4ms/step - loss: 0.1298 - accuracy: 0.9556 - val_loss: 0.1545 - val_accuracy: 0.9490\n",
            "Epoch 41/50\n",
            "250/250 [==============================] - 1s 4ms/step - loss: 0.1269 - accuracy: 0.9549 - val_loss: 0.1519 - val_accuracy: 0.9505\n",
            "Epoch 42/50\n",
            "250/250 [==============================] - 1s 4ms/step - loss: 0.1247 - accuracy: 0.9557 - val_loss: 0.1451 - val_accuracy: 0.9515\n",
            "Epoch 43/50\n",
            "250/250 [==============================] - 1s 4ms/step - loss: 0.1251 - accuracy: 0.9555 - val_loss: 0.1472 - val_accuracy: 0.9505\n",
            "Epoch 44/50\n",
            "250/250 [==============================] - 1s 3ms/step - loss: 0.1213 - accuracy: 0.9579 - val_loss: 0.1430 - val_accuracy: 0.9550\n",
            "Epoch 45/50\n",
            "250/250 [==============================] - 1s 2ms/step - loss: 0.1195 - accuracy: 0.9581 - val_loss: 0.1403 - val_accuracy: 0.9505\n",
            "Epoch 46/50\n",
            "250/250 [==============================] - 1s 2ms/step - loss: 0.1198 - accuracy: 0.9564 - val_loss: 0.1456 - val_accuracy: 0.9480\n",
            "Epoch 47/50\n",
            "250/250 [==============================] - 1s 2ms/step - loss: 0.1169 - accuracy: 0.9580 - val_loss: 0.1453 - val_accuracy: 0.9515\n",
            "Epoch 48/50\n",
            "250/250 [==============================] - 1s 2ms/step - loss: 0.1178 - accuracy: 0.9575 - val_loss: 0.1434 - val_accuracy: 0.9480\n",
            "Epoch 49/50\n",
            "250/250 [==============================] - 1s 2ms/step - loss: 0.1160 - accuracy: 0.9580 - val_loss: 0.1422 - val_accuracy: 0.9560\n",
            "Epoch 50/50\n",
            "250/250 [==============================] - 1s 2ms/step - loss: 0.1161 - accuracy: 0.9586 - val_loss: 0.1400 - val_accuracy: 0.9505\n"
          ]
        }
      ]
    },
    {
      "cell_type": "code",
      "source": [
        "history_fl_1.params"
      ],
      "metadata": {
        "colab": {
          "base_uri": "https://localhost:8080/"
        },
        "id": "xX0ai68hFIUn",
        "outputId": "be118781-e4e1-4021-b5d4-23c00b98a886"
      },
      "execution_count": null,
      "outputs": [
        {
          "output_type": "execute_result",
          "data": {
            "text/plain": [
              "{'verbose': 1, 'epochs': 50, 'steps': 250}"
            ]
          },
          "metadata": {},
          "execution_count": 38
        }
      ]
    },
    {
      "cell_type": "code",
      "source": [
        "pd.DataFrame(history_fl_1.history).plot(figsize=(8, 5))\n",
        "plt.grid(True)\n",
        "plt.gca().set_ylim(-0.02, 1.02)\n",
        "plt.xlabel('Epoch')\n",
        "plt.show()"
      ],
      "metadata": {
        "colab": {
          "base_uri": "https://localhost:8080/",
          "height": 465
        },
        "id": "4j31BG64FPs7",
        "outputId": "92906e98-7faa-40c0-84e7-0ead15bf9a9a"
      },
      "execution_count": null,
      "outputs": [
        {
          "output_type": "display_data",
          "data": {
            "text/plain": [
              "<Figure size 800x500 with 1 Axes>"
            ],
            "image/png": "[encoded data removed]"
          },
          "metadata": {}
        }
      ]
    },
    {
      "cell_type": "markdown",
      "source": [
        "Djúpt tauganet með 4 földum lögum - flokkun"
      ],
      "metadata": {
        "id": "MLZLw1oHHInB"
      }
    },
    {
      "cell_type": "code",
      "source": [
        "flokkun_2 = keras.models.Sequential()\n",
        "flokkun_2.add(keras.layers.Dense(64, activation=\"relu\"))\n",
        "flokkun_2.add(keras.layers.Dense(64, activation=\"relu\"))\n",
        "flokkun_2.add(keras.layers.Dense(64, activation=\"relu\"))\n",
        "flokkun_2.add(keras.layers.Dense(64, activation=\"relu\"))\n",
        "flokkun_2.add(keras.layers.Dense(1, activation=\"sigmoid\"))"
      ],
      "metadata": {
        "id": "-h5Elcy3JFSS"
      },
      "execution_count": null,
      "outputs": []
    },
    {
      "cell_type": "code",
      "source": [
        "flokkun_2.build((None,8))"
      ],
      "metadata": {
        "id": "EeIyq_aiJOFs"
      },
      "execution_count": null,
      "outputs": []
    },
    {
      "cell_type": "code",
      "source": [
        "flokkun_2.summary()"
      ],
      "metadata": {
        "colab": {
          "base_uri": "https://localhost:8080/"
        },
        "id": "GY_ldNdaJTEb",
        "outputId": "48d9af72-e005-4317-a34c-bbbf5b406aa7"
      },
      "execution_count": null,
      "outputs": [
        {
          "output_type": "stream",
          "name": "stdout",
          "text": [
            "Model: \"sequential_19\"\n",
            "_________________________________________________________________\n",
            " Layer (type)                Output Shape              Param #   \n",
            "=================================================================\n",
            " dense_61 (Dense)            (None, 64)                576       \n",
            "                                                                 \n",
            " dense_62 (Dense)            (None, 64)                4160      \n",
            "                                                                 \n",
            " dense_63 (Dense)            (None, 64)                4160      \n",
            "                                                                 \n",
            " dense_64 (Dense)            (None, 64)                4160      \n",
            "                                                                 \n",
            " dense_65 (Dense)            (None, 1)                 65        \n",
            "                                                                 \n",
            "=================================================================\n",
            "Total params: 13121 (51.25 KB)\n",
            "Trainable params: 13121 (51.25 KB)\n",
            "Non-trainable params: 0 (0.00 Byte)\n",
            "_________________________________________________________________\n"
          ]
        }
      ]
    },
    {
      "cell_type": "code",
      "source": [
        "flokkun_2.layers"
      ],
      "metadata": {
        "colab": {
          "base_uri": "https://localhost:8080/"
        },
        "id": "Uc-kqfLdJW_3",
        "outputId": "f779ec3f-42c6-41f1-cdf9-f0047e43aae4"
      },
      "execution_count": null,
      "outputs": [
        {
          "output_type": "execute_result",
          "data": {
            "text/plain": [
              "[<keras.src.layers.core.dense.Dense at 0x7bbbb678b1f0>,\n",
              " <keras.src.layers.core.dense.Dense at 0x7bbbb64126e0>,\n",
              " <keras.src.layers.core.dense.Dense at 0x7bbbb69d0370>,\n",
              " <keras.src.layers.core.dense.Dense at 0x7bbbb642cf70>,\n",
              " <keras.src.layers.core.dense.Dense at 0x7bbbb642cbe0>]"
            ]
          },
          "metadata": {},
          "execution_count": 119
        }
      ]
    },
    {
      "cell_type": "code",
      "source": [
        "flokkun_2.compile(loss=\"binary_crossentropy\",\n",
        "              optimizer='adam',\n",
        "              metrics=[\"accuracy\"])"
      ],
      "metadata": {
        "id": "l9iqddgBJbo4"
      },
      "execution_count": null,
      "outputs": []
    },
    {
      "cell_type": "code",
      "source": [
        "history_fl_2 = flokkun_2.fit(inn_tr_skalad, sigur_tr, epochs=50,\n",
        "                    validation_data=(inn_val_skalad, sigur_val))"
      ],
      "metadata": {
        "colab": {
          "base_uri": "https://localhost:8080/"
        },
        "id": "I1fRzvEeJhD_",
        "outputId": "b1d1e31e-cc25-44a2-e869-4a2c449fa99e"
      },
      "execution_count": null,
      "outputs": [
        {
          "output_type": "stream",
          "name": "stdout",
          "text": [
            "Epoch 1/50\n",
            "250/250 [==============================] - 2s 3ms/step - loss: 0.6218 - accuracy: 0.6628 - val_loss: 0.6009 - val_accuracy: 0.6795\n",
            "Epoch 2/50\n",
            "250/250 [==============================] - 1s 3ms/step - loss: 0.5912 - accuracy: 0.6816 - val_loss: 0.5819 - val_accuracy: 0.6830\n",
            "Epoch 3/50\n",
            "250/250 [==============================] - 1s 3ms/step - loss: 0.5758 - accuracy: 0.6986 - val_loss: 0.5700 - val_accuracy: 0.6990\n",
            "Epoch 4/50\n",
            "250/250 [==============================] - 1s 3ms/step - loss: 0.5522 - accuracy: 0.7181 - val_loss: 0.5294 - val_accuracy: 0.7385\n",
            "Epoch 5/50\n",
            "250/250 [==============================] - 1s 3ms/step - loss: 0.4963 - accuracy: 0.7713 - val_loss: 0.4580 - val_accuracy: 0.8065\n",
            "Epoch 6/50\n",
            "250/250 [==============================] - 1s 3ms/step - loss: 0.4289 - accuracy: 0.8207 - val_loss: 0.4057 - val_accuracy: 0.8290\n",
            "Epoch 7/50\n",
            "250/250 [==============================] - 1s 3ms/step - loss: 0.3696 - accuracy: 0.8550 - val_loss: 0.3522 - val_accuracy: 0.8605\n",
            "Epoch 8/50\n",
            "250/250 [==============================] - 1s 3ms/step - loss: 0.3136 - accuracy: 0.8903 - val_loss: 0.2863 - val_accuracy: 0.9010\n",
            "Epoch 9/50\n",
            "250/250 [==============================] - 1s 3ms/step - loss: 0.2631 - accuracy: 0.9159 - val_loss: 0.2604 - val_accuracy: 0.9125\n",
            "Epoch 10/50\n",
            "250/250 [==============================] - 1s 3ms/step - loss: 0.2240 - accuracy: 0.9294 - val_loss: 0.2121 - val_accuracy: 0.9325\n",
            "Epoch 11/50\n",
            "250/250 [==============================] - 1s 3ms/step - loss: 0.2016 - accuracy: 0.9356 - val_loss: 0.1995 - val_accuracy: 0.9300\n",
            "Epoch 12/50\n",
            "250/250 [==============================] - 1s 4ms/step - loss: 0.1860 - accuracy: 0.9384 - val_loss: 0.1812 - val_accuracy: 0.9380\n",
            "Epoch 13/50\n",
            "250/250 [==============================] - 1s 4ms/step - loss: 0.1746 - accuracy: 0.9435 - val_loss: 0.2037 - val_accuracy: 0.9315\n",
            "Epoch 14/50\n",
            "250/250 [==============================] - 1s 5ms/step - loss: 0.1598 - accuracy: 0.9456 - val_loss: 0.2025 - val_accuracy: 0.9375\n",
            "Epoch 15/50\n",
            "250/250 [==============================] - 1s 4ms/step - loss: 0.1590 - accuracy: 0.9461 - val_loss: 0.1700 - val_accuracy: 0.9400\n",
            "Epoch 16/50\n",
            "250/250 [==============================] - 1s 3ms/step - loss: 0.1436 - accuracy: 0.9511 - val_loss: 0.1837 - val_accuracy: 0.9455\n",
            "Epoch 17/50\n",
            "250/250 [==============================] - 1s 3ms/step - loss: 0.1385 - accuracy: 0.9495 - val_loss: 0.1810 - val_accuracy: 0.9405\n",
            "Epoch 18/50\n",
            "250/250 [==============================] - 1s 3ms/step - loss: 0.1372 - accuracy: 0.9481 - val_loss: 0.1748 - val_accuracy: 0.9375\n",
            "Epoch 19/50\n",
            "250/250 [==============================] - 1s 3ms/step - loss: 0.1313 - accuracy: 0.9521 - val_loss: 0.1837 - val_accuracy: 0.9405\n",
            "Epoch 20/50\n",
            "250/250 [==============================] - 1s 3ms/step - loss: 0.1291 - accuracy: 0.9539 - val_loss: 0.1625 - val_accuracy: 0.9455\n",
            "Epoch 21/50\n",
            "250/250 [==============================] - 1s 3ms/step - loss: 0.1209 - accuracy: 0.9572 - val_loss: 0.1835 - val_accuracy: 0.9370\n",
            "Epoch 22/50\n",
            "250/250 [==============================] - 1s 3ms/step - loss: 0.1210 - accuracy: 0.9553 - val_loss: 0.1746 - val_accuracy: 0.9450\n",
            "Epoch 23/50\n",
            "250/250 [==============================] - 1s 3ms/step - loss: 0.1221 - accuracy: 0.9549 - val_loss: 0.1659 - val_accuracy: 0.9455\n",
            "Epoch 24/50\n",
            "250/250 [==============================] - 1s 3ms/step - loss: 0.1142 - accuracy: 0.9561 - val_loss: 0.1745 - val_accuracy: 0.9405\n",
            "Epoch 25/50\n",
            "250/250 [==============================] - 1s 3ms/step - loss: 0.1096 - accuracy: 0.9584 - val_loss: 0.1864 - val_accuracy: 0.9390\n",
            "Epoch 26/50\n",
            "250/250 [==============================] - 1s 3ms/step - loss: 0.1052 - accuracy: 0.9609 - val_loss: 0.1587 - val_accuracy: 0.9455\n",
            "Epoch 27/50\n",
            "250/250 [==============================] - 1s 3ms/step - loss: 0.1112 - accuracy: 0.9566 - val_loss: 0.1644 - val_accuracy: 0.9415\n",
            "Epoch 28/50\n",
            "250/250 [==============================] - 1s 3ms/step - loss: 0.1006 - accuracy: 0.9616 - val_loss: 0.1909 - val_accuracy: 0.9320\n",
            "Epoch 29/50\n",
            "250/250 [==============================] - 1s 4ms/step - loss: 0.1120 - accuracy: 0.9581 - val_loss: 0.1632 - val_accuracy: 0.9440\n",
            "Epoch 30/50\n",
            "250/250 [==============================] - 1s 4ms/step - loss: 0.0960 - accuracy: 0.9607 - val_loss: 0.2142 - val_accuracy: 0.9250\n",
            "Epoch 31/50\n",
            "250/250 [==============================] - 1s 4ms/step - loss: 0.1061 - accuracy: 0.9589 - val_loss: 0.1759 - val_accuracy: 0.9350\n",
            "Epoch 32/50\n",
            "250/250 [==============================] - 1s 4ms/step - loss: 0.0964 - accuracy: 0.9620 - val_loss: 0.1926 - val_accuracy: 0.9425\n",
            "Epoch 33/50\n",
            "250/250 [==============================] - 1s 3ms/step - loss: 0.0893 - accuracy: 0.9671 - val_loss: 0.1731 - val_accuracy: 0.9410\n",
            "Epoch 34/50\n",
            "250/250 [==============================] - 1s 3ms/step - loss: 0.0976 - accuracy: 0.9646 - val_loss: 0.1735 - val_accuracy: 0.9440\n",
            "Epoch 35/50\n",
            "250/250 [==============================] - 1s 3ms/step - loss: 0.0893 - accuracy: 0.9639 - val_loss: 0.1761 - val_accuracy: 0.9465\n",
            "Epoch 36/50\n",
            "250/250 [==============================] - 1s 3ms/step - loss: 0.0952 - accuracy: 0.9645 - val_loss: 0.1931 - val_accuracy: 0.9345\n",
            "Epoch 37/50\n",
            "250/250 [==============================] - 1s 3ms/step - loss: 0.0873 - accuracy: 0.9663 - val_loss: 0.1767 - val_accuracy: 0.9350\n",
            "Epoch 38/50\n",
            "250/250 [==============================] - 1s 3ms/step - loss: 0.0871 - accuracy: 0.9666 - val_loss: 0.1810 - val_accuracy: 0.9460\n",
            "Epoch 39/50\n",
            "250/250 [==============================] - 1s 3ms/step - loss: 0.0795 - accuracy: 0.9686 - val_loss: 0.2041 - val_accuracy: 0.9310\n",
            "Epoch 40/50\n",
            "250/250 [==============================] - 1s 3ms/step - loss: 0.0787 - accuracy: 0.9671 - val_loss: 0.1661 - val_accuracy: 0.9410\n",
            "Epoch 41/50\n",
            "250/250 [==============================] - 1s 3ms/step - loss: 0.0801 - accuracy: 0.9681 - val_loss: 0.2052 - val_accuracy: 0.9435\n",
            "Epoch 42/50\n",
            "250/250 [==============================] - 1s 3ms/step - loss: 0.0834 - accuracy: 0.9686 - val_loss: 0.2090 - val_accuracy: 0.9365\n",
            "Epoch 43/50\n",
            "250/250 [==============================] - 1s 3ms/step - loss: 0.0812 - accuracy: 0.9694 - val_loss: 0.1902 - val_accuracy: 0.9375\n",
            "Epoch 44/50\n",
            "250/250 [==============================] - 1s 3ms/step - loss: 0.0708 - accuracy: 0.9724 - val_loss: 0.1921 - val_accuracy: 0.9435\n",
            "Epoch 45/50\n",
            "250/250 [==============================] - 1s 3ms/step - loss: 0.0691 - accuracy: 0.9732 - val_loss: 0.1908 - val_accuracy: 0.9405\n",
            "Epoch 46/50\n",
            "250/250 [==============================] - 1s 4ms/step - loss: 0.0689 - accuracy: 0.9720 - val_loss: 0.1975 - val_accuracy: 0.9445\n",
            "Epoch 47/50\n",
            "250/250 [==============================] - 1s 4ms/step - loss: 0.0698 - accuracy: 0.9718 - val_loss: 0.2188 - val_accuracy: 0.9455\n",
            "Epoch 48/50\n",
            "250/250 [==============================] - 1s 5ms/step - loss: 0.0779 - accuracy: 0.9690 - val_loss: 0.2262 - val_accuracy: 0.9365\n",
            "Epoch 49/50\n",
            "250/250 [==============================] - 1s 4ms/step - loss: 0.0706 - accuracy: 0.9734 - val_loss: 0.1939 - val_accuracy: 0.9330\n",
            "Epoch 50/50\n",
            "250/250 [==============================] - 1s 3ms/step - loss: 0.0743 - accuracy: 0.9697 - val_loss: 0.2109 - val_accuracy: 0.9410\n"
          ]
        }
      ]
    },
    {
      "cell_type": "code",
      "source": [
        "history_fl_2.params"
      ],
      "metadata": {
        "colab": {
          "base_uri": "https://localhost:8080/"
        },
        "id": "XyvJZ4OwJnTV",
        "outputId": "cb306bb6-9c1c-4aa0-bd4b-663e86a0af18"
      },
      "execution_count": null,
      "outputs": [
        {
          "output_type": "execute_result",
          "data": {
            "text/plain": [
              "{'verbose': 1, 'epochs': 50, 'steps': 250}"
            ]
          },
          "metadata": {},
          "execution_count": 122
        }
      ]
    },
    {
      "cell_type": "code",
      "source": [
        "pd.DataFrame(history_fl_2.history).plot(figsize=(8, 5))\n",
        "plt.grid(True)\n",
        "plt.gca().set_ylim(-0.02, 1.02)\n",
        "plt.xlabel('Epoch')\n",
        "plt.show()"
      ],
      "metadata": {
        "colab": {
          "base_uri": "https://localhost:8080/",
          "height": 465
        },
        "id": "6G2MiJvEJr0z",
        "outputId": "f1a42929-3ebc-4735-b2c3-6eec7c0cf0dd"
      },
      "execution_count": null,
      "outputs": [
        {
          "output_type": "display_data",
          "data": {
            "text/plain": [
              "<Figure size 800x500 with 1 Axes>"
            ],
            "image/png": "[encoded data removed]"
          },
          "metadata": {}
        }
      ]
    },
    {
      "cell_type": "markdown",
      "source": [
        "Djúpt tauganet með 3 földum lögum - aðhvarfsgreining"
      ],
      "metadata": {
        "id": "bp4SfNN_HQ6p"
      }
    },
    {
      "cell_type": "code",
      "source": [
        "reg_1 = keras.models.Sequential()\n",
        "reg_1.add(keras.layers.Dense(40, activation=\"relu\"))\n",
        "reg_1.add(keras.layers.Dense(40, activation=\"relu\"))\n",
        "reg_1.add(keras.layers.Dense(40, activation=\"relu\"))\n",
        "reg_1.add(keras.layers.Dense(1, activation=\"linear\"))"
      ],
      "metadata": {
        "id": "wug5N5OTaOhW"
      },
      "execution_count": null,
      "outputs": []
    },
    {
      "cell_type": "code",
      "source": [
        "reg_1.build((None,8))"
      ],
      "metadata": {
        "id": "_4h-76Yab5YI"
      },
      "execution_count": null,
      "outputs": []
    },
    {
      "cell_type": "code",
      "source": [
        "reg_1.summary()"
      ],
      "metadata": {
        "colab": {
          "base_uri": "https://localhost:8080/"
        },
        "id": "4byNaOaVb_R0",
        "outputId": "99fa7d74-ca20-4d44-8910-cf92261f2afa"
      },
      "execution_count": null,
      "outputs": [
        {
          "output_type": "stream",
          "name": "stdout",
          "text": [
            "Model: \"sequential_29\"\n",
            "_________________________________________________________________\n",
            " Layer (type)                Output Shape              Param #   \n",
            "=================================================================\n",
            " dense_102 (Dense)           (None, 40)                360       \n",
            "                                                                 \n",
            " dense_103 (Dense)           (None, 40)                1640      \n",
            "                                                                 \n",
            " dense_104 (Dense)           (None, 40)                1640      \n",
            "                                                                 \n",
            " dense_105 (Dense)           (None, 1)                 41        \n",
            "                                                                 \n",
            "=================================================================\n",
            "Total params: 3681 (14.38 KB)\n",
            "Trainable params: 3681 (14.38 KB)\n",
            "Non-trainable params: 0 (0.00 Byte)\n",
            "_________________________________________________________________\n"
          ]
        }
      ]
    },
    {
      "cell_type": "code",
      "source": [
        "reg_1.layers"
      ],
      "metadata": {
        "colab": {
          "base_uri": "https://localhost:8080/"
        },
        "id": "46yu0q3XcBTw",
        "outputId": "cb3681d2-87d6-4630-cc28-4ac27db34ed8"
      },
      "execution_count": null,
      "outputs": [
        {
          "output_type": "execute_result",
          "data": {
            "text/plain": [
              "[<keras.src.layers.core.dense.Dense at 0x7bbbb6a3d330>,\n",
              " <keras.src.layers.core.dense.Dense at 0x7bbbb651d510>,\n",
              " <keras.src.layers.core.dense.Dense at 0x7bbbb69fa8c0>,\n",
              " <keras.src.layers.core.dense.Dense at 0x7bbbb77d5c30>]"
            ]
          },
          "metadata": {},
          "execution_count": 195
        }
      ]
    },
    {
      "cell_type": "code",
      "source": [
        "reg_1.compile(loss=\"mse\", optimizer='adam', metrics=[keras.metrics.R2Score()])"
      ],
      "metadata": {
        "id": "7rlrtPgncIep"
      },
      "execution_count": null,
      "outputs": []
    },
    {
      "cell_type": "code",
      "source": [
        "history_r_1 = reg_1.fit(inn_w_tr_skalad, eink_w_tr, epochs=100,\n",
        "                    validation_data=(inn_w_val_skalad, eink_w_val))"
      ],
      "metadata": {
        "colab": {
          "base_uri": "https://localhost:8080/"
        },
        "id": "jtHBP4THdnP_",
        "outputId": "f43dbbe1-fc27-4801-ed14-dd22c2674128"
      },
      "execution_count": null,
      "outputs": [
        {
          "output_type": "stream",
          "name": "stdout",
          "text": [
            "Epoch 1/100\n",
            "167/167 [==============================] - 2s 4ms/step - loss: 161.1900 - r2_score: -1.7447 - val_loss: 60.7097 - val_r2_score: 0.0058\n",
            "Epoch 2/100\n",
            "167/167 [==============================] - 0s 2ms/step - loss: 55.3797 - r2_score: 0.0570 - val_loss: 55.9805 - val_r2_score: 0.0832\n",
            "Epoch 3/100\n",
            "167/167 [==============================] - 0s 2ms/step - loss: 50.6757 - r2_score: 0.1371 - val_loss: 53.2285 - val_r2_score: 0.1283\n",
            "Epoch 4/100\n",
            "167/167 [==============================] - 0s 2ms/step - loss: 47.6131 - r2_score: 0.1893 - val_loss: 50.2283 - val_r2_score: 0.1774\n",
            "Epoch 5/100\n",
            "167/167 [==============================] - 0s 3ms/step - loss: 45.6919 - r2_score: 0.2220 - val_loss: 48.8352 - val_r2_score: 0.2002\n",
            "Epoch 6/100\n",
            "167/167 [==============================] - 0s 3ms/step - loss: 44.3519 - r2_score: 0.2448 - val_loss: 47.0337 - val_r2_score: 0.2297\n",
            "Epoch 7/100\n",
            "167/167 [==============================] - 1s 3ms/step - loss: 43.3716 - r2_score: 0.2615 - val_loss: 46.4427 - val_r2_score: 0.2394\n",
            "Epoch 8/100\n",
            "167/167 [==============================] - 0s 3ms/step - loss: 42.9532 - r2_score: 0.2686 - val_loss: 46.2253 - val_r2_score: 0.2430\n",
            "Epoch 9/100\n",
            "167/167 [==============================] - 0s 3ms/step - loss: 42.4702 - r2_score: 0.2768 - val_loss: 46.7678 - val_r2_score: 0.2341\n",
            "Epoch 10/100\n",
            "167/167 [==============================] - 0s 3ms/step - loss: 41.7950 - r2_score: 0.2883 - val_loss: 45.1513 - val_r2_score: 0.2606\n",
            "Epoch 11/100\n",
            "167/167 [==============================] - 0s 2ms/step - loss: 41.5667 - r2_score: 0.2922 - val_loss: 44.4634 - val_r2_score: 0.2718\n",
            "Epoch 12/100\n",
            "167/167 [==============================] - 0s 3ms/step - loss: 40.8479 - r2_score: 0.3045 - val_loss: 44.3119 - val_r2_score: 0.2743\n",
            "Epoch 13/100\n",
            "167/167 [==============================] - 0s 3ms/step - loss: 40.3402 - r2_score: 0.3131 - val_loss: 44.1189 - val_r2_score: 0.2775\n",
            "Epoch 14/100\n",
            "167/167 [==============================] - 0s 3ms/step - loss: 39.5800 - r2_score: 0.3260 - val_loss: 42.9431 - val_r2_score: 0.2967\n",
            "Epoch 15/100\n",
            "167/167 [==============================] - 0s 2ms/step - loss: 38.8360 - r2_score: 0.3387 - val_loss: 42.2067 - val_r2_score: 0.3088\n",
            "Epoch 16/100\n",
            "167/167 [==============================] - 0s 3ms/step - loss: 38.1281 - r2_score: 0.3508 - val_loss: 41.5377 - val_r2_score: 0.3197\n",
            "Epoch 17/100\n",
            "167/167 [==============================] - 0s 3ms/step - loss: 37.5025 - r2_score: 0.3614 - val_loss: 41.6519 - val_r2_score: 0.3179\n",
            "Epoch 18/100\n",
            "167/167 [==============================] - 0s 3ms/step - loss: 37.2039 - r2_score: 0.3665 - val_loss: 40.8921 - val_r2_score: 0.3303\n",
            "Epoch 19/100\n",
            "167/167 [==============================] - 0s 3ms/step - loss: 37.0013 - r2_score: 0.3700 - val_loss: 40.2552 - val_r2_score: 0.3407\n",
            "Epoch 20/100\n",
            "167/167 [==============================] - 1s 5ms/step - loss: 36.5145 - r2_score: 0.3782 - val_loss: 40.5383 - val_r2_score: 0.3361\n",
            "Epoch 21/100\n",
            "167/167 [==============================] - 1s 4ms/step - loss: 36.3401 - r2_score: 0.3812 - val_loss: 40.1524 - val_r2_score: 0.3424\n",
            "Epoch 22/100\n",
            "167/167 [==============================] - 1s 4ms/step - loss: 36.1526 - r2_score: 0.3844 - val_loss: 40.2632 - val_r2_score: 0.3406\n",
            "Epoch 23/100\n",
            "167/167 [==============================] - 1s 4ms/step - loss: 36.0341 - r2_score: 0.3864 - val_loss: 39.4573 - val_r2_score: 0.3538\n",
            "Epoch 24/100\n",
            "167/167 [==============================] - 1s 5ms/step - loss: 35.8826 - r2_score: 0.3890 - val_loss: 39.4435 - val_r2_score: 0.3540\n",
            "Epoch 25/100\n",
            "167/167 [==============================] - 1s 3ms/step - loss: 35.6615 - r2_score: 0.3928 - val_loss: 39.3218 - val_r2_score: 0.3560\n",
            "Epoch 26/100\n",
            "167/167 [==============================] - 0s 3ms/step - loss: 35.6230 - r2_score: 0.3934 - val_loss: 39.2389 - val_r2_score: 0.3574\n",
            "Epoch 27/100\n",
            "167/167 [==============================] - 0s 3ms/step - loss: 35.1981 - r2_score: 0.4007 - val_loss: 39.1130 - val_r2_score: 0.3595\n",
            "Epoch 28/100\n",
            "167/167 [==============================] - 0s 3ms/step - loss: 35.2962 - r2_score: 0.3990 - val_loss: 39.4189 - val_r2_score: 0.3544\n",
            "Epoch 29/100\n",
            "167/167 [==============================] - 0s 2ms/step - loss: 34.9905 - r2_score: 0.4042 - val_loss: 39.0506 - val_r2_score: 0.3605\n",
            "Epoch 30/100\n",
            "167/167 [==============================] - 0s 3ms/step - loss: 34.9056 - r2_score: 0.4056 - val_loss: 39.3543 - val_r2_score: 0.3555\n",
            "Epoch 31/100\n",
            "167/167 [==============================] - 0s 3ms/step - loss: 35.0670 - r2_score: 0.4029 - val_loss: 40.0231 - val_r2_score: 0.3446\n",
            "Epoch 32/100\n",
            "167/167 [==============================] - 0s 3ms/step - loss: 34.7202 - r2_score: 0.4088 - val_loss: 38.7941 - val_r2_score: 0.3647\n",
            "Epoch 33/100\n",
            "167/167 [==============================] - 0s 3ms/step - loss: 34.6244 - r2_score: 0.4104 - val_loss: 38.7165 - val_r2_score: 0.3659\n",
            "Epoch 34/100\n",
            "167/167 [==============================] - 0s 3ms/step - loss: 34.1669 - r2_score: 0.4182 - val_loss: 40.7642 - val_r2_score: 0.3324\n",
            "Epoch 35/100\n",
            "167/167 [==============================] - 0s 3ms/step - loss: 34.2721 - r2_score: 0.4164 - val_loss: 38.5490 - val_r2_score: 0.3687\n",
            "Epoch 36/100\n",
            "167/167 [==============================] - 0s 3ms/step - loss: 34.0141 - r2_score: 0.4208 - val_loss: 38.6749 - val_r2_score: 0.3666\n",
            "Epoch 37/100\n",
            "167/167 [==============================] - 0s 3ms/step - loss: 34.0765 - r2_score: 0.4198 - val_loss: 38.3698 - val_r2_score: 0.3716\n",
            "Epoch 38/100\n",
            "167/167 [==============================] - 0s 3ms/step - loss: 34.0096 - r2_score: 0.4209 - val_loss: 38.6038 - val_r2_score: 0.3678\n",
            "Epoch 39/100\n",
            "167/167 [==============================] - 0s 3ms/step - loss: 33.6737 - r2_score: 0.4266 - val_loss: 38.3243 - val_r2_score: 0.3724\n",
            "Epoch 40/100\n",
            "167/167 [==============================] - 0s 3ms/step - loss: 33.6053 - r2_score: 0.4278 - val_loss: 38.4225 - val_r2_score: 0.3708\n",
            "Epoch 41/100\n",
            "167/167 [==============================] - 0s 3ms/step - loss: 33.6338 - r2_score: 0.4273 - val_loss: 38.0239 - val_r2_score: 0.3773\n",
            "Epoch 42/100\n",
            "167/167 [==============================] - 0s 3ms/step - loss: 33.6157 - r2_score: 0.4276 - val_loss: 38.0152 - val_r2_score: 0.3774\n",
            "Epoch 43/100\n",
            "167/167 [==============================] - 0s 3ms/step - loss: 33.1016 - r2_score: 0.4364 - val_loss: 37.9641 - val_r2_score: 0.3783\n",
            "Epoch 44/100\n",
            "167/167 [==============================] - 0s 3ms/step - loss: 33.0711 - r2_score: 0.4369 - val_loss: 38.9269 - val_r2_score: 0.3625\n",
            "Epoch 45/100\n",
            "167/167 [==============================] - 0s 3ms/step - loss: 33.0433 - r2_score: 0.4373 - val_loss: 38.0779 - val_r2_score: 0.3764\n",
            "Epoch 46/100\n",
            "167/167 [==============================] - 0s 3ms/step - loss: 32.8551 - r2_score: 0.4406 - val_loss: 38.2475 - val_r2_score: 0.3736\n",
            "Epoch 47/100\n",
            "167/167 [==============================] - 1s 4ms/step - loss: 32.8332 - r2_score: 0.4409 - val_loss: 38.4509 - val_r2_score: 0.3703\n",
            "Epoch 48/100\n",
            "167/167 [==============================] - 1s 4ms/step - loss: 32.8149 - r2_score: 0.4412 - val_loss: 38.7029 - val_r2_score: 0.3662\n",
            "Epoch 49/100\n",
            "167/167 [==============================] - 1s 4ms/step - loss: 32.7998 - r2_score: 0.4415 - val_loss: 38.0834 - val_r2_score: 0.3763\n",
            "Epoch 50/100\n",
            "167/167 [==============================] - 1s 4ms/step - loss: 32.5906 - r2_score: 0.4451 - val_loss: 38.1498 - val_r2_score: 0.3752\n",
            "Epoch 51/100\n",
            "167/167 [==============================] - 1s 5ms/step - loss: 32.3518 - r2_score: 0.4491 - val_loss: 37.6496 - val_r2_score: 0.3834\n",
            "Epoch 52/100\n",
            "167/167 [==============================] - 1s 4ms/step - loss: 32.1812 - r2_score: 0.4520 - val_loss: 38.3966 - val_r2_score: 0.3712\n",
            "Epoch 53/100\n",
            "167/167 [==============================] - 0s 3ms/step - loss: 32.6056 - r2_score: 0.4448 - val_loss: 37.5525 - val_r2_score: 0.3850\n",
            "Epoch 54/100\n",
            "167/167 [==============================] - 0s 3ms/step - loss: 32.1490 - r2_score: 0.4526 - val_loss: 37.2577 - val_r2_score: 0.3898\n",
            "Epoch 55/100\n",
            "167/167 [==============================] - 0s 3ms/step - loss: 31.8649 - r2_score: 0.4574 - val_loss: 37.5192 - val_r2_score: 0.3856\n",
            "Epoch 56/100\n",
            "167/167 [==============================] - 0s 3ms/step - loss: 31.8023 - r2_score: 0.4585 - val_loss: 38.7530 - val_r2_score: 0.3653\n",
            "Epoch 57/100\n",
            "167/167 [==============================] - 0s 3ms/step - loss: 31.8155 - r2_score: 0.4583 - val_loss: 37.2067 - val_r2_score: 0.3907\n",
            "Epoch 58/100\n",
            "167/167 [==============================] - 0s 3ms/step - loss: 31.7443 - r2_score: 0.4595 - val_loss: 37.3803 - val_r2_score: 0.3878\n",
            "Epoch 59/100\n",
            "167/167 [==============================] - 0s 2ms/step - loss: 32.0140 - r2_score: 0.4549 - val_loss: 37.6622 - val_r2_score: 0.3832\n",
            "Epoch 60/100\n",
            "167/167 [==============================] - 0s 2ms/step - loss: 32.0111 - r2_score: 0.4549 - val_loss: 37.1827 - val_r2_score: 0.3911\n",
            "Epoch 61/100\n",
            "167/167 [==============================] - 0s 3ms/step - loss: 31.4252 - r2_score: 0.4649 - val_loss: 37.3207 - val_r2_score: 0.3888\n",
            "Epoch 62/100\n",
            "167/167 [==============================] - 0s 2ms/step - loss: 31.3417 - r2_score: 0.4663 - val_loss: 38.1977 - val_r2_score: 0.3744\n",
            "Epoch 63/100\n",
            "167/167 [==============================] - 0s 2ms/step - loss: 31.3106 - r2_score: 0.4669 - val_loss: 37.1982 - val_r2_score: 0.3908\n",
            "Epoch 64/100\n",
            "167/167 [==============================] - 0s 2ms/step - loss: 31.2990 - r2_score: 0.4670 - val_loss: 38.1374 - val_r2_score: 0.3754\n",
            "Epoch 65/100\n",
            "167/167 [==============================] - 0s 3ms/step - loss: 30.9757 - r2_score: 0.4726 - val_loss: 37.3357 - val_r2_score: 0.3886\n",
            "Epoch 66/100\n",
            "167/167 [==============================] - 0s 3ms/step - loss: 30.9289 - r2_score: 0.4734 - val_loss: 37.1354 - val_r2_score: 0.3918\n",
            "Epoch 67/100\n",
            "167/167 [==============================] - 1s 5ms/step - loss: 30.9691 - r2_score: 0.4727 - val_loss: 37.2157 - val_r2_score: 0.3905\n",
            "Epoch 68/100\n",
            "167/167 [==============================] - 0s 3ms/step - loss: 30.9147 - r2_score: 0.4736 - val_loss: 37.1055 - val_r2_score: 0.3923\n",
            "Epoch 69/100\n",
            "167/167 [==============================] - 0s 3ms/step - loss: 30.7086 - r2_score: 0.4771 - val_loss: 37.6500 - val_r2_score: 0.3834\n",
            "Epoch 70/100\n",
            "167/167 [==============================] - 1s 4ms/step - loss: 30.6489 - r2_score: 0.4781 - val_loss: 37.7916 - val_r2_score: 0.3811\n",
            "Epoch 71/100\n",
            "167/167 [==============================] - 1s 4ms/step - loss: 30.6232 - r2_score: 0.4786 - val_loss: 37.4764 - val_r2_score: 0.3863\n",
            "Epoch 72/100\n",
            "167/167 [==============================] - 1s 5ms/step - loss: 30.4776 - r2_score: 0.4810 - val_loss: 37.5398 - val_r2_score: 0.3852\n",
            "Epoch 73/100\n",
            "167/167 [==============================] - 1s 5ms/step - loss: 30.7060 - r2_score: 0.4771 - val_loss: 37.0337 - val_r2_score: 0.3935\n",
            "Epoch 74/100\n",
            "167/167 [==============================] - 1s 5ms/step - loss: 30.5798 - r2_score: 0.4793 - val_loss: 37.0988 - val_r2_score: 0.3924\n",
            "Epoch 75/100\n",
            "167/167 [==============================] - 1s 5ms/step - loss: 30.4449 - r2_score: 0.4816 - val_loss: 37.4363 - val_r2_score: 0.3869\n",
            "Epoch 76/100\n",
            "167/167 [==============================] - 1s 5ms/step - loss: 30.2566 - r2_score: 0.4848 - val_loss: 36.8686 - val_r2_score: 0.3962\n",
            "Epoch 77/100\n",
            "167/167 [==============================] - 1s 4ms/step - loss: 30.2161 - r2_score: 0.4855 - val_loss: 37.4213 - val_r2_score: 0.3872\n",
            "Epoch 78/100\n",
            "167/167 [==============================] - 1s 5ms/step - loss: 29.9321 - r2_score: 0.4903 - val_loss: 36.9772 - val_r2_score: 0.3944\n",
            "Epoch 79/100\n",
            "167/167 [==============================] - 1s 3ms/step - loss: 30.1000 - r2_score: 0.4875 - val_loss: 36.9683 - val_r2_score: 0.3946\n",
            "Epoch 80/100\n",
            "167/167 [==============================] - 0s 3ms/step - loss: 29.7449 - r2_score: 0.4935 - val_loss: 37.7301 - val_r2_score: 0.3821\n",
            "Epoch 81/100\n",
            "167/167 [==============================] - 0s 3ms/step - loss: 29.7200 - r2_score: 0.4939 - val_loss: 37.2616 - val_r2_score: 0.3898\n",
            "Epoch 82/100\n",
            "167/167 [==============================] - 0s 3ms/step - loss: 29.8267 - r2_score: 0.4921 - val_loss: 37.1969 - val_r2_score: 0.3908\n",
            "Epoch 83/100\n",
            "167/167 [==============================] - 0s 3ms/step - loss: 29.7193 - r2_score: 0.4939 - val_loss: 38.0843 - val_r2_score: 0.3763\n",
            "Epoch 84/100\n",
            "167/167 [==============================] - 0s 2ms/step - loss: 30.1260 - r2_score: 0.4870 - val_loss: 37.2202 - val_r2_score: 0.3905\n",
            "Epoch 85/100\n",
            "167/167 [==============================] - 0s 3ms/step - loss: 29.6358 - r2_score: 0.4954 - val_loss: 37.4083 - val_r2_score: 0.3874\n",
            "Epoch 86/100\n",
            "167/167 [==============================] - 0s 2ms/step - loss: 29.4198 - r2_score: 0.4990 - val_loss: 36.7637 - val_r2_score: 0.3979\n",
            "Epoch 87/100\n",
            "167/167 [==============================] - 0s 3ms/step - loss: 29.3132 - r2_score: 0.5009 - val_loss: 36.8794 - val_r2_score: 0.3960\n",
            "Epoch 88/100\n",
            "167/167 [==============================] - 0s 3ms/step - loss: 29.3264 - r2_score: 0.5006 - val_loss: 36.6869 - val_r2_score: 0.3992\n",
            "Epoch 89/100\n",
            "167/167 [==============================] - 0s 3ms/step - loss: 29.4016 - r2_score: 0.4994 - val_loss: 37.4587 - val_r2_score: 0.3865\n",
            "Epoch 90/100\n",
            "167/167 [==============================] - 0s 3ms/step - loss: 29.4510 - r2_score: 0.4985 - val_loss: 38.3889 - val_r2_score: 0.3713\n",
            "Epoch 91/100\n",
            "167/167 [==============================] - 0s 3ms/step - loss: 29.2042 - r2_score: 0.5027 - val_loss: 36.9095 - val_r2_score: 0.3955\n",
            "Epoch 92/100\n",
            "167/167 [==============================] - 0s 3ms/step - loss: 28.8400 - r2_score: 0.5089 - val_loss: 36.5049 - val_r2_score: 0.4022\n",
            "Epoch 93/100\n",
            "167/167 [==============================] - 0s 3ms/step - loss: 28.9037 - r2_score: 0.5078 - val_loss: 37.9585 - val_r2_score: 0.3784\n",
            "Epoch 94/100\n",
            "167/167 [==============================] - 0s 2ms/step - loss: 29.0951 - r2_score: 0.5046 - val_loss: 36.9253 - val_r2_score: 0.3953\n",
            "Epoch 95/100\n",
            "167/167 [==============================] - 0s 3ms/step - loss: 29.0163 - r2_score: 0.5059 - val_loss: 38.9392 - val_r2_score: 0.3623\n",
            "Epoch 96/100\n",
            "167/167 [==============================] - 0s 2ms/step - loss: 28.7725 - r2_score: 0.5101 - val_loss: 37.0377 - val_r2_score: 0.3934\n",
            "Epoch 97/100\n",
            "167/167 [==============================] - 0s 2ms/step - loss: 28.5671 - r2_score: 0.5136 - val_loss: 36.4529 - val_r2_score: 0.4030\n",
            "Epoch 98/100\n",
            "167/167 [==============================] - 0s 3ms/step - loss: 28.5316 - r2_score: 0.5142 - val_loss: 36.8369 - val_r2_score: 0.3967\n",
            "Epoch 99/100\n",
            "167/167 [==============================] - 0s 2ms/step - loss: 28.5579 - r2_score: 0.5137 - val_loss: 36.8137 - val_r2_score: 0.3971\n",
            "Epoch 100/100\n",
            "167/167 [==============================] - 0s 3ms/step - loss: 28.4485 - r2_score: 0.5156 - val_loss: 37.1414 - val_r2_score: 0.3917\n"
          ]
        }
      ]
    },
    {
      "cell_type": "code",
      "source": [
        "history_r_1.params"
      ],
      "metadata": {
        "id": "3IMFre7sdv6E",
        "colab": {
          "base_uri": "https://localhost:8080/"
        },
        "outputId": "abf8e3f8-070c-40b2-dfc1-f1c1a1535bc1"
      },
      "execution_count": null,
      "outputs": [
        {
          "output_type": "execute_result",
          "data": {
            "text/plain": [
              "{'verbose': 1, 'epochs': 100, 'steps': 167}"
            ]
          },
          "metadata": {},
          "execution_count": 201
        }
      ]
    },
    {
      "cell_type": "code",
      "source": [
        "pd.DataFrame(history_r_1.history).plot(figsize=(8, 5))\n",
        "plt.grid(True)\n",
        "plt.xlabel('Epoch')\n",
        "plt.show()"
      ],
      "metadata": {
        "id": "ourL_EObd0y1",
        "colab": {
          "base_uri": "https://localhost:8080/",
          "height": 465
        },
        "outputId": "74c6a16d-c15f-4114-e11f-264bb41c4cba"
      },
      "execution_count": null,
      "outputs": [
        {
          "output_type": "display_data",
          "data": {
            "text/plain": [
              "<Figure size 800x500 with 1 Axes>"
            ],
            "image/png": "[encoded data removed]"
          },
          "metadata": {}
        }
      ]
    },
    {
      "cell_type": "markdown",
      "source": [
        "Tauganet með 1 földu lagi - aðhvarfsgreining"
      ],
      "metadata": {
        "id": "37Q9RiAFHZ3T"
      }
    },
    {
      "cell_type": "code",
      "source": [
        "reg_2 = keras.models.Sequential()\n",
        "reg_2.add(keras.layers.Dense(100, activation=\"relu\"))\n",
        "reg_2.add(keras.layers.Dense(1, activation=\"linear\"))"
      ],
      "metadata": {
        "id": "V9PubaaYyLzM"
      },
      "execution_count": null,
      "outputs": []
    },
    {
      "cell_type": "code",
      "source": [
        "reg_2.build((None,8))"
      ],
      "metadata": {
        "id": "p9ah7lzYySwk"
      },
      "execution_count": null,
      "outputs": []
    },
    {
      "cell_type": "code",
      "source": [
        "reg_2.summary()"
      ],
      "metadata": {
        "colab": {
          "base_uri": "https://localhost:8080/"
        },
        "id": "fHu5WK0vyX21",
        "outputId": "365debb3-fdf5-40ad-b4bf-06fc04a8cace"
      },
      "execution_count": null,
      "outputs": [
        {
          "output_type": "stream",
          "name": "stdout",
          "text": [
            "Model: \"sequential_30\"\n",
            "_________________________________________________________________\n",
            " Layer (type)                Output Shape              Param #   \n",
            "=================================================================\n",
            " dense_106 (Dense)           (None, 100)               900       \n",
            "                                                                 \n",
            " dense_107 (Dense)           (None, 1)                 101       \n",
            "                                                                 \n",
            "=================================================================\n",
            "Total params: 1001 (3.91 KB)\n",
            "Trainable params: 1001 (3.91 KB)\n",
            "Non-trainable params: 0 (0.00 Byte)\n",
            "_________________________________________________________________\n"
          ]
        }
      ]
    },
    {
      "cell_type": "code",
      "source": [
        "reg_2.layers"
      ],
      "metadata": {
        "colab": {
          "base_uri": "https://localhost:8080/"
        },
        "id": "ttnBhnm-ycHC",
        "outputId": "62033625-b64c-4e54-e825-9c7a5f5dabb0"
      },
      "execution_count": null,
      "outputs": [
        {
          "output_type": "execute_result",
          "data": {
            "text/plain": [
              "[<keras.src.layers.core.dense.Dense at 0x7bbbba706da0>,\n",
              " <keras.src.layers.core.dense.Dense at 0x7bbbb064e620>]"
            ]
          },
          "metadata": {},
          "execution_count": 207
        }
      ]
    },
    {
      "cell_type": "code",
      "source": [
        "reg_2.compile(loss=\"mse\", optimizer='adam', metrics=[keras.metrics.R2Score()])"
      ],
      "metadata": {
        "id": "ToUZw6OQyhkd"
      },
      "execution_count": null,
      "outputs": []
    },
    {
      "cell_type": "code",
      "source": [
        "history_r_2 = reg_2.fit(inn_w_tr_skalad, eink_w_tr, epochs=200,\n",
        "                    validation_data=(inn_w_val_skalad, eink_w_val))"
      ],
      "metadata": {
        "colab": {
          "base_uri": "https://localhost:8080/"
        },
        "id": "RzLv4gVRyntG",
        "outputId": "95123f2c-3502-42f6-d02d-2f8df34b1200"
      },
      "execution_count": null,
      "outputs": [
        {
          "output_type": "stream",
          "name": "stdout",
          "text": [
            "Epoch 1/200\n",
            "167/167 [==============================] - 2s 6ms/step - loss: 321.0580 - r2_score: -4.4669 - val_loss: 230.4414 - val_r2_score: -2.7739\n",
            "Epoch 2/200\n",
            "167/167 [==============================] - 1s 4ms/step - loss: 141.4904 - r2_score: -1.4093 - val_loss: 79.7949 - val_r2_score: -0.3068\n",
            "Epoch 3/200\n",
            "167/167 [==============================] - 0s 2ms/step - loss: 61.9352 - r2_score: -0.0546 - val_loss: 59.0764 - val_r2_score: 0.0325\n",
            "Epoch 4/200\n",
            "167/167 [==============================] - 0s 2ms/step - loss: 55.2408 - r2_score: 0.0594 - val_loss: 57.4721 - val_r2_score: 0.0588\n",
            "Epoch 5/200\n",
            "167/167 [==============================] - 0s 2ms/step - loss: 53.8405 - r2_score: 0.0832 - val_loss: 56.3956 - val_r2_score: 0.0764\n",
            "Epoch 6/200\n",
            "167/167 [==============================] - 0s 2ms/step - loss: 52.6140 - r2_score: 0.1041 - val_loss: 55.1243 - val_r2_score: 0.0972\n",
            "Epoch 7/200\n",
            "167/167 [==============================] - 0s 2ms/step - loss: 51.3595 - r2_score: 0.1255 - val_loss: 54.0416 - val_r2_score: 0.1150\n",
            "Epoch 8/200\n",
            "167/167 [==============================] - 0s 2ms/step - loss: 49.9726 - r2_score: 0.1491 - val_loss: 52.2660 - val_r2_score: 0.1441\n",
            "Epoch 9/200\n",
            "167/167 [==============================] - 0s 2ms/step - loss: 48.2797 - r2_score: 0.1779 - val_loss: 50.6283 - val_r2_score: 0.1709\n",
            "Epoch 10/200\n",
            "167/167 [==============================] - 0s 2ms/step - loss: 46.4184 - r2_score: 0.2096 - val_loss: 48.6204 - val_r2_score: 0.2038\n",
            "Epoch 11/200\n",
            "167/167 [==============================] - 0s 2ms/step - loss: 44.6180 - r2_score: 0.2403 - val_loss: 46.8680 - val_r2_score: 0.2325\n",
            "Epoch 12/200\n",
            "167/167 [==============================] - 0s 2ms/step - loss: 43.0168 - r2_score: 0.2675 - val_loss: 45.4057 - val_r2_score: 0.2564\n",
            "Epoch 13/200\n",
            "167/167 [==============================] - 0s 2ms/step - loss: 41.7912 - r2_score: 0.2884 - val_loss: 44.2390 - val_r2_score: 0.2755\n",
            "Epoch 14/200\n",
            "167/167 [==============================] - 0s 2ms/step - loss: 40.7312 - r2_score: 0.3064 - val_loss: 43.3587 - val_r2_score: 0.2899\n",
            "Epoch 15/200\n",
            "167/167 [==============================] - 0s 2ms/step - loss: 39.8913 - r2_score: 0.3207 - val_loss: 42.6709 - val_r2_score: 0.3012\n",
            "Epoch 16/200\n",
            "167/167 [==============================] - 0s 2ms/step - loss: 39.3580 - r2_score: 0.3298 - val_loss: 41.9908 - val_r2_score: 0.3123\n",
            "Epoch 17/200\n",
            "167/167 [==============================] - 0s 2ms/step - loss: 38.9898 - r2_score: 0.3361 - val_loss: 41.6919 - val_r2_score: 0.3172\n",
            "Epoch 18/200\n",
            "167/167 [==============================] - 0s 2ms/step - loss: 38.5393 - r2_score: 0.3438 - val_loss: 41.4455 - val_r2_score: 0.3213\n",
            "Epoch 19/200\n",
            "167/167 [==============================] - 0s 2ms/step - loss: 38.2382 - r2_score: 0.3489 - val_loss: 41.1338 - val_r2_score: 0.3264\n",
            "Epoch 20/200\n",
            "167/167 [==============================] - 0s 2ms/step - loss: 38.0185 - r2_score: 0.3526 - val_loss: 41.1257 - val_r2_score: 0.3265\n",
            "Epoch 21/200\n",
            "167/167 [==============================] - 0s 2ms/step - loss: 37.8346 - r2_score: 0.3558 - val_loss: 40.7046 - val_r2_score: 0.3334\n",
            "Epoch 22/200\n",
            "167/167 [==============================] - 0s 2ms/step - loss: 37.6681 - r2_score: 0.3586 - val_loss: 40.4199 - val_r2_score: 0.3381\n",
            "Epoch 23/200\n",
            "167/167 [==============================] - 0s 2ms/step - loss: 37.4978 - r2_score: 0.3615 - val_loss: 40.5090 - val_r2_score: 0.3366\n",
            "Epoch 24/200\n",
            "167/167 [==============================] - 0s 3ms/step - loss: 37.3042 - r2_score: 0.3648 - val_loss: 40.4258 - val_r2_score: 0.3380\n",
            "Epoch 25/200\n",
            "167/167 [==============================] - 0s 2ms/step - loss: 37.2623 - r2_score: 0.3655 - val_loss: 40.3653 - val_r2_score: 0.3389\n",
            "Epoch 26/200\n",
            "167/167 [==============================] - 0s 2ms/step - loss: 37.0483 - r2_score: 0.3692 - val_loss: 40.1815 - val_r2_score: 0.3420\n",
            "Epoch 27/200\n",
            "167/167 [==============================] - 0s 3ms/step - loss: 36.9639 - r2_score: 0.3706 - val_loss: 40.3543 - val_r2_score: 0.3391\n",
            "Epoch 28/200\n",
            "167/167 [==============================] - 1s 4ms/step - loss: 36.9000 - r2_score: 0.3717 - val_loss: 40.1031 - val_r2_score: 0.3432\n",
            "Epoch 29/200\n",
            "167/167 [==============================] - 1s 4ms/step - loss: 36.7418 - r2_score: 0.3744 - val_loss: 40.1163 - val_r2_score: 0.3430\n",
            "Epoch 30/200\n",
            "167/167 [==============================] - 1s 4ms/step - loss: 36.6581 - r2_score: 0.3758 - val_loss: 39.9688 - val_r2_score: 0.3454\n",
            "Epoch 31/200\n",
            "167/167 [==============================] - 1s 4ms/step - loss: 36.5451 - r2_score: 0.3777 - val_loss: 39.8686 - val_r2_score: 0.3471\n",
            "Epoch 32/200\n",
            "167/167 [==============================] - 1s 4ms/step - loss: 36.3732 - r2_score: 0.3806 - val_loss: 39.7827 - val_r2_score: 0.3485\n",
            "Epoch 33/200\n",
            "167/167 [==============================] - 1s 3ms/step - loss: 36.3399 - r2_score: 0.3812 - val_loss: 39.6836 - val_r2_score: 0.3501\n",
            "Epoch 34/200\n",
            "167/167 [==============================] - 0s 3ms/step - loss: 36.2565 - r2_score: 0.3826 - val_loss: 39.4347 - val_r2_score: 0.3542\n",
            "Epoch 35/200\n",
            "167/167 [==============================] - 0s 3ms/step - loss: 36.1338 - r2_score: 0.3847 - val_loss: 39.6081 - val_r2_score: 0.3513\n",
            "Epoch 36/200\n",
            "167/167 [==============================] - 0s 2ms/step - loss: 36.0002 - r2_score: 0.3870 - val_loss: 39.5343 - val_r2_score: 0.3526\n",
            "Epoch 37/200\n",
            "167/167 [==============================] - 0s 3ms/step - loss: 35.9246 - r2_score: 0.3883 - val_loss: 39.4790 - val_r2_score: 0.3535\n",
            "Epoch 38/200\n",
            "167/167 [==============================] - 0s 2ms/step - loss: 35.9021 - r2_score: 0.3887 - val_loss: 39.4733 - val_r2_score: 0.3536\n",
            "Epoch 39/200\n",
            "167/167 [==============================] - 0s 2ms/step - loss: 35.8130 - r2_score: 0.3902 - val_loss: 39.3270 - val_r2_score: 0.3560\n",
            "Epoch 40/200\n",
            "167/167 [==============================] - 0s 3ms/step - loss: 35.6950 - r2_score: 0.3922 - val_loss: 39.2659 - val_r2_score: 0.3569\n",
            "Epoch 41/200\n",
            "167/167 [==============================] - 0s 2ms/step - loss: 35.6274 - r2_score: 0.3933 - val_loss: 39.0495 - val_r2_score: 0.3605\n",
            "Epoch 42/200\n",
            "167/167 [==============================] - 0s 3ms/step - loss: 35.5499 - r2_score: 0.3947 - val_loss: 39.1093 - val_r2_score: 0.3595\n",
            "Epoch 43/200\n",
            "167/167 [==============================] - 0s 2ms/step - loss: 35.4497 - r2_score: 0.3964 - val_loss: 39.1801 - val_r2_score: 0.3584\n",
            "Epoch 44/200\n",
            "167/167 [==============================] - 0s 2ms/step - loss: 35.3178 - r2_score: 0.3986 - val_loss: 38.9636 - val_r2_score: 0.3619\n",
            "Epoch 45/200\n",
            "167/167 [==============================] - 0s 2ms/step - loss: 35.2315 - r2_score: 0.4001 - val_loss: 39.4420 - val_r2_score: 0.3541\n",
            "Epoch 46/200\n",
            "167/167 [==============================] - 0s 2ms/step - loss: 35.2657 - r2_score: 0.3995 - val_loss: 38.9876 - val_r2_score: 0.3615\n",
            "Epoch 47/200\n",
            "167/167 [==============================] - 0s 2ms/step - loss: 35.1129 - r2_score: 0.4021 - val_loss: 38.7178 - val_r2_score: 0.3659\n",
            "Epoch 48/200\n",
            "167/167 [==============================] - 0s 2ms/step - loss: 35.0047 - r2_score: 0.4039 - val_loss: 38.9753 - val_r2_score: 0.3617\n",
            "Epoch 49/200\n",
            "167/167 [==============================] - 0s 2ms/step - loss: 34.9413 - r2_score: 0.4050 - val_loss: 38.8301 - val_r2_score: 0.3641\n",
            "Epoch 50/200\n",
            "167/167 [==============================] - 0s 2ms/step - loss: 34.9191 - r2_score: 0.4054 - val_loss: 38.5890 - val_r2_score: 0.3680\n",
            "Epoch 51/200\n",
            "167/167 [==============================] - 0s 2ms/step - loss: 34.8673 - r2_score: 0.4063 - val_loss: 38.5903 - val_r2_score: 0.3680\n",
            "Epoch 52/200\n",
            "167/167 [==============================] - 0s 2ms/step - loss: 34.7532 - r2_score: 0.4082 - val_loss: 38.5224 - val_r2_score: 0.3691\n",
            "Epoch 53/200\n",
            "167/167 [==============================] - 0s 2ms/step - loss: 34.7383 - r2_score: 0.4085 - val_loss: 38.5798 - val_r2_score: 0.3682\n",
            "Epoch 54/200\n",
            "167/167 [==============================] - 0s 2ms/step - loss: 34.6300 - r2_score: 0.4103 - val_loss: 38.5682 - val_r2_score: 0.3684\n",
            "Epoch 55/200\n",
            "167/167 [==============================] - 0s 2ms/step - loss: 34.7601 - r2_score: 0.4081 - val_loss: 38.2687 - val_r2_score: 0.3733\n",
            "Epoch 56/200\n",
            "167/167 [==============================] - 0s 2ms/step - loss: 34.6089 - r2_score: 0.4107 - val_loss: 38.5261 - val_r2_score: 0.3691\n",
            "Epoch 57/200\n",
            "167/167 [==============================] - 1s 3ms/step - loss: 34.5467 - r2_score: 0.4117 - val_loss: 38.4995 - val_r2_score: 0.3695\n",
            "Epoch 58/200\n",
            "167/167 [==============================] - 1s 3ms/step - loss: 34.4667 - r2_score: 0.4131 - val_loss: 38.3396 - val_r2_score: 0.3721\n",
            "Epoch 59/200\n",
            "167/167 [==============================] - 1s 4ms/step - loss: 34.3917 - r2_score: 0.4144 - val_loss: 38.4698 - val_r2_score: 0.3700\n",
            "Epoch 60/200\n",
            "167/167 [==============================] - 1s 4ms/step - loss: 34.3933 - r2_score: 0.4144 - val_loss: 38.2158 - val_r2_score: 0.3741\n",
            "Epoch 61/200\n",
            "167/167 [==============================] - 1s 4ms/step - loss: 34.3031 - r2_score: 0.4159 - val_loss: 38.1851 - val_r2_score: 0.3747\n",
            "Epoch 62/200\n",
            "167/167 [==============================] - 1s 4ms/step - loss: 34.2994 - r2_score: 0.4160 - val_loss: 38.0317 - val_r2_score: 0.3772\n",
            "Epoch 63/200\n",
            "167/167 [==============================] - 1s 3ms/step - loss: 34.2234 - r2_score: 0.4173 - val_loss: 38.0660 - val_r2_score: 0.3766\n",
            "Epoch 64/200\n",
            "167/167 [==============================] - 0s 2ms/step - loss: 34.1564 - r2_score: 0.4184 - val_loss: 37.9472 - val_r2_score: 0.3785\n",
            "Epoch 65/200\n",
            "167/167 [==============================] - 0s 2ms/step - loss: 34.1884 - r2_score: 0.4178 - val_loss: 37.8368 - val_r2_score: 0.3804\n",
            "Epoch 66/200\n",
            "167/167 [==============================] - 1s 3ms/step - loss: 34.1291 - r2_score: 0.4189 - val_loss: 38.0866 - val_r2_score: 0.3763\n",
            "Epoch 67/200\n",
            "167/167 [==============================] - 0s 2ms/step - loss: 34.0611 - r2_score: 0.4200 - val_loss: 37.8260 - val_r2_score: 0.3805\n",
            "Epoch 68/200\n",
            "167/167 [==============================] - 0s 2ms/step - loss: 34.0975 - r2_score: 0.4194 - val_loss: 37.9639 - val_r2_score: 0.3783\n",
            "Epoch 69/200\n",
            "167/167 [==============================] - 0s 3ms/step - loss: 34.0491 - r2_score: 0.4202 - val_loss: 37.8555 - val_r2_score: 0.3800\n",
            "Epoch 70/200\n",
            "167/167 [==============================] - 0s 3ms/step - loss: 33.9867 - r2_score: 0.4213 - val_loss: 37.9777 - val_r2_score: 0.3780\n",
            "Epoch 71/200\n",
            "167/167 [==============================] - 0s 2ms/step - loss: 33.9522 - r2_score: 0.4219 - val_loss: 37.7104 - val_r2_score: 0.3824\n",
            "Epoch 72/200\n",
            "167/167 [==============================] - 0s 2ms/step - loss: 33.9677 - r2_score: 0.4216 - val_loss: 37.8290 - val_r2_score: 0.3805\n",
            "Epoch 73/200\n",
            "167/167 [==============================] - 0s 2ms/step - loss: 33.9305 - r2_score: 0.4222 - val_loss: 37.8623 - val_r2_score: 0.3799\n",
            "Epoch 74/200\n",
            "167/167 [==============================] - 0s 3ms/step - loss: 33.8661 - r2_score: 0.4233 - val_loss: 37.8391 - val_r2_score: 0.3803\n",
            "Epoch 75/200\n",
            "167/167 [==============================] - 0s 3ms/step - loss: 33.8057 - r2_score: 0.4244 - val_loss: 37.8605 - val_r2_score: 0.3800\n",
            "Epoch 76/200\n",
            "167/167 [==============================] - 0s 2ms/step - loss: 33.8684 - r2_score: 0.4233 - val_loss: 37.5886 - val_r2_score: 0.3844\n",
            "Epoch 77/200\n",
            "167/167 [==============================] - 0s 2ms/step - loss: 33.7732 - r2_score: 0.4249 - val_loss: 37.6436 - val_r2_score: 0.3835\n",
            "Epoch 78/200\n",
            "167/167 [==============================] - 0s 2ms/step - loss: 33.7611 - r2_score: 0.4251 - val_loss: 37.7279 - val_r2_score: 0.3821\n",
            "Epoch 79/200\n",
            "167/167 [==============================] - 0s 3ms/step - loss: 33.6719 - r2_score: 0.4266 - val_loss: 37.5907 - val_r2_score: 0.3844\n",
            "Epoch 80/200\n",
            "167/167 [==============================] - 0s 2ms/step - loss: 33.6432 - r2_score: 0.4271 - val_loss: 37.6674 - val_r2_score: 0.3831\n",
            "Epoch 81/200\n",
            "167/167 [==============================] - 0s 3ms/step - loss: 33.6985 - r2_score: 0.4262 - val_loss: 37.3841 - val_r2_score: 0.3878\n",
            "Epoch 82/200\n",
            "167/167 [==============================] - 0s 2ms/step - loss: 33.7679 - r2_score: 0.4250 - val_loss: 37.7419 - val_r2_score: 0.3819\n",
            "Epoch 83/200\n",
            "167/167 [==============================] - 0s 3ms/step - loss: 33.5841 - r2_score: 0.4281 - val_loss: 37.5384 - val_r2_score: 0.3852\n",
            "Epoch 84/200\n",
            "167/167 [==============================] - 0s 2ms/step - loss: 33.5611 - r2_score: 0.4285 - val_loss: 37.4594 - val_r2_score: 0.3865\n",
            "Epoch 85/200\n",
            "167/167 [==============================] - 0s 2ms/step - loss: 33.5035 - r2_score: 0.4295 - val_loss: 37.4679 - val_r2_score: 0.3864\n",
            "Epoch 86/200\n",
            "167/167 [==============================] - 0s 2ms/step - loss: 33.4614 - r2_score: 0.4302 - val_loss: 37.8655 - val_r2_score: 0.3799\n",
            "Epoch 87/200\n",
            "167/167 [==============================] - 1s 4ms/step - loss: 33.5613 - r2_score: 0.4285 - val_loss: 37.5363 - val_r2_score: 0.3853\n",
            "Epoch 88/200\n",
            "167/167 [==============================] - 1s 4ms/step - loss: 33.3902 - r2_score: 0.4314 - val_loss: 37.4861 - val_r2_score: 0.3861\n",
            "Epoch 89/200\n",
            "167/167 [==============================] - 1s 4ms/step - loss: 33.4250 - r2_score: 0.4308 - val_loss: 37.4075 - val_r2_score: 0.3874\n",
            "Epoch 90/200\n",
            "167/167 [==============================] - 1s 4ms/step - loss: 33.4136 - r2_score: 0.4310 - val_loss: 37.4518 - val_r2_score: 0.3867\n",
            "Epoch 91/200\n",
            "167/167 [==============================] - 1s 4ms/step - loss: 33.5094 - r2_score: 0.4294 - val_loss: 37.3309 - val_r2_score: 0.3886\n",
            "Epoch 92/200\n",
            "167/167 [==============================] - 1s 4ms/step - loss: 33.3582 - r2_score: 0.4320 - val_loss: 37.4939 - val_r2_score: 0.3860\n",
            "Epoch 93/200\n",
            "167/167 [==============================] - 0s 2ms/step - loss: 33.3507 - r2_score: 0.4321 - val_loss: 37.3131 - val_r2_score: 0.3889\n",
            "Epoch 94/200\n",
            "167/167 [==============================] - 0s 2ms/step - loss: 33.3367 - r2_score: 0.4324 - val_loss: 37.3499 - val_r2_score: 0.3883\n",
            "Epoch 95/200\n",
            "167/167 [==============================] - 0s 3ms/step - loss: 33.2220 - r2_score: 0.4343 - val_loss: 37.2757 - val_r2_score: 0.3895\n",
            "Epoch 96/200\n",
            "167/167 [==============================] - 0s 2ms/step - loss: 33.2335 - r2_score: 0.4341 - val_loss: 37.1546 - val_r2_score: 0.3915\n",
            "Epoch 97/200\n",
            "167/167 [==============================] - 0s 2ms/step - loss: 33.2277 - r2_score: 0.4342 - val_loss: 37.3588 - val_r2_score: 0.3882\n",
            "Epoch 98/200\n",
            "167/167 [==============================] - 0s 2ms/step - loss: 33.2071 - r2_score: 0.4346 - val_loss: 37.3691 - val_r2_score: 0.3880\n",
            "Epoch 99/200\n",
            "167/167 [==============================] - 0s 2ms/step - loss: 33.2563 - r2_score: 0.4337 - val_loss: 37.2768 - val_r2_score: 0.3895\n",
            "Epoch 100/200\n",
            "167/167 [==============================] - 0s 3ms/step - loss: 33.3703 - r2_score: 0.4318 - val_loss: 37.3744 - val_r2_score: 0.3879\n",
            "Epoch 101/200\n",
            "167/167 [==============================] - 0s 2ms/step - loss: 33.1292 - r2_score: 0.4359 - val_loss: 37.3294 - val_r2_score: 0.3887\n",
            "Epoch 102/200\n",
            "167/167 [==============================] - 0s 2ms/step - loss: 33.1798 - r2_score: 0.4350 - val_loss: 37.3259 - val_r2_score: 0.3887\n",
            "Epoch 103/200\n",
            "167/167 [==============================] - 0s 2ms/step - loss: 33.1583 - r2_score: 0.4354 - val_loss: 37.2743 - val_r2_score: 0.3896\n",
            "Epoch 104/200\n",
            "167/167 [==============================] - 0s 2ms/step - loss: 33.2038 - r2_score: 0.4346 - val_loss: 37.0122 - val_r2_score: 0.3939\n",
            "Epoch 105/200\n",
            "167/167 [==============================] - 0s 2ms/step - loss: 33.0225 - r2_score: 0.4377 - val_loss: 37.0771 - val_r2_score: 0.3928\n",
            "Epoch 106/200\n",
            "167/167 [==============================] - 0s 2ms/step - loss: 33.0271 - r2_score: 0.4376 - val_loss: 37.1847 - val_r2_score: 0.3910\n",
            "Epoch 107/200\n",
            "167/167 [==============================] - 0s 3ms/step - loss: 33.0381 - r2_score: 0.4374 - val_loss: 37.1849 - val_r2_score: 0.3910\n",
            "Epoch 108/200\n",
            "167/167 [==============================] - 0s 2ms/step - loss: 32.9585 - r2_score: 0.4388 - val_loss: 37.2284 - val_r2_score: 0.3903\n",
            "Epoch 109/200\n",
            "167/167 [==============================] - 0s 2ms/step - loss: 32.9834 - r2_score: 0.4384 - val_loss: 37.0701 - val_r2_score: 0.3929\n",
            "Epoch 110/200\n",
            "167/167 [==============================] - 0s 2ms/step - loss: 32.9277 - r2_score: 0.4393 - val_loss: 37.1173 - val_r2_score: 0.3921\n",
            "Epoch 111/200\n",
            "167/167 [==============================] - 0s 2ms/step - loss: 32.9408 - r2_score: 0.4391 - val_loss: 36.9996 - val_r2_score: 0.3941\n",
            "Epoch 112/200\n",
            "167/167 [==============================] - 0s 2ms/step - loss: 32.9079 - r2_score: 0.4397 - val_loss: 36.9463 - val_r2_score: 0.3949\n",
            "Epoch 113/200\n",
            "167/167 [==============================] - 0s 2ms/step - loss: 32.9200 - r2_score: 0.4394 - val_loss: 36.9472 - val_r2_score: 0.3949\n",
            "Epoch 114/200\n",
            "167/167 [==============================] - 0s 2ms/step - loss: 32.8111 - r2_score: 0.4413 - val_loss: 37.0942 - val_r2_score: 0.3925\n",
            "Epoch 115/200\n",
            "167/167 [==============================] - 0s 2ms/step - loss: 32.8591 - r2_score: 0.4405 - val_loss: 36.9903 - val_r2_score: 0.3942\n",
            "Epoch 116/200\n",
            "167/167 [==============================] - 0s 2ms/step - loss: 32.8669 - r2_score: 0.4404 - val_loss: 36.8504 - val_r2_score: 0.3965\n",
            "Epoch 117/200\n",
            "167/167 [==============================] - 0s 3ms/step - loss: 32.8125 - r2_score: 0.4413 - val_loss: 36.9803 - val_r2_score: 0.3944\n",
            "Epoch 118/200\n",
            "167/167 [==============================] - 1s 4ms/step - loss: 32.7592 - r2_score: 0.4422 - val_loss: 37.0656 - val_r2_score: 0.3930\n",
            "Epoch 119/200\n",
            "167/167 [==============================] - 1s 4ms/step - loss: 32.7626 - r2_score: 0.4421 - val_loss: 36.7851 - val_r2_score: 0.3976\n",
            "Epoch 120/200\n",
            "167/167 [==============================] - 1s 4ms/step - loss: 32.7582 - r2_score: 0.4422 - val_loss: 36.9448 - val_r2_score: 0.3950\n",
            "Epoch 121/200\n",
            "167/167 [==============================] - 2s 10ms/step - loss: 32.7145 - r2_score: 0.4429 - val_loss: 37.0625 - val_r2_score: 0.3930\n",
            "Epoch 122/200\n",
            "167/167 [==============================] - 1s 5ms/step - loss: 32.7644 - r2_score: 0.4421 - val_loss: 37.1703 - val_r2_score: 0.3913\n",
            "Epoch 123/200\n",
            "167/167 [==============================] - 1s 5ms/step - loss: 32.7468 - r2_score: 0.4424 - val_loss: 36.8210 - val_r2_score: 0.3970\n",
            "Epoch 124/200\n",
            "167/167 [==============================] - 0s 2ms/step - loss: 32.6814 - r2_score: 0.4435 - val_loss: 37.0114 - val_r2_score: 0.3939\n",
            "Epoch 125/200\n",
            "167/167 [==============================] - 0s 2ms/step - loss: 32.6911 - r2_score: 0.4433 - val_loss: 36.9379 - val_r2_score: 0.3951\n",
            "Epoch 126/200\n",
            "167/167 [==============================] - 0s 2ms/step - loss: 32.5958 - r2_score: 0.4450 - val_loss: 36.9232 - val_r2_score: 0.3953\n",
            "Epoch 127/200\n",
            "167/167 [==============================] - 0s 2ms/step - loss: 32.6204 - r2_score: 0.4445 - val_loss: 37.0210 - val_r2_score: 0.3937\n",
            "Epoch 128/200\n",
            "167/167 [==============================] - 0s 2ms/step - loss: 32.7220 - r2_score: 0.4428 - val_loss: 36.7927 - val_r2_score: 0.3975\n",
            "Epoch 129/200\n",
            "167/167 [==============================] - 0s 2ms/step - loss: 32.5650 - r2_score: 0.4455 - val_loss: 36.7627 - val_r2_score: 0.3979\n",
            "Epoch 130/200\n",
            "167/167 [==============================] - 0s 2ms/step - loss: 32.5444 - r2_score: 0.4458 - val_loss: 36.7778 - val_r2_score: 0.3977\n",
            "Epoch 131/200\n",
            "167/167 [==============================] - 0s 2ms/step - loss: 32.5432 - r2_score: 0.4459 - val_loss: 36.8523 - val_r2_score: 0.3965\n",
            "Epoch 132/200\n",
            "167/167 [==============================] - 0s 2ms/step - loss: 32.4918 - r2_score: 0.4467 - val_loss: 36.6637 - val_r2_score: 0.3996\n",
            "Epoch 133/200\n",
            "167/167 [==============================] - 0s 2ms/step - loss: 32.6901 - r2_score: 0.4434 - val_loss: 36.7709 - val_r2_score: 0.3978\n",
            "Epoch 134/200\n",
            "167/167 [==============================] - 0s 3ms/step - loss: 32.5233 - r2_score: 0.4462 - val_loss: 36.6626 - val_r2_score: 0.3996\n",
            "Epoch 135/200\n",
            "167/167 [==============================] - 0s 2ms/step - loss: 32.4297 - r2_score: 0.4478 - val_loss: 36.8881 - val_r2_score: 0.3959\n",
            "Epoch 136/200\n",
            "167/167 [==============================] - 0s 2ms/step - loss: 32.4910 - r2_score: 0.4468 - val_loss: 36.7491 - val_r2_score: 0.3982\n",
            "Epoch 137/200\n",
            "167/167 [==============================] - 0s 2ms/step - loss: 32.4573 - r2_score: 0.4473 - val_loss: 36.6064 - val_r2_score: 0.4005\n",
            "Epoch 138/200\n",
            "167/167 [==============================] - 0s 2ms/step - loss: 32.5144 - r2_score: 0.4464 - val_loss: 36.8956 - val_r2_score: 0.3958\n",
            "Epoch 139/200\n",
            "167/167 [==============================] - 0s 2ms/step - loss: 32.4846 - r2_score: 0.4469 - val_loss: 36.7133 - val_r2_score: 0.3988\n",
            "Epoch 140/200\n",
            "167/167 [==============================] - 0s 2ms/step - loss: 32.4283 - r2_score: 0.4478 - val_loss: 36.6133 - val_r2_score: 0.4004\n",
            "Epoch 141/200\n",
            "167/167 [==============================] - 0s 2ms/step - loss: 32.3458 - r2_score: 0.4492 - val_loss: 36.6402 - val_r2_score: 0.4000\n",
            "Epoch 142/200\n",
            "167/167 [==============================] - 0s 2ms/step - loss: 32.3890 - r2_score: 0.4485 - val_loss: 36.5369 - val_r2_score: 0.4016\n",
            "Epoch 143/200\n",
            "167/167 [==============================] - 0s 2ms/step - loss: 32.3729 - r2_score: 0.4488 - val_loss: 36.7799 - val_r2_score: 0.3977\n",
            "Epoch 144/200\n",
            "167/167 [==============================] - 0s 2ms/step - loss: 32.3707 - r2_score: 0.4488 - val_loss: 36.5650 - val_r2_score: 0.4012\n",
            "Epoch 145/200\n",
            "167/167 [==============================] - 1s 3ms/step - loss: 32.3437 - r2_score: 0.4493 - val_loss: 36.5067 - val_r2_score: 0.4021\n",
            "Epoch 146/200\n",
            "167/167 [==============================] - 1s 4ms/step - loss: 32.5042 - r2_score: 0.4465 - val_loss: 36.6313 - val_r2_score: 0.4001\n",
            "Epoch 147/200\n",
            "167/167 [==============================] - 1s 4ms/step - loss: 32.3212 - r2_score: 0.4496 - val_loss: 36.4103 - val_r2_score: 0.4037\n",
            "Epoch 148/200\n",
            "167/167 [==============================] - 1s 4ms/step - loss: 32.1969 - r2_score: 0.4518 - val_loss: 36.6699 - val_r2_score: 0.3995\n",
            "Epoch 149/200\n",
            "167/167 [==============================] - 1s 4ms/step - loss: 32.3102 - r2_score: 0.4498 - val_loss: 36.6861 - val_r2_score: 0.3992\n",
            "Epoch 150/200\n",
            "167/167 [==============================] - 1s 4ms/step - loss: 32.2375 - r2_score: 0.4511 - val_loss: 36.5091 - val_r2_score: 0.4021\n",
            "Epoch 151/200\n",
            "167/167 [==============================] - 1s 4ms/step - loss: 32.2076 - r2_score: 0.4516 - val_loss: 36.5108 - val_r2_score: 0.4021\n",
            "Epoch 152/200\n",
            "167/167 [==============================] - 0s 3ms/step - loss: 32.1458 - r2_score: 0.4526 - val_loss: 36.4633 - val_r2_score: 0.4028\n",
            "Epoch 153/200\n",
            "167/167 [==============================] - 0s 3ms/step - loss: 32.2021 - r2_score: 0.4517 - val_loss: 36.5633 - val_r2_score: 0.4012\n",
            "Epoch 154/200\n",
            "167/167 [==============================] - 0s 2ms/step - loss: 32.1269 - r2_score: 0.4530 - val_loss: 36.5923 - val_r2_score: 0.4007\n",
            "Epoch 155/200\n",
            "167/167 [==============================] - 0s 2ms/step - loss: 32.2183 - r2_score: 0.4514 - val_loss: 36.5532 - val_r2_score: 0.4014\n",
            "Epoch 156/200\n",
            "167/167 [==============================] - 0s 2ms/step - loss: 32.1405 - r2_score: 0.4527 - val_loss: 36.7102 - val_r2_score: 0.3988\n",
            "Epoch 157/200\n",
            "167/167 [==============================] - 0s 2ms/step - loss: 32.1610 - r2_score: 0.4524 - val_loss: 36.5760 - val_r2_score: 0.4010\n",
            "Epoch 158/200\n",
            "167/167 [==============================] - 0s 2ms/step - loss: 32.1830 - r2_score: 0.4520 - val_loss: 36.5432 - val_r2_score: 0.4015\n",
            "Epoch 159/200\n",
            "167/167 [==============================] - 0s 2ms/step - loss: 32.1453 - r2_score: 0.4526 - val_loss: 36.4677 - val_r2_score: 0.4028\n",
            "Epoch 160/200\n",
            "167/167 [==============================] - 0s 2ms/step - loss: 32.0587 - r2_score: 0.4541 - val_loss: 36.4133 - val_r2_score: 0.4037\n",
            "Epoch 161/200\n",
            "167/167 [==============================] - 0s 2ms/step - loss: 32.0306 - r2_score: 0.4546 - val_loss: 36.6419 - val_r2_score: 0.3999\n",
            "Epoch 162/200\n",
            "167/167 [==============================] - 0s 2ms/step - loss: 32.0070 - r2_score: 0.4550 - val_loss: 36.3430 - val_r2_score: 0.4048\n",
            "Epoch 163/200\n",
            "167/167 [==============================] - 0s 2ms/step - loss: 32.0117 - r2_score: 0.4549 - val_loss: 36.5534 - val_r2_score: 0.4014\n",
            "Epoch 164/200\n",
            "167/167 [==============================] - 0s 2ms/step - loss: 31.9938 - r2_score: 0.4552 - val_loss: 36.5064 - val_r2_score: 0.4021\n",
            "Epoch 165/200\n",
            "167/167 [==============================] - 0s 3ms/step - loss: 31.9619 - r2_score: 0.4558 - val_loss: 36.4610 - val_r2_score: 0.4029\n",
            "Epoch 166/200\n",
            "167/167 [==============================] - 0s 2ms/step - loss: 31.9593 - r2_score: 0.4558 - val_loss: 36.4686 - val_r2_score: 0.4028\n",
            "Epoch 167/200\n",
            "167/167 [==============================] - 0s 2ms/step - loss: 31.9651 - r2_score: 0.4557 - val_loss: 36.6037 - val_r2_score: 0.4005\n",
            "Epoch 168/200\n",
            "167/167 [==============================] - 0s 3ms/step - loss: 31.9467 - r2_score: 0.4560 - val_loss: 36.5623 - val_r2_score: 0.4012\n",
            "Epoch 169/200\n",
            "167/167 [==============================] - 0s 2ms/step - loss: 31.9085 - r2_score: 0.4567 - val_loss: 36.4526 - val_r2_score: 0.4030\n",
            "Epoch 170/200\n",
            "167/167 [==============================] - 0s 2ms/step - loss: 31.8890 - r2_score: 0.4570 - val_loss: 36.2269 - val_r2_score: 0.4067\n",
            "Epoch 171/200\n",
            "167/167 [==============================] - 0s 2ms/step - loss: 31.8433 - r2_score: 0.4578 - val_loss: 36.4020 - val_r2_score: 0.4039\n",
            "Epoch 172/200\n",
            "167/167 [==============================] - 0s 2ms/step - loss: 31.8640 - r2_score: 0.4574 - val_loss: 36.4480 - val_r2_score: 0.4031\n",
            "Epoch 173/200\n",
            "167/167 [==============================] - 0s 2ms/step - loss: 31.8235 - r2_score: 0.4581 - val_loss: 36.2697 - val_r2_score: 0.4060\n",
            "Epoch 174/200\n",
            "167/167 [==============================] - 0s 2ms/step - loss: 31.9482 - r2_score: 0.4560 - val_loss: 36.3886 - val_r2_score: 0.4041\n",
            "Epoch 175/200\n",
            "167/167 [==============================] - 0s 3ms/step - loss: 31.8009 - r2_score: 0.4585 - val_loss: 36.2977 - val_r2_score: 0.4056\n",
            "Epoch 176/200\n",
            "167/167 [==============================] - 1s 4ms/step - loss: 31.8687 - r2_score: 0.4573 - val_loss: 36.3425 - val_r2_score: 0.4048\n",
            "Epoch 177/200\n",
            "167/167 [==============================] - 1s 4ms/step - loss: 31.7640 - r2_score: 0.4591 - val_loss: 36.4196 - val_r2_score: 0.4036\n",
            "Epoch 178/200\n",
            "167/167 [==============================] - 1s 4ms/step - loss: 31.7418 - r2_score: 0.4595 - val_loss: 36.3204 - val_r2_score: 0.4052\n",
            "Epoch 179/200\n",
            "167/167 [==============================] - 1s 4ms/step - loss: 31.6931 - r2_score: 0.4603 - val_loss: 36.3313 - val_r2_score: 0.4050\n",
            "Epoch 180/200\n",
            "167/167 [==============================] - 1s 4ms/step - loss: 31.7710 - r2_score: 0.4590 - val_loss: 36.4978 - val_r2_score: 0.4023\n",
            "Epoch 181/200\n",
            "167/167 [==============================] - 1s 4ms/step - loss: 31.8467 - r2_score: 0.4577 - val_loss: 36.4333 - val_r2_score: 0.4033\n",
            "Epoch 182/200\n",
            "167/167 [==============================] - 0s 2ms/step - loss: 31.7673 - r2_score: 0.4591 - val_loss: 36.3051 - val_r2_score: 0.4054\n",
            "Epoch 183/200\n",
            "167/167 [==============================] - 0s 2ms/step - loss: 31.7200 - r2_score: 0.4599 - val_loss: 36.1765 - val_r2_score: 0.4075\n",
            "Epoch 184/200\n",
            "167/167 [==============================] - 1s 3ms/step - loss: 31.6382 - r2_score: 0.4613 - val_loss: 36.1329 - val_r2_score: 0.4083\n",
            "Epoch 185/200\n",
            "167/167 [==============================] - 0s 2ms/step - loss: 31.6631 - r2_score: 0.4609 - val_loss: 36.3848 - val_r2_score: 0.4041\n",
            "Epoch 186/200\n",
            "167/167 [==============================] - 0s 2ms/step - loss: 31.6720 - r2_score: 0.4607 - val_loss: 36.2117 - val_r2_score: 0.4070\n",
            "Epoch 187/200\n",
            "167/167 [==============================] - 0s 2ms/step - loss: 31.7026 - r2_score: 0.4602 - val_loss: 36.2123 - val_r2_score: 0.4070\n",
            "Epoch 188/200\n",
            "167/167 [==============================] - 0s 2ms/step - loss: 31.6163 - r2_score: 0.4616 - val_loss: 36.2606 - val_r2_score: 0.4062\n",
            "Epoch 189/200\n",
            "167/167 [==============================] - 0s 2ms/step - loss: 31.6087 - r2_score: 0.4618 - val_loss: 36.1606 - val_r2_score: 0.4078\n",
            "Epoch 190/200\n",
            "167/167 [==============================] - 0s 2ms/step - loss: 31.6030 - r2_score: 0.4619 - val_loss: 36.1910 - val_r2_score: 0.4073\n",
            "Epoch 191/200\n",
            "167/167 [==============================] - 0s 2ms/step - loss: 31.5731 - r2_score: 0.4624 - val_loss: 36.0852 - val_r2_score: 0.4090\n",
            "Epoch 192/200\n",
            "167/167 [==============================] - 0s 3ms/step - loss: 31.5991 - r2_score: 0.4619 - val_loss: 36.1568 - val_r2_score: 0.4079\n",
            "Epoch 193/200\n",
            "167/167 [==============================] - 0s 2ms/step - loss: 31.5368 - r2_score: 0.4630 - val_loss: 36.2222 - val_r2_score: 0.4068\n",
            "Epoch 194/200\n",
            "167/167 [==============================] - 0s 2ms/step - loss: 31.4954 - r2_score: 0.4637 - val_loss: 36.2771 - val_r2_score: 0.4059\n",
            "Epoch 195/200\n",
            "167/167 [==============================] - 0s 2ms/step - loss: 31.5226 - r2_score: 0.4632 - val_loss: 36.2201 - val_r2_score: 0.4068\n",
            "Epoch 196/200\n",
            "167/167 [==============================] - 0s 2ms/step - loss: 31.5263 - r2_score: 0.4632 - val_loss: 36.2573 - val_r2_score: 0.4062\n",
            "Epoch 197/200\n",
            "167/167 [==============================] - 0s 3ms/step - loss: 31.5217 - r2_score: 0.4633 - val_loss: 36.0653 - val_r2_score: 0.4094\n",
            "Epoch 198/200\n",
            "167/167 [==============================] - 0s 2ms/step - loss: 31.5417 - r2_score: 0.4629 - val_loss: 36.1180 - val_r2_score: 0.4085\n",
            "Epoch 199/200\n",
            "167/167 [==============================] - 0s 2ms/step - loss: 31.4916 - r2_score: 0.4638 - val_loss: 36.0890 - val_r2_score: 0.4090\n",
            "Epoch 200/200\n",
            "167/167 [==============================] - 0s 2ms/step - loss: 31.4690 - r2_score: 0.4642 - val_loss: 36.0574 - val_r2_score: 0.4095\n"
          ]
        }
      ]
    },
    {
      "cell_type": "code",
      "source": [
        "history_r_2.params"
      ],
      "metadata": {
        "colab": {
          "base_uri": "https://localhost:8080/"
        },
        "id": "ypZEMsjfytIw",
        "outputId": "37fb9bb1-3780-4e46-bbfb-411f866ccaaa"
      },
      "execution_count": null,
      "outputs": [
        {
          "output_type": "execute_result",
          "data": {
            "text/plain": [
              "{'verbose': 1, 'epochs': 200, 'steps': 167}"
            ]
          },
          "metadata": {},
          "execution_count": 210
        }
      ]
    },
    {
      "cell_type": "code",
      "source": [
        "pd.DataFrame(history_r_2.history).plot(figsize=(8, 5))\n",
        "plt.grid(True)\n",
        "plt.xlabel('Epoch')\n",
        "plt.show()"
      ],
      "metadata": {
        "colab": {
          "base_uri": "https://localhost:8080/",
          "height": 465
        },
        "id": "EPRN_KVkyw-l",
        "outputId": "3a1ca1d6-f888-403b-f449-ab6cf8e937d7"
      },
      "execution_count": null,
      "outputs": [
        {
          "output_type": "display_data",
          "data": {
            "text/plain": [
              "<Figure size 800x500 with 1 Axes>"
            ],
            "image/png": "[encoded data removed]"
          },
          "metadata": {}
        }
      ]
    },
    {
      "cell_type": "markdown",
      "source": [
        "Djúpt tauganet með 2 földum lögum - aðhvarfsgreining"
      ],
      "metadata": {
        "id": "Nm1ULLexHgFr"
      }
    },
    {
      "cell_type": "code",
      "source": [
        "reg_3 = keras.models.Sequential()\n",
        "reg_3.add(keras.layers.Dense(64, activation=\"relu\"))\n",
        "reg_3.add(keras.layers.Dense(64, activation=\"relu\"))\n",
        "reg_3.add(keras.layers.Dense(1, activation=\"linear\"))"
      ],
      "metadata": {
        "id": "3LYSuvhT0DWp"
      },
      "execution_count": null,
      "outputs": []
    },
    {
      "cell_type": "code",
      "source": [
        "reg_3.build((None,8))"
      ],
      "metadata": {
        "id": "wgq-foCC0GsZ"
      },
      "execution_count": null,
      "outputs": []
    },
    {
      "cell_type": "code",
      "source": [
        "reg_3.summary()"
      ],
      "metadata": {
        "colab": {
          "base_uri": "https://localhost:8080/"
        },
        "id": "NpX2KAmq0LB2",
        "outputId": "606c25a4-52b0-4c44-fa19-2a89faa1528f"
      },
      "execution_count": null,
      "outputs": [
        {
          "output_type": "stream",
          "name": "stdout",
          "text": [
            "Model: \"sequential_31\"\n",
            "_________________________________________________________________\n",
            " Layer (type)                Output Shape              Param #   \n",
            "=================================================================\n",
            " dense_108 (Dense)           (None, 64)                576       \n",
            "                                                                 \n",
            " dense_109 (Dense)           (None, 64)                4160      \n",
            "                                                                 \n",
            " dense_110 (Dense)           (None, 1)                 65        \n",
            "                                                                 \n",
            "=================================================================\n",
            "Total params: 4801 (18.75 KB)\n",
            "Trainable params: 4801 (18.75 KB)\n",
            "Non-trainable params: 0 (0.00 Byte)\n",
            "_________________________________________________________________\n"
          ]
        }
      ]
    },
    {
      "cell_type": "code",
      "source": [
        "reg_3.layers"
      ],
      "metadata": {
        "colab": {
          "base_uri": "https://localhost:8080/"
        },
        "id": "MOmqVJ9F0OyO",
        "outputId": "00907e61-58b6-4053-e5cd-f1284d4a08a5"
      },
      "execution_count": null,
      "outputs": [
        {
          "output_type": "execute_result",
          "data": {
            "text/plain": [
              "[<keras.src.layers.core.dense.Dense at 0x7bbbb064fb80>,\n",
              " <keras.src.layers.core.dense.Dense at 0x7bbbb064c730>,\n",
              " <keras.src.layers.core.dense.Dense at 0x7bbbb064e950>]"
            ]
          },
          "metadata": {},
          "execution_count": 215
        }
      ]
    },
    {
      "cell_type": "code",
      "source": [
        "reg_3.compile(loss=\"mse\", optimizer='adam', metrics=[keras.metrics.R2Score()])"
      ],
      "metadata": {
        "id": "_ogL9AeV0SZy"
      },
      "execution_count": null,
      "outputs": []
    },
    {
      "cell_type": "code",
      "source": [
        "history_r_3 = reg_3.fit(inn_w_tr_skalad, eink_w_tr, epochs=200,\n",
        "                    validation_data=(inn_w_val_skalad, eink_w_val))"
      ],
      "metadata": {
        "colab": {
          "base_uri": "https://localhost:8080/"
        },
        "id": "MH3dadfg0Wc7",
        "outputId": "62141456-0972-483d-d65b-7351b489fb52"
      },
      "execution_count": null,
      "outputs": [
        {
          "output_type": "stream",
          "name": "stdout",
          "text": [
            "Epoch 1/200\n",
            "167/167 [==============================] - 1s 4ms/step - loss: 163.2885 - r2_score: -1.7804 - val_loss: 59.9079 - val_r2_score: 0.0189\n",
            "Epoch 2/200\n",
            "167/167 [==============================] - 0s 3ms/step - loss: 54.6017 - r2_score: 0.0703 - val_loss: 55.8720 - val_r2_score: 0.0850\n",
            "Epoch 3/200\n",
            "167/167 [==============================] - 0s 3ms/step - loss: 51.3699 - r2_score: 0.1253 - val_loss: 53.7895 - val_r2_score: 0.1191\n",
            "Epoch 4/200\n",
            "167/167 [==============================] - 0s 3ms/step - loss: 49.4424 - r2_score: 0.1581 - val_loss: 52.4790 - val_r2_score: 0.1406\n",
            "Epoch 5/200\n",
            "167/167 [==============================] - 0s 2ms/step - loss: 48.4300 - r2_score: 0.1753 - val_loss: 51.3863 - val_r2_score: 0.1585\n",
            "Epoch 6/200\n",
            "167/167 [==============================] - 0s 3ms/step - loss: 47.5974 - r2_score: 0.1895 - val_loss: 50.9745 - val_r2_score: 0.1652\n",
            "Epoch 7/200\n",
            "167/167 [==============================] - 0s 3ms/step - loss: 46.8198 - r2_score: 0.2028 - val_loss: 50.1953 - val_r2_score: 0.1780\n",
            "Epoch 8/200\n",
            "167/167 [==============================] - 0s 3ms/step - loss: 46.1837 - r2_score: 0.2136 - val_loss: 50.0258 - val_r2_score: 0.1807\n",
            "Epoch 9/200\n",
            "167/167 [==============================] - 0s 3ms/step - loss: 45.9929 - r2_score: 0.2168 - val_loss: 49.1449 - val_r2_score: 0.1952\n",
            "Epoch 10/200\n",
            "167/167 [==============================] - 1s 4ms/step - loss: 45.1685 - r2_score: 0.2309 - val_loss: 48.4474 - val_r2_score: 0.2066\n",
            "Epoch 11/200\n",
            "167/167 [==============================] - 1s 4ms/step - loss: 44.6832 - r2_score: 0.2391 - val_loss: 47.8151 - val_r2_score: 0.2169\n",
            "Epoch 12/200\n",
            "167/167 [==============================] - 1s 4ms/step - loss: 44.2726 - r2_score: 0.2461 - val_loss: 47.3917 - val_r2_score: 0.2239\n",
            "Epoch 13/200\n",
            "167/167 [==============================] - 1s 4ms/step - loss: 43.6975 - r2_score: 0.2559 - val_loss: 47.1118 - val_r2_score: 0.2285\n",
            "Epoch 14/200\n",
            "167/167 [==============================] - 1s 4ms/step - loss: 43.1796 - r2_score: 0.2647 - val_loss: 46.4868 - val_r2_score: 0.2387\n",
            "Epoch 15/200\n",
            "167/167 [==============================] - 1s 4ms/step - loss: 42.3431 - r2_score: 0.2790 - val_loss: 46.2988 - val_r2_score: 0.2418\n",
            "Epoch 16/200\n",
            "167/167 [==============================] - 1s 3ms/step - loss: 41.8089 - r2_score: 0.2881 - val_loss: 45.4772 - val_r2_score: 0.2552\n",
            "Epoch 17/200\n",
            "167/167 [==============================] - 0s 3ms/step - loss: 41.4139 - r2_score: 0.2948 - val_loss: 44.9806 - val_r2_score: 0.2634\n",
            "Epoch 18/200\n",
            "167/167 [==============================] - 0s 3ms/step - loss: 41.0139 - r2_score: 0.3016 - val_loss: 45.2160 - val_r2_score: 0.2595\n",
            "Epoch 19/200\n",
            "167/167 [==============================] - 0s 3ms/step - loss: 40.4697 - r2_score: 0.3109 - val_loss: 43.8896 - val_r2_score: 0.2812\n",
            "Epoch 20/200\n",
            "167/167 [==============================] - 0s 3ms/step - loss: 40.1584 - r2_score: 0.3162 - val_loss: 43.9177 - val_r2_score: 0.2808\n",
            "Epoch 21/200\n",
            "167/167 [==============================] - 0s 3ms/step - loss: 40.0790 - r2_score: 0.3175 - val_loss: 45.0459 - val_r2_score: 0.2623\n",
            "Epoch 22/200\n",
            "167/167 [==============================] - 0s 3ms/step - loss: 39.3215 - r2_score: 0.3304 - val_loss: 43.3731 - val_r2_score: 0.2897\n",
            "Epoch 23/200\n",
            "167/167 [==============================] - 0s 3ms/step - loss: 38.7583 - r2_score: 0.3400 - val_loss: 42.4009 - val_r2_score: 0.3056\n",
            "Epoch 24/200\n",
            "167/167 [==============================] - 0s 2ms/step - loss: 38.3312 - r2_score: 0.3473 - val_loss: 43.0862 - val_r2_score: 0.2944\n",
            "Epoch 25/200\n",
            "167/167 [==============================] - 0s 3ms/step - loss: 38.3739 - r2_score: 0.3466 - val_loss: 41.9173 - val_r2_score: 0.3135\n",
            "Epoch 26/200\n",
            "167/167 [==============================] - 0s 3ms/step - loss: 37.6947 - r2_score: 0.3581 - val_loss: 41.4705 - val_r2_score: 0.3208\n",
            "Epoch 27/200\n",
            "167/167 [==============================] - 0s 2ms/step - loss: 37.4913 - r2_score: 0.3616 - val_loss: 41.9910 - val_r2_score: 0.3123\n",
            "Epoch 28/200\n",
            "167/167 [==============================] - 0s 3ms/step - loss: 37.2364 - r2_score: 0.3660 - val_loss: 41.1953 - val_r2_score: 0.3254\n",
            "Epoch 29/200\n",
            "167/167 [==============================] - 0s 2ms/step - loss: 37.0119 - r2_score: 0.3698 - val_loss: 41.0292 - val_r2_score: 0.3281\n",
            "Epoch 30/200\n",
            "167/167 [==============================] - 0s 3ms/step - loss: 36.7702 - r2_score: 0.3739 - val_loss: 40.4602 - val_r2_score: 0.3374\n",
            "Epoch 31/200\n",
            "167/167 [==============================] - 0s 3ms/step - loss: 36.9058 - r2_score: 0.3716 - val_loss: 40.4652 - val_r2_score: 0.3373\n",
            "Epoch 32/200\n",
            "167/167 [==============================] - 0s 3ms/step - loss: 37.0705 - r2_score: 0.3688 - val_loss: 40.7192 - val_r2_score: 0.3332\n",
            "Epoch 33/200\n",
            "167/167 [==============================] - 0s 3ms/step - loss: 36.2671 - r2_score: 0.3825 - val_loss: 40.2036 - val_r2_score: 0.3416\n",
            "Epoch 34/200\n",
            "167/167 [==============================] - 0s 2ms/step - loss: 36.3003 - r2_score: 0.3819 - val_loss: 39.9222 - val_r2_score: 0.3462\n",
            "Epoch 35/200\n",
            "167/167 [==============================] - 0s 3ms/step - loss: 36.2688 - r2_score: 0.3824 - val_loss: 40.0433 - val_r2_score: 0.3442\n",
            "Epoch 36/200\n",
            "167/167 [==============================] - 0s 3ms/step - loss: 36.1668 - r2_score: 0.3842 - val_loss: 40.5295 - val_r2_score: 0.3363\n",
            "Epoch 37/200\n",
            "167/167 [==============================] - 0s 3ms/step - loss: 35.8188 - r2_score: 0.3901 - val_loss: 39.9425 - val_r2_score: 0.3459\n",
            "Epoch 38/200\n",
            "167/167 [==============================] - 1s 4ms/step - loss: 36.0944 - r2_score: 0.3854 - val_loss: 40.0611 - val_r2_score: 0.3439\n",
            "Epoch 39/200\n",
            "167/167 [==============================] - 1s 4ms/step - loss: 35.6063 - r2_score: 0.3937 - val_loss: 40.2349 - val_r2_score: 0.3411\n",
            "Epoch 40/200\n",
            "167/167 [==============================] - 1s 4ms/step - loss: 35.6703 - r2_score: 0.3926 - val_loss: 40.2167 - val_r2_score: 0.3414\n",
            "Epoch 41/200\n",
            "167/167 [==============================] - 1s 4ms/step - loss: 35.3113 - r2_score: 0.3987 - val_loss: 40.2329 - val_r2_score: 0.3411\n",
            "Epoch 42/200\n",
            "167/167 [==============================] - 1s 5ms/step - loss: 35.2258 - r2_score: 0.4002 - val_loss: 39.7191 - val_r2_score: 0.3495\n",
            "Epoch 43/200\n",
            "167/167 [==============================] - 1s 3ms/step - loss: 35.3202 - r2_score: 0.3986 - val_loss: 39.5679 - val_r2_score: 0.3520\n",
            "Epoch 44/200\n",
            "167/167 [==============================] - 0s 3ms/step - loss: 35.0401 - r2_score: 0.4033 - val_loss: 39.7725 - val_r2_score: 0.3487\n",
            "Epoch 45/200\n",
            "167/167 [==============================] - 0s 3ms/step - loss: 34.9660 - r2_score: 0.4046 - val_loss: 39.5616 - val_r2_score: 0.3521\n",
            "Epoch 46/200\n",
            "167/167 [==============================] - 0s 3ms/step - loss: 34.6875 - r2_score: 0.4094 - val_loss: 39.9530 - val_r2_score: 0.3457\n",
            "Epoch 47/200\n",
            "167/167 [==============================] - 0s 3ms/step - loss: 34.8374 - r2_score: 0.4068 - val_loss: 39.2416 - val_r2_score: 0.3573\n",
            "Epoch 48/200\n",
            "167/167 [==============================] - 0s 3ms/step - loss: 34.7438 - r2_score: 0.4084 - val_loss: 39.1911 - val_r2_score: 0.3582\n",
            "Epoch 49/200\n",
            "167/167 [==============================] - 0s 3ms/step - loss: 34.4399 - r2_score: 0.4136 - val_loss: 39.2619 - val_r2_score: 0.3570\n",
            "Epoch 50/200\n",
            "167/167 [==============================] - 0s 3ms/step - loss: 34.5320 - r2_score: 0.4120 - val_loss: 39.7162 - val_r2_score: 0.3496\n",
            "Epoch 51/200\n",
            "167/167 [==============================] - 0s 3ms/step - loss: 34.4429 - r2_score: 0.4135 - val_loss: 39.3718 - val_r2_score: 0.3552\n",
            "Epoch 52/200\n",
            "167/167 [==============================] - 0s 3ms/step - loss: 34.1752 - r2_score: 0.4181 - val_loss: 39.2568 - val_r2_score: 0.3571\n",
            "Epoch 53/200\n",
            "167/167 [==============================] - 0s 3ms/step - loss: 34.1914 - r2_score: 0.4178 - val_loss: 38.7191 - val_r2_score: 0.3659\n",
            "Epoch 54/200\n",
            "167/167 [==============================] - 0s 3ms/step - loss: 34.2275 - r2_score: 0.4172 - val_loss: 39.1006 - val_r2_score: 0.3597\n",
            "Epoch 55/200\n",
            "167/167 [==============================] - 0s 3ms/step - loss: 34.1982 - r2_score: 0.4177 - val_loss: 39.1356 - val_r2_score: 0.3591\n",
            "Epoch 56/200\n",
            "167/167 [==============================] - 0s 3ms/step - loss: 33.7850 - r2_score: 0.4247 - val_loss: 39.1625 - val_r2_score: 0.3586\n",
            "Epoch 57/200\n",
            "167/167 [==============================] - 0s 3ms/step - loss: 34.0218 - r2_score: 0.4207 - val_loss: 39.3951 - val_r2_score: 0.3548\n",
            "Epoch 58/200\n",
            "167/167 [==============================] - 0s 3ms/step - loss: 33.6712 - r2_score: 0.4267 - val_loss: 38.9947 - val_r2_score: 0.3614\n",
            "Epoch 59/200\n",
            "167/167 [==============================] - 0s 3ms/step - loss: 33.7043 - r2_score: 0.4261 - val_loss: 38.8400 - val_r2_score: 0.3639\n",
            "Epoch 60/200\n",
            "167/167 [==============================] - 0s 2ms/step - loss: 33.3411 - r2_score: 0.4323 - val_loss: 38.7702 - val_r2_score: 0.3651\n",
            "Epoch 61/200\n",
            "167/167 [==============================] - 0s 3ms/step - loss: 33.3830 - r2_score: 0.4316 - val_loss: 38.7739 - val_r2_score: 0.3650\n",
            "Epoch 62/200\n",
            "167/167 [==============================] - 0s 3ms/step - loss: 33.2930 - r2_score: 0.4331 - val_loss: 38.6627 - val_r2_score: 0.3668\n",
            "Epoch 63/200\n",
            "167/167 [==============================] - 0s 3ms/step - loss: 33.2470 - r2_score: 0.4339 - val_loss: 39.0707 - val_r2_score: 0.3601\n",
            "Epoch 64/200\n",
            "167/167 [==============================] - 1s 3ms/step - loss: 33.0288 - r2_score: 0.4376 - val_loss: 38.6520 - val_r2_score: 0.3670\n",
            "Epoch 65/200\n",
            "167/167 [==============================] - 1s 4ms/step - loss: 33.1959 - r2_score: 0.4347 - val_loss: 38.4688 - val_r2_score: 0.3700\n",
            "Epoch 66/200\n",
            "167/167 [==============================] - 1s 5ms/step - loss: 33.0207 - r2_score: 0.4377 - val_loss: 38.7629 - val_r2_score: 0.3652\n",
            "Epoch 67/200\n",
            "167/167 [==============================] - 1s 4ms/step - loss: 32.8464 - r2_score: 0.4407 - val_loss: 38.3334 - val_r2_score: 0.3722\n",
            "Epoch 68/200\n",
            "167/167 [==============================] - 1s 4ms/step - loss: 32.5756 - r2_score: 0.4453 - val_loss: 39.2117 - val_r2_score: 0.3578\n",
            "Epoch 69/200\n",
            "167/167 [==============================] - 1s 5ms/step - loss: 32.7247 - r2_score: 0.4428 - val_loss: 38.7679 - val_r2_score: 0.3651\n",
            "Epoch 70/200\n",
            "167/167 [==============================] - 1s 4ms/step - loss: 32.5374 - r2_score: 0.4460 - val_loss: 39.1558 - val_r2_score: 0.3588\n",
            "Epoch 71/200\n",
            "167/167 [==============================] - 0s 2ms/step - loss: 32.8222 - r2_score: 0.4411 - val_loss: 38.9105 - val_r2_score: 0.3628\n",
            "Epoch 72/200\n",
            "167/167 [==============================] - 0s 3ms/step - loss: 32.4822 - r2_score: 0.4469 - val_loss: 38.7201 - val_r2_score: 0.3659\n",
            "Epoch 73/200\n",
            "167/167 [==============================] - 0s 3ms/step - loss: 32.3112 - r2_score: 0.4498 - val_loss: 38.9384 - val_r2_score: 0.3623\n",
            "Epoch 74/200\n",
            "167/167 [==============================] - 0s 3ms/step - loss: 32.3279 - r2_score: 0.4495 - val_loss: 39.0023 - val_r2_score: 0.3613\n",
            "Epoch 75/200\n",
            "167/167 [==============================] - 0s 3ms/step - loss: 32.3625 - r2_score: 0.4489 - val_loss: 38.4195 - val_r2_score: 0.3708\n",
            "Epoch 76/200\n",
            "167/167 [==============================] - 0s 3ms/step - loss: 32.1580 - r2_score: 0.4524 - val_loss: 38.5785 - val_r2_score: 0.3682\n",
            "Epoch 77/200\n",
            "167/167 [==============================] - 0s 2ms/step - loss: 32.0686 - r2_score: 0.4539 - val_loss: 38.7603 - val_r2_score: 0.3652\n",
            "Epoch 78/200\n",
            "167/167 [==============================] - 0s 2ms/step - loss: 31.9131 - r2_score: 0.4566 - val_loss: 39.2520 - val_r2_score: 0.3572\n",
            "Epoch 79/200\n",
            "167/167 [==============================] - 0s 3ms/step - loss: 32.1034 - r2_score: 0.4534 - val_loss: 38.8371 - val_r2_score: 0.3640\n",
            "Epoch 80/200\n",
            "167/167 [==============================] - 0s 2ms/step - loss: 31.7832 - r2_score: 0.4588 - val_loss: 39.1004 - val_r2_score: 0.3597\n",
            "Epoch 81/200\n",
            "167/167 [==============================] - 0s 2ms/step - loss: 31.7236 - r2_score: 0.4598 - val_loss: 39.5623 - val_r2_score: 0.3521\n",
            "Epoch 82/200\n",
            "167/167 [==============================] - 0s 3ms/step - loss: 31.7390 - r2_score: 0.4596 - val_loss: 39.0243 - val_r2_score: 0.3609\n",
            "Epoch 83/200\n",
            "167/167 [==============================] - 0s 3ms/step - loss: 31.6309 - r2_score: 0.4614 - val_loss: 39.5880 - val_r2_score: 0.3517\n",
            "Epoch 84/200\n",
            "167/167 [==============================] - 0s 2ms/step - loss: 31.4822 - r2_score: 0.4639 - val_loss: 38.4148 - val_r2_score: 0.3709\n",
            "Epoch 85/200\n",
            "167/167 [==============================] - 0s 2ms/step - loss: 31.4363 - r2_score: 0.4647 - val_loss: 38.6881 - val_r2_score: 0.3664\n",
            "Epoch 86/200\n",
            "167/167 [==============================] - 0s 3ms/step - loss: 31.1682 - r2_score: 0.4693 - val_loss: 39.4308 - val_r2_score: 0.3542\n",
            "Epoch 87/200\n",
            "167/167 [==============================] - 0s 3ms/step - loss: 31.3141 - r2_score: 0.4668 - val_loss: 39.0622 - val_r2_score: 0.3603\n",
            "Epoch 88/200\n",
            "167/167 [==============================] - 0s 3ms/step - loss: 31.2053 - r2_score: 0.4686 - val_loss: 38.6895 - val_r2_score: 0.3664\n",
            "Epoch 89/200\n",
            "167/167 [==============================] - 0s 2ms/step - loss: 30.8637 - r2_score: 0.4745 - val_loss: 38.5097 - val_r2_score: 0.3693\n",
            "Epoch 90/200\n",
            "167/167 [==============================] - 0s 3ms/step - loss: 31.3200 - r2_score: 0.4667 - val_loss: 38.8056 - val_r2_score: 0.3645\n",
            "Epoch 91/200\n",
            "167/167 [==============================] - 0s 3ms/step - loss: 31.0867 - r2_score: 0.4707 - val_loss: 39.3464 - val_r2_score: 0.3556\n",
            "Epoch 92/200\n",
            "167/167 [==============================] - 0s 3ms/step - loss: 30.9094 - r2_score: 0.4737 - val_loss: 38.7629 - val_r2_score: 0.3652\n",
            "Epoch 93/200\n",
            "167/167 [==============================] - 1s 4ms/step - loss: 30.8298 - r2_score: 0.4750 - val_loss: 39.5895 - val_r2_score: 0.3517\n",
            "Epoch 94/200\n",
            "167/167 [==============================] - 1s 4ms/step - loss: 30.8270 - r2_score: 0.4751 - val_loss: 38.6936 - val_r2_score: 0.3663\n",
            "Epoch 95/200\n",
            "167/167 [==============================] - 1s 5ms/step - loss: 30.7553 - r2_score: 0.4763 - val_loss: 38.4720 - val_r2_score: 0.3700\n",
            "Epoch 96/200\n",
            "167/167 [==============================] - 1s 4ms/step - loss: 30.5935 - r2_score: 0.4791 - val_loss: 38.7359 - val_r2_score: 0.3656\n",
            "Epoch 97/200\n",
            "167/167 [==============================] - 1s 5ms/step - loss: 30.4275 - r2_score: 0.4819 - val_loss: 38.8600 - val_r2_score: 0.3636\n",
            "Epoch 98/200\n",
            "167/167 [==============================] - 1s 3ms/step - loss: 30.4513 - r2_score: 0.4815 - val_loss: 38.6039 - val_r2_score: 0.3678\n",
            "Epoch 99/200\n",
            "167/167 [==============================] - 0s 3ms/step - loss: 30.3693 - r2_score: 0.4829 - val_loss: 38.8202 - val_r2_score: 0.3642\n",
            "Epoch 100/200\n",
            "167/167 [==============================] - 0s 3ms/step - loss: 30.2428 - r2_score: 0.4850 - val_loss: 38.5567 - val_r2_score: 0.3686\n",
            "Epoch 101/200\n",
            "167/167 [==============================] - 0s 3ms/step - loss: 30.2553 - r2_score: 0.4848 - val_loss: 38.9829 - val_r2_score: 0.3616\n",
            "Epoch 102/200\n",
            "167/167 [==============================] - 0s 3ms/step - loss: 30.3234 - r2_score: 0.4837 - val_loss: 38.7271 - val_r2_score: 0.3658\n",
            "Epoch 103/200\n",
            "167/167 [==============================] - 0s 3ms/step - loss: 30.0962 - r2_score: 0.4875 - val_loss: 39.3635 - val_r2_score: 0.3554\n",
            "Epoch 104/200\n",
            "167/167 [==============================] - 0s 3ms/step - loss: 30.3060 - r2_score: 0.4840 - val_loss: 38.7034 - val_r2_score: 0.3662\n",
            "Epoch 105/200\n",
            "167/167 [==============================] - 0s 3ms/step - loss: 30.0886 - r2_score: 0.4877 - val_loss: 38.5186 - val_r2_score: 0.3692\n",
            "Epoch 106/200\n",
            "167/167 [==============================] - 0s 3ms/step - loss: 30.1178 - r2_score: 0.4872 - val_loss: 38.9612 - val_r2_score: 0.3619\n",
            "Epoch 107/200\n",
            "167/167 [==============================] - 0s 3ms/step - loss: 29.7444 - r2_score: 0.4935 - val_loss: 39.4437 - val_r2_score: 0.3540\n",
            "Epoch 108/200\n",
            "167/167 [==============================] - 0s 3ms/step - loss: 29.7164 - r2_score: 0.4940 - val_loss: 39.3046 - val_r2_score: 0.3563\n",
            "Epoch 109/200\n",
            "167/167 [==============================] - 0s 3ms/step - loss: 29.8440 - r2_score: 0.4918 - val_loss: 39.0061 - val_r2_score: 0.3612\n",
            "Epoch 110/200\n",
            "167/167 [==============================] - 0s 3ms/step - loss: 29.5582 - r2_score: 0.4967 - val_loss: 38.3936 - val_r2_score: 0.3712\n",
            "Epoch 111/200\n",
            "167/167 [==============================] - 0s 2ms/step - loss: 29.8945 - r2_score: 0.4910 - val_loss: 39.9098 - val_r2_score: 0.3464\n",
            "Epoch 112/200\n",
            "167/167 [==============================] - 1s 3ms/step - loss: 29.7833 - r2_score: 0.4929 - val_loss: 39.5009 - val_r2_score: 0.3531\n",
            "Epoch 113/200\n",
            "167/167 [==============================] - 0s 3ms/step - loss: 29.6368 - r2_score: 0.4954 - val_loss: 39.2505 - val_r2_score: 0.3572\n",
            "Epoch 114/200\n",
            "167/167 [==============================] - 1s 3ms/step - loss: 29.6548 - r2_score: 0.4950 - val_loss: 39.0372 - val_r2_score: 0.3607\n",
            "Epoch 115/200\n",
            "167/167 [==============================] - 0s 3ms/step - loss: 29.5157 - r2_score: 0.4974 - val_loss: 39.1651 - val_r2_score: 0.3586\n",
            "Epoch 116/200\n",
            "167/167 [==============================] - 0s 3ms/step - loss: 29.3287 - r2_score: 0.5006 - val_loss: 38.8581 - val_r2_score: 0.3636\n",
            "Epoch 117/200\n",
            "167/167 [==============================] - 0s 3ms/step - loss: 29.4804 - r2_score: 0.4980 - val_loss: 39.4246 - val_r2_score: 0.3544\n",
            "Epoch 118/200\n",
            "167/167 [==============================] - 0s 3ms/step - loss: 29.1807 - r2_score: 0.5031 - val_loss: 38.8186 - val_r2_score: 0.3643\n",
            "Epoch 119/200\n",
            "167/167 [==============================] - 1s 3ms/step - loss: 29.3652 - r2_score: 0.5000 - val_loss: 38.8392 - val_r2_score: 0.3639\n",
            "Epoch 120/200\n",
            "167/167 [==============================] - 1s 5ms/step - loss: 29.6282 - r2_score: 0.4955 - val_loss: 38.5984 - val_r2_score: 0.3679\n",
            "Epoch 121/200\n",
            "167/167 [==============================] - 1s 4ms/step - loss: 29.2289 - r2_score: 0.5023 - val_loss: 38.8917 - val_r2_score: 0.3631\n",
            "Epoch 122/200\n",
            "167/167 [==============================] - 1s 4ms/step - loss: 29.3415 - r2_score: 0.5004 - val_loss: 39.1341 - val_r2_score: 0.3591\n",
            "Epoch 123/200\n",
            "167/167 [==============================] - 1s 5ms/step - loss: 29.3747 - r2_score: 0.4998 - val_loss: 39.0279 - val_r2_score: 0.3608\n",
            "Epoch 124/200\n",
            "167/167 [==============================] - 1s 5ms/step - loss: 29.0370 - r2_score: 0.5056 - val_loss: 38.9541 - val_r2_score: 0.3621\n",
            "Epoch 125/200\n",
            "167/167 [==============================] - 1s 3ms/step - loss: 29.0511 - r2_score: 0.5053 - val_loss: 38.7737 - val_r2_score: 0.3650\n",
            "Epoch 126/200\n",
            "167/167 [==============================] - 0s 3ms/step - loss: 29.0156 - r2_score: 0.5059 - val_loss: 38.7748 - val_r2_score: 0.3650\n",
            "Epoch 127/200\n",
            "167/167 [==============================] - 0s 3ms/step - loss: 28.8687 - r2_score: 0.5084 - val_loss: 38.5407 - val_r2_score: 0.3688\n",
            "Epoch 128/200\n",
            "167/167 [==============================] - 0s 3ms/step - loss: 29.0069 - r2_score: 0.5061 - val_loss: 39.0074 - val_r2_score: 0.3612\n",
            "Epoch 129/200\n",
            "167/167 [==============================] - 0s 3ms/step - loss: 29.6831 - r2_score: 0.4946 - val_loss: 39.3320 - val_r2_score: 0.3559\n",
            "Epoch 130/200\n",
            "167/167 [==============================] - 0s 3ms/step - loss: 28.6188 - r2_score: 0.5127 - val_loss: 38.5072 - val_r2_score: 0.3694\n",
            "Epoch 131/200\n",
            "167/167 [==============================] - 0s 3ms/step - loss: 28.8196 - r2_score: 0.5093 - val_loss: 38.8731 - val_r2_score: 0.3634\n",
            "Epoch 132/200\n",
            "167/167 [==============================] - 0s 3ms/step - loss: 28.6663 - r2_score: 0.5119 - val_loss: 38.8282 - val_r2_score: 0.3641\n",
            "Epoch 133/200\n",
            "167/167 [==============================] - 0s 3ms/step - loss: 28.5572 - r2_score: 0.5137 - val_loss: 38.6262 - val_r2_score: 0.3674\n",
            "Epoch 134/200\n",
            "167/167 [==============================] - 0s 3ms/step - loss: 28.6199 - r2_score: 0.5127 - val_loss: 39.0462 - val_r2_score: 0.3605\n",
            "Epoch 135/200\n",
            "167/167 [==============================] - 1s 3ms/step - loss: 28.4634 - r2_score: 0.5153 - val_loss: 40.0627 - val_r2_score: 0.3439\n",
            "Epoch 136/200\n",
            "167/167 [==============================] - 0s 3ms/step - loss: 28.7567 - r2_score: 0.5103 - val_loss: 39.6670 - val_r2_score: 0.3504\n",
            "Epoch 137/200\n",
            "167/167 [==============================] - 1s 3ms/step - loss: 28.7741 - r2_score: 0.5100 - val_loss: 38.9179 - val_r2_score: 0.3626\n",
            "Epoch 138/200\n",
            "167/167 [==============================] - 0s 3ms/step - loss: 28.3978 - r2_score: 0.5165 - val_loss: 38.9874 - val_r2_score: 0.3615\n",
            "Epoch 139/200\n",
            "167/167 [==============================] - 0s 3ms/step - loss: 28.5051 - r2_score: 0.5146 - val_loss: 38.7081 - val_r2_score: 0.3661\n",
            "Epoch 140/200\n",
            "167/167 [==============================] - 0s 3ms/step - loss: 28.4658 - r2_score: 0.5153 - val_loss: 38.5411 - val_r2_score: 0.3688\n",
            "Epoch 141/200\n",
            "167/167 [==============================] - 0s 3ms/step - loss: 28.2234 - r2_score: 0.5194 - val_loss: 38.6785 - val_r2_score: 0.3666\n",
            "Epoch 142/200\n",
            "167/167 [==============================] - 0s 3ms/step - loss: 28.3030 - r2_score: 0.5181 - val_loss: 38.3766 - val_r2_score: 0.3715\n",
            "Epoch 143/200\n",
            "167/167 [==============================] - 0s 3ms/step - loss: 28.1789 - r2_score: 0.5202 - val_loss: 38.7343 - val_r2_score: 0.3657\n",
            "Epoch 144/200\n",
            "167/167 [==============================] - 1s 6ms/step - loss: 28.2182 - r2_score: 0.5195 - val_loss: 39.1846 - val_r2_score: 0.3583\n",
            "Epoch 145/200\n",
            "167/167 [==============================] - 1s 5ms/step - loss: 28.2789 - r2_score: 0.5185 - val_loss: 38.5393 - val_r2_score: 0.3688\n",
            "Epoch 146/200\n",
            "167/167 [==============================] - 1s 4ms/step - loss: 28.4318 - r2_score: 0.5159 - val_loss: 38.5647 - val_r2_score: 0.3684\n",
            "Epoch 147/200\n",
            "167/167 [==============================] - 1s 5ms/step - loss: 28.3044 - r2_score: 0.5180 - val_loss: 38.7160 - val_r2_score: 0.3660\n",
            "Epoch 148/200\n",
            "167/167 [==============================] - 1s 4ms/step - loss: 28.1014 - r2_score: 0.5215 - val_loss: 38.4783 - val_r2_score: 0.3698\n",
            "Epoch 149/200\n",
            "167/167 [==============================] - 1s 6ms/step - loss: 27.9225 - r2_score: 0.5245 - val_loss: 38.3583 - val_r2_score: 0.3718\n",
            "Epoch 150/200\n",
            "167/167 [==============================] - 1s 4ms/step - loss: 28.2040 - r2_score: 0.5198 - val_loss: 41.5234 - val_r2_score: 0.3200\n",
            "Epoch 151/200\n",
            "167/167 [==============================] - 0s 3ms/step - loss: 28.0948 - r2_score: 0.5216 - val_loss: 39.0959 - val_r2_score: 0.3597\n",
            "Epoch 152/200\n",
            "167/167 [==============================] - 1s 3ms/step - loss: 27.8957 - r2_score: 0.5250 - val_loss: 38.7006 - val_r2_score: 0.3662\n",
            "Epoch 153/200\n",
            "167/167 [==============================] - 0s 3ms/step - loss: 27.7590 - r2_score: 0.5273 - val_loss: 39.4587 - val_r2_score: 0.3538\n",
            "Epoch 154/200\n",
            "167/167 [==============================] - 1s 3ms/step - loss: 27.8864 - r2_score: 0.5252 - val_loss: 38.9051 - val_r2_score: 0.3629\n",
            "Epoch 155/200\n",
            "167/167 [==============================] - 0s 3ms/step - loss: 27.8617 - r2_score: 0.5256 - val_loss: 38.7134 - val_r2_score: 0.3660\n",
            "Epoch 156/200\n",
            "167/167 [==============================] - 1s 3ms/step - loss: 27.6813 - r2_score: 0.5287 - val_loss: 38.6725 - val_r2_score: 0.3667\n",
            "Epoch 157/200\n",
            "167/167 [==============================] - 1s 4ms/step - loss: 27.7008 - r2_score: 0.5283 - val_loss: 38.9894 - val_r2_score: 0.3615\n",
            "Epoch 158/200\n",
            "167/167 [==============================] - 1s 3ms/step - loss: 27.7316 - r2_score: 0.5278 - val_loss: 38.9904 - val_r2_score: 0.3615\n",
            "Epoch 159/200\n",
            "167/167 [==============================] - 1s 3ms/step - loss: 28.3864 - r2_score: 0.5166 - val_loss: 38.9166 - val_r2_score: 0.3627\n",
            "Epoch 160/200\n",
            "167/167 [==============================] - 0s 3ms/step - loss: 27.6434 - r2_score: 0.5293 - val_loss: 39.4695 - val_r2_score: 0.3536\n",
            "Epoch 161/200\n",
            "167/167 [==============================] - 0s 3ms/step - loss: 27.6750 - r2_score: 0.5288 - val_loss: 39.1562 - val_r2_score: 0.3587\n",
            "Epoch 162/200\n",
            "167/167 [==============================] - 0s 3ms/step - loss: 27.3781 - r2_score: 0.5338 - val_loss: 38.8554 - val_r2_score: 0.3637\n",
            "Epoch 163/200\n",
            "167/167 [==============================] - 0s 3ms/step - loss: 27.5109 - r2_score: 0.5316 - val_loss: 38.4558 - val_r2_score: 0.3702\n",
            "Epoch 164/200\n",
            "167/167 [==============================] - 0s 3ms/step - loss: 27.4073 - r2_score: 0.5333 - val_loss: 38.8190 - val_r2_score: 0.3643\n",
            "Epoch 165/200\n",
            "167/167 [==============================] - 0s 3ms/step - loss: 27.3548 - r2_score: 0.5342 - val_loss: 39.4872 - val_r2_score: 0.3533\n",
            "Epoch 166/200\n",
            "167/167 [==============================] - 0s 3ms/step - loss: 27.3207 - r2_score: 0.5348 - val_loss: 38.6733 - val_r2_score: 0.3667\n",
            "Epoch 167/200\n",
            "167/167 [==============================] - 0s 3ms/step - loss: 27.3888 - r2_score: 0.5336 - val_loss: 38.5550 - val_r2_score: 0.3686\n",
            "Epoch 168/200\n",
            "167/167 [==============================] - 0s 3ms/step - loss: 27.5246 - r2_score: 0.5313 - val_loss: 38.7171 - val_r2_score: 0.3659\n",
            "Epoch 169/200\n",
            "167/167 [==============================] - 0s 3ms/step - loss: 28.0803 - r2_score: 0.5219 - val_loss: 38.5918 - val_r2_score: 0.3680\n",
            "Epoch 170/200\n",
            "167/167 [==============================] - 1s 4ms/step - loss: 27.1905 - r2_score: 0.5370 - val_loss: 38.7237 - val_r2_score: 0.3658\n",
            "Epoch 171/200\n",
            "167/167 [==============================] - 1s 5ms/step - loss: 27.4504 - r2_score: 0.5326 - val_loss: 38.4601 - val_r2_score: 0.3701\n",
            "Epoch 172/200\n",
            "167/167 [==============================] - 1s 5ms/step - loss: 27.1076 - r2_score: 0.5384 - val_loss: 38.9164 - val_r2_score: 0.3627\n",
            "Epoch 173/200\n",
            "167/167 [==============================] - 2s 10ms/step - loss: 27.3247 - r2_score: 0.5347 - val_loss: 38.4913 - val_r2_score: 0.3696\n",
            "Epoch 174/200\n",
            "167/167 [==============================] - 1s 7ms/step - loss: 27.1538 - r2_score: 0.5376 - val_loss: 38.7194 - val_r2_score: 0.3659\n",
            "Epoch 175/200\n",
            "167/167 [==============================] - 0s 3ms/step - loss: 27.2428 - r2_score: 0.5361 - val_loss: 39.6102 - val_r2_score: 0.3513\n",
            "Epoch 176/200\n",
            "167/167 [==============================] - 0s 3ms/step - loss: 27.5902 - r2_score: 0.5302 - val_loss: 38.5701 - val_r2_score: 0.3683\n",
            "Epoch 177/200\n",
            "167/167 [==============================] - 0s 3ms/step - loss: 27.2237 - r2_score: 0.5364 - val_loss: 39.3509 - val_r2_score: 0.3556\n",
            "Epoch 178/200\n",
            "167/167 [==============================] - 0s 3ms/step - loss: 27.1980 - r2_score: 0.5369 - val_loss: 38.8815 - val_r2_score: 0.3632\n",
            "Epoch 179/200\n",
            "167/167 [==============================] - 0s 3ms/step - loss: 27.2631 - r2_score: 0.5358 - val_loss: 39.6022 - val_r2_score: 0.3514\n",
            "Epoch 180/200\n",
            "167/167 [==============================] - 0s 3ms/step - loss: 27.1538 - r2_score: 0.5376 - val_loss: 39.1601 - val_r2_score: 0.3587\n",
            "Epoch 181/200\n",
            "167/167 [==============================] - 0s 3ms/step - loss: 26.8126 - r2_score: 0.5434 - val_loss: 39.1028 - val_r2_score: 0.3596\n",
            "Epoch 182/200\n",
            "167/167 [==============================] - 0s 2ms/step - loss: 26.9270 - r2_score: 0.5415 - val_loss: 39.2126 - val_r2_score: 0.3578\n",
            "Epoch 183/200\n",
            "167/167 [==============================] - 0s 3ms/step - loss: 26.9329 - r2_score: 0.5414 - val_loss: 39.6277 - val_r2_score: 0.3510\n",
            "Epoch 184/200\n",
            "167/167 [==============================] - 0s 3ms/step - loss: 26.9857 - r2_score: 0.5405 - val_loss: 39.1561 - val_r2_score: 0.3587\n",
            "Epoch 185/200\n",
            "167/167 [==============================] - 0s 3ms/step - loss: 26.7521 - r2_score: 0.5445 - val_loss: 39.2830 - val_r2_score: 0.3567\n",
            "Epoch 186/200\n",
            "167/167 [==============================] - 0s 2ms/step - loss: 26.6769 - r2_score: 0.5458 - val_loss: 39.7363 - val_r2_score: 0.3492\n",
            "Epoch 187/200\n",
            "167/167 [==============================] - 0s 3ms/step - loss: 26.8089 - r2_score: 0.5435 - val_loss: 39.8544 - val_r2_score: 0.3473\n",
            "Epoch 188/200\n",
            "167/167 [==============================] - 0s 3ms/step - loss: 26.9791 - r2_score: 0.5406 - val_loss: 38.7940 - val_r2_score: 0.3647\n",
            "Epoch 189/200\n",
            "167/167 [==============================] - 0s 3ms/step - loss: 26.8744 - r2_score: 0.5424 - val_loss: 39.5338 - val_r2_score: 0.3526\n",
            "Epoch 190/200\n",
            "167/167 [==============================] - 0s 3ms/step - loss: 27.1784 - r2_score: 0.5372 - val_loss: 39.2117 - val_r2_score: 0.3578\n",
            "Epoch 191/200\n",
            "167/167 [==============================] - 0s 3ms/step - loss: 26.7315 - r2_score: 0.5448 - val_loss: 38.5105 - val_r2_score: 0.3693\n",
            "Epoch 192/200\n",
            "167/167 [==============================] - 0s 3ms/step - loss: 26.8409 - r2_score: 0.5430 - val_loss: 39.6932 - val_r2_score: 0.3500\n",
            "Epoch 193/200\n",
            "167/167 [==============================] - 0s 3ms/step - loss: 26.5823 - r2_score: 0.5474 - val_loss: 38.9823 - val_r2_score: 0.3616\n",
            "Epoch 194/200\n",
            "167/167 [==============================] - 0s 3ms/step - loss: 26.7159 - r2_score: 0.5451 - val_loss: 41.7437 - val_r2_score: 0.3164\n",
            "Epoch 195/200\n",
            "167/167 [==============================] - 1s 3ms/step - loss: 27.4941 - r2_score: 0.5318 - val_loss: 39.2097 - val_r2_score: 0.3579\n",
            "Epoch 196/200\n",
            "167/167 [==============================] - 1s 5ms/step - loss: 26.7303 - r2_score: 0.5448 - val_loss: 40.7242 - val_r2_score: 0.3331\n",
            "Epoch 197/200\n",
            "167/167 [==============================] - 1s 4ms/step - loss: 26.5747 - r2_score: 0.5475 - val_loss: 39.4906 - val_r2_score: 0.3533\n",
            "Epoch 198/200\n",
            "167/167 [==============================] - 1s 4ms/step - loss: 26.5630 - r2_score: 0.5477 - val_loss: 39.1332 - val_r2_score: 0.3591\n",
            "Epoch 199/200\n",
            "167/167 [==============================] - 1s 5ms/step - loss: 26.5687 - r2_score: 0.5476 - val_loss: 39.2372 - val_r2_score: 0.3574\n",
            "Epoch 200/200\n",
            "167/167 [==============================] - 1s 4ms/step - loss: 26.2819 - r2_score: 0.5525 - val_loss: 39.4813 - val_r2_score: 0.3534\n"
          ]
        }
      ]
    },
    {
      "cell_type": "code",
      "source": [
        "history_r_3.params"
      ],
      "metadata": {
        "colab": {
          "base_uri": "https://localhost:8080/"
        },
        "id": "iN7AAts90ZL_",
        "outputId": "64db7afb-f0e4-4cc4-c886-6eb8d4a13ad3"
      },
      "execution_count": null,
      "outputs": [
        {
          "output_type": "execute_result",
          "data": {
            "text/plain": [
              "{'verbose': 1, 'epochs': 200, 'steps': 167}"
            ]
          },
          "metadata": {},
          "execution_count": 218
        }
      ]
    },
    {
      "cell_type": "code",
      "source": [
        "pd.DataFrame(history_r_3.history).plot(figsize=(8, 5))\n",
        "plt.grid(True)\n",
        "plt.xlabel('Epoch')\n",
        "plt.show()"
      ],
      "metadata": {
        "colab": {
          "base_uri": "https://localhost:8080/",
          "height": 465
        },
        "id": "8o4TjESo0cBL",
        "outputId": "32de23d0-f1c5-4838-86d6-a26cac8b66bb"
      },
      "execution_count": null,
      "outputs": [
        {
          "output_type": "display_data",
          "data": {
            "text/plain": [
              "<Figure size 800x500 with 1 Axes>"
            ],
            "image/png": "[encoded data removed]"
          },
          "metadata": {}
        }
      ]
    }
  ]
}